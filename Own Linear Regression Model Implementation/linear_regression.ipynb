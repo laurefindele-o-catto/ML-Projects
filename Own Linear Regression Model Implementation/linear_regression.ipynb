{
 "cells": [
  {
   "cell_type": "markdown",
   "id": "482412b2",
   "metadata": {},
   "source": [
    "<h3><b>Implementing linear regression using only numpy:</b></h3>"
   ]
  },
  {
   "cell_type": "code",
   "execution_count": 9,
   "id": "6f5bd3d5",
   "metadata": {},
   "outputs": [],
   "source": [
    "import numpy as np\n",
    "import pandas as pd\n",
    "from sklearn.datasets import make_regression"
   ]
  },
  {
   "cell_type": "code",
   "execution_count": 10,
   "id": "d3bc0213",
   "metadata": {},
   "outputs": [],
   "source": [
    "def cost_function(X, Y, W, b):\n",
    "    '''\n",
    "    X = the training dataset (m, n)\n",
    "    Y = the prediction (m, 1)\n",
    "    W = weights (n, 1)\n",
    "    b = bias (1,)\n",
    "    '''\n",
    "    m = X.shape[0]\n",
    "    f_x = np.dot(X, W) + b\n",
    "    loss = f_x - Y\n",
    "    loss_sq = np.sum(loss**2)\n",
    "    cost = loss_sq/(2*m)\n",
    "    \n",
    "    return cost"
   ]
  },
  {
   "cell_type": "markdown",
   "id": "fdd7c978",
   "metadata": {},
   "source": [
    "Our goal is to minimize the squared error cost as computed above. For this, we implement the gradient descent algorithm."
   ]
  },
  {
   "cell_type": "code",
   "execution_count": 11,
   "id": "9b818eef",
   "metadata": {},
   "outputs": [],
   "source": [
    "def derivatives(X, Y, W, b):\n",
    "    m = X.shape[0]\n",
    "    f_x = np.dot(X, W) + b\n",
    "    loss = f_x - Y\n",
    "    \n",
    "    dj_db = np.sum(loss) * (1/m)\n",
    "    dj_dw = (1/m) * np.dot(X.T, loss)\n",
    "    \n",
    "    return dj_dw, dj_db"
   ]
  },
  {
   "cell_type": "code",
   "execution_count": 12,
   "id": "9a9d4dac",
   "metadata": {},
   "outputs": [],
   "source": [
    "def gradient_descent(X, Y, W, b, iterations = 10000, alpha = 1e-3):\n",
    "    cost_history = []\n",
    "    \n",
    "    for i in range(iterations):\n",
    "        dj_dw, dj_db = derivatives(X, Y, W, b)\n",
    "        W = W - alpha*dj_dw\n",
    "        b = b - alpha*dj_db\n",
    "        \n",
    "        if(i%1000 == 0):\n",
    "            cost = cost_function(X, Y, W, b)\n",
    "            print(f\"Cost at iteration {i} = {cost}\")\n",
    "            cost_history.append(cost)\n",
    "    \n",
    "    return W, b, cost_history"
   ]
  },
  {
   "cell_type": "code",
   "execution_count": 13,
   "id": "0a350c70",
   "metadata": {},
   "outputs": [
    {
     "name": "stdout",
     "output_type": "stream",
     "text": [
      "Cost at iteration 0 = 11010.734761798363\n",
      "Cost at iteration 1000 = 1406.0768016989439\n",
      "Cost at iteration 2000 = 204.16077975815466\n",
      "Cost at iteration 3000 = 53.215365916823345\n",
      "Cost at iteration 4000 = 34.18598612684518\n",
      "Cost at iteration 5000 = 31.776978166703984\n",
      "Cost at iteration 6000 = 31.470597402406447\n",
      "Cost at iteration 7000 = 31.431427594712975\n",
      "Cost at iteration 8000 = 31.42638997722395\n",
      "Cost at iteration 9000 = 31.425737656973837\n",
      "Cost at iteration 10000 = 31.425652524769383\n",
      "Cost at iteration 11000 = 31.425641314737515\n",
      "Cost at iteration 12000 = 31.425639823621605\n",
      "Cost at iteration 13000 = 31.425639623026044\n",
      "Cost at iteration 14000 = 31.425639595703718\n",
      "Cost at iteration 15000 = 31.425639591932256\n",
      "Cost at iteration 16000 = 31.425639591404305\n",
      "Cost at iteration 17000 = 31.42563959132933\n",
      "Cost at iteration 18000 = 31.425639591318536\n",
      "Cost at iteration 19000 = 31.425639591316955\n",
      "Cost at iteration 20000 = 31.425639591316713\n",
      "Cost at iteration 21000 = 31.425639591316678\n",
      "Cost at iteration 22000 = 31.42563959131668\n",
      "Cost at iteration 23000 = 31.42563959131668\n",
      "Cost at iteration 24000 = 31.425639591316674\n",
      "Cost at iteration 25000 = 31.425639591316674\n",
      "Cost at iteration 26000 = 31.425639591316674\n",
      "Cost at iteration 27000 = 31.425639591316678\n",
      "Cost at iteration 28000 = 31.425639591316674\n",
      "Cost at iteration 29000 = 31.425639591316674\n",
      "Cost at iteration 30000 = 31.425639591316674\n",
      "Cost at iteration 31000 = 31.425639591316674\n",
      "Cost at iteration 32000 = 31.425639591316674\n",
      "Cost at iteration 33000 = 31.425639591316667\n",
      "Cost at iteration 34000 = 31.425639591316674\n",
      "Cost at iteration 35000 = 31.425639591316674\n",
      "Cost at iteration 36000 = 31.425639591316674\n",
      "Cost at iteration 37000 = 31.425639591316674\n",
      "Cost at iteration 38000 = 31.425639591316674\n",
      "Cost at iteration 39000 = 31.425639591316674\n",
      "Cost at iteration 40000 = 31.425639591316674\n",
      "Cost at iteration 41000 = 31.425639591316674\n",
      "Cost at iteration 42000 = 31.425639591316674\n",
      "Cost at iteration 43000 = 31.425639591316674\n",
      "Cost at iteration 44000 = 31.425639591316674\n",
      "Cost at iteration 45000 = 31.425639591316674\n",
      "Cost at iteration 46000 = 31.425639591316674\n",
      "Cost at iteration 47000 = 31.425639591316674\n",
      "Cost at iteration 48000 = 31.425639591316674\n",
      "Cost at iteration 49000 = 31.425639591316674\n",
      "Cost at iteration 50000 = 31.425639591316674\n",
      "Cost at iteration 51000 = 31.425639591316674\n",
      "Cost at iteration 52000 = 31.425639591316674\n",
      "Cost at iteration 53000 = 31.425639591316674\n",
      "Cost at iteration 54000 = 31.425639591316674\n",
      "Cost at iteration 55000 = 31.425639591316674\n",
      "Cost at iteration 56000 = 31.425639591316674\n",
      "Cost at iteration 57000 = 31.425639591316674\n",
      "Cost at iteration 58000 = 31.425639591316674\n",
      "Cost at iteration 59000 = 31.425639591316674\n",
      "Cost at iteration 60000 = 31.425639591316674\n",
      "Cost at iteration 61000 = 31.425639591316674\n",
      "Cost at iteration 62000 = 31.425639591316674\n",
      "Cost at iteration 63000 = 31.425639591316674\n",
      "Cost at iteration 64000 = 31.425639591316674\n",
      "Cost at iteration 65000 = 31.425639591316674\n",
      "Cost at iteration 66000 = 31.425639591316674\n",
      "Cost at iteration 67000 = 31.425639591316674\n",
      "Cost at iteration 68000 = 31.425639591316674\n",
      "Cost at iteration 69000 = 31.425639591316674\n",
      "Cost at iteration 70000 = 31.425639591316674\n",
      "Cost at iteration 71000 = 31.425639591316674\n",
      "Cost at iteration 72000 = 31.425639591316674\n",
      "Cost at iteration 73000 = 31.425639591316674\n",
      "Cost at iteration 74000 = 31.425639591316674\n",
      "Cost at iteration 75000 = 31.425639591316674\n",
      "Cost at iteration 76000 = 31.425639591316674\n",
      "Cost at iteration 77000 = 31.425639591316674\n",
      "Cost at iteration 78000 = 31.425639591316674\n",
      "Cost at iteration 79000 = 31.425639591316674\n",
      "Cost at iteration 80000 = 31.425639591316674\n",
      "Cost at iteration 81000 = 31.425639591316674\n",
      "Cost at iteration 82000 = 31.425639591316674\n",
      "Cost at iteration 83000 = 31.425639591316674\n",
      "Cost at iteration 84000 = 31.425639591316674\n",
      "Cost at iteration 85000 = 31.425639591316674\n",
      "Cost at iteration 86000 = 31.425639591316674\n",
      "Cost at iteration 87000 = 31.425639591316674\n",
      "Cost at iteration 88000 = 31.425639591316674\n",
      "Cost at iteration 89000 = 31.425639591316674\n",
      "Cost at iteration 90000 = 31.425639591316674\n",
      "Cost at iteration 91000 = 31.425639591316674\n",
      "Cost at iteration 92000 = 31.425639591316674\n",
      "Cost at iteration 93000 = 31.425639591316674\n",
      "Cost at iteration 94000 = 31.425639591316674\n",
      "Cost at iteration 95000 = 31.425639591316674\n",
      "Cost at iteration 96000 = 31.425639591316674\n",
      "Cost at iteration 97000 = 31.425639591316674\n",
      "Cost at iteration 98000 = 31.425639591316674\n",
      "Cost at iteration 99000 = 31.425639591316674\n",
      "The trained model gives parameters:\n",
      "W:  [50.70694138 81.0433514  65.79918434  5.43930462 87.70571851]\n",
      "b:  -0.35265988983299223\n"
     ]
    }
   ],
   "source": [
    "X, Y = make_regression(n_samples = 1500, n_features = 5, noise = 8, random_state = 11)\n",
    "\n",
    "feature_names = [f\"feature{i+1}\" for i in range(X.shape[1])]\n",
    "X_df = pd.DataFrame(X, columns=feature_names)\n",
    "w = np.zeros(X_df.shape[1])\n",
    "\n",
    "W_final, b_final, cost_history = gradient_descent(X_df, Y, w, 0, 100000)\n",
    "\n",
    "print(\"The trained model gives parameters:\")\n",
    "print(\"W: \", W_final)\n",
    "print(\"b: \", b_final)"
   ]
  },
  {
   "cell_type": "markdown",
   "id": "43066f58",
   "metadata": {},
   "source": [
    "Plotting the data:"
   ]
  },
  {
   "cell_type": "code",
   "execution_count": 15,
   "id": "3d39369d",
   "metadata": {},
   "outputs": [
    {
     "data": {
      "image/png": "[encoded data removed]",
      "text/plain": [
       "<Figure size 640x480 with 1 Axes>"
      ]
     },
     "metadata": {},
     "output_type": "display_data"
    }
   ],
   "source": [
    "import matplotlib.pyplot as plt\n",
    "\n",
    "X_np = X_df.to_numpy()\n",
    "y_pred = np.dot(X_np, W_final) + b_final\n",
    "\n",
    "plt.scatter(Y, y_pred, color = \"blue\")\n",
    "plt.xlabel(\"Actual Y\")\n",
    "plt.ylabel(\"Predicted Y\")\n",
    "plt.title(\"Predicted vs Actual Y\")\n",
    "plt.plot([Y.min(), Y.max()],[Y.min(), Y.max()], 'r--') \n",
    "plt.show()"
   ]
  },
  {
   "cell_type": "markdown",
   "id": "6a70ed17",
   "metadata": {},
   "source": [
    "Thus, the model can perform linear regression pretty accurately."
   ]
  }
 ],
 "metadata": {
  "kernelspec": {
   "display_name": "Python 3",
   "language": "python",
   "name": "python3"
  },
  "language_info": {
   "codemirror_mode": {
    "name": "ipython",
    "version": 3
   },
   "file_extension": ".py",
   "mimetype": "text/x-python",
   "name": "python",
   "nbconvert_exporter": "python",
   "pygments_lexer": "ipython3",
   "version": "3.12.7"
  }
 },
 "nbformat": 4,
 "nbformat_minor": 5
}
