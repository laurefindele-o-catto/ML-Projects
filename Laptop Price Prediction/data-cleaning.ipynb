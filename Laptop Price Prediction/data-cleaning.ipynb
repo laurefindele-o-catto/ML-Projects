{
 "cells": [
  {
   "cell_type": "markdown",
   "metadata": {},
   "source": [
    " This notebook is adapted from: \n",
    "\n",
    " \"Data Cleaning\" by Shahriar Kabir\n",
    "\n",
    " Source: https://www.kaggle.com/code/shahriarkabir/data-cleaning#Data-Cleaning-Order\n",
    "\n",
    " Licensed under the Apache License, Version 2.0 (http://www.apache.org/licenses/LICENSE-2.0)\n",
    " \n",
    " Modifications: reduced comments to get the cleaning\n"
   ]
  },
  {
   "cell_type": "code",
   "execution_count": 62,
   "metadata": {
    "_cell_guid": "b1076dfc-b9ad-4769-8c92-a6c4dae69d19",
    "_uuid": "8f2839f25d086af736a60e9eeb907d3b93b6e0e5",
    "execution": {
     "iopub.execute_input": "2024-12-01T19:27:08.428178Z",
     "iopub.status.busy": "2024-12-01T19:27:08.426422Z",
     "iopub.status.idle": "2024-12-01T19:27:09.761166Z",
     "shell.execute_reply": "2024-12-01T19:27:09.759799Z",
     "shell.execute_reply.started": "2024-12-01T19:27:08.428108Z"
    },
    "trusted": true
   },
   "outputs": [],
   "source": [
    "import numpy as np # linear algebra\n",
    "import pandas as pd # data processing, CSV file I/O (e.g. pd.read_csv)"
   ]
  },
  {
   "cell_type": "code",
   "execution_count": 63,
   "metadata": {
    "execution": {
     "iopub.execute_input": "2024-03-03T03:50:05.569977Z",
     "iopub.status.busy": "2024-03-03T03:50:05.568887Z",
     "iopub.status.idle": "2024-03-03T03:50:05.584269Z",
     "shell.execute_reply": "2024-03-03T03:50:05.582526Z",
     "shell.execute_reply.started": "2024-03-03T03:50:05.569944Z"
    },
    "trusted": true
   },
   "outputs": [],
   "source": [
    "# load dataset\n",
    "df = pd.read_csv('laptopData.csv')"
   ]
  },
  {
   "cell_type": "code",
   "execution_count": 64,
   "metadata": {
    "execution": {
     "iopub.execute_input": "2024-03-03T03:50:05.586142Z",
     "iopub.status.busy": "2024-03-03T03:50:05.585815Z",
     "iopub.status.idle": "2024-03-03T03:50:05.592741Z",
     "shell.execute_reply": "2024-03-03T03:50:05.591914Z",
     "shell.execute_reply.started": "2024-03-03T03:50:05.586118Z"
    },
    "trusted": true
   },
   "outputs": [],
   "source": [
    "# remove Unnamed: 0 column from this dataset \n",
    "# cause this column is not important \n",
    "df.drop('Unnamed: 0', axis=1, inplace=True)"
   ]
  },
  {
   "cell_type": "markdown",
   "metadata": {},
   "source": [
    "# Issues with the dataset\n",
    "\n",
    "**`Dirty Data`**\n",
    "\n",
    "\n",
    "- 30 rows out of 1303 are totally missing along with their 11 columns, the primary data quality issue is a `completeness`.\n",
    "\n",
    "- 58 duplicated rows detected, with 30 rows containing all null values, indicating potential data entry errors or missing information.`completeness`\n",
    "\n",
    "\n",
    "- **`Company`:**\n",
    "\n",
    "- The \"Company\" column contains values that are expected to represent model names, with \"Acer\" being an example, but instead includes \"Vero,\"`consistency`\n",
    "\n",
    "- **`TypeName`:**\n",
    "\n",
    "- To correct the misspelled value \"notbook\" to \"notebook\" in the \"TypeName\" column.`consistency`\n",
    "- Inconsistent data type for the \"TypeName\" column.`consistency`\n",
    "\n",
    "- **`Inches`:**\n",
    "\n",
    "- Convert all centimeter (cm) values to inches for consistency in measurement units.`consistency`\n",
    "\n",
    "- The presence of '?' values in the \"inches\" column indicates missing or invalid data. `Validity`\n",
    "\n",
    "- all Ichces column that are >= 24 need to verify manually `consistency`\n",
    "\n",
    "- **`Ram`**\n",
    "\n",
    "- Cleanse the RAM column to retain only numerical values, excluding the unit 'GB', for improved data consistency and analysis.`consistency`\n",
    "\n",
    "- Some inconsistencies are observed in the RAM sizes listed, which do not align with other features of the laptops. Manual verification through reliable sources such as Google is necessary to rectify these discrepancies and ensure accurate representation of RAM specifications.`accuracy`\n",
    "\n",
    "- **`Memory`**\n",
    "\n",
    "- resolving the '?' entries in the memory column `completeness`\n",
    "\n",
    "- **`Gpu`**\n",
    "- Extracting only GPU brand from the 'Gpu' column may lead to potential data loss of specific GPU model information, impacting the understanding of GPU performance relative to laptop prices.`accuracy`\n",
    "\n",
    "- **`OpSys`**\n",
    "- Inconsistency in mentioning \"Android\" as the operating system for a Lenovo 2-in-1 convertible device raises accuracy concerns in the dataset.`consistency`\n",
    "\n",
    "- The issue in the OS column some os values is inconsistency in operating system versions, leading to potential data quality problems.`consistency`\n",
    "\n",
    "- **`Weight`**\n",
    "- there is an inconsistency where one laptop's weight is listed as 0.0002kg, which seems implausible and raises concerns about data accuracy.`validity`\n",
    "\n",
    "- The recorded weights for Acer, Toshiba, and Lenovo laptops are notably higher than anticipated. Upon manual verification via Google, it was discovered that the actual weights are considerably lower, suggesting potential inaccuracies in the dataset. The corrected weights for Acer, Toshiba, and Lenovo laptops should be 2.2kg, 1.39kg, and 1.27kg, respectively.`validity`\n",
    "\n",
    "**`Messy Data`**\n",
    "\n",
    "- **`ScreenResolution`**\n",
    "- Convert \"ScreenResolution\" column into multiple columns to separate resolution dimensions and display type for improved data structure and analysis.\n",
    "\n",
    "- **`Cpu`**\n",
    "- Optimize data structure and analysis by transforming the \"CPU\" column into multiple columns, facilitating accurate extraction of processor brand, type, and speed.\n",
    "\n",
    "- **`Memory`**\n",
    "\n",
    "- The memory column exhibits structural inconsistencies, necessitating transformation into two separate columns for SSD and HDD memory sizes. This restructuring will enhance data clarity and facilitate more precise analysis of storage specifications across laptops."
   ]
  },
  {
   "cell_type": "code",
   "execution_count": 65,
   "metadata": {
    "execution": {
     "iopub.execute_input": "2024-03-03T03:50:05.594418Z",
     "iopub.status.busy": "2024-03-03T03:50:05.593833Z",
     "iopub.status.idle": "2024-03-03T03:50:05.606384Z",
     "shell.execute_reply": "2024-03-03T03:50:05.605559Z",
     "shell.execute_reply.started": "2024-03-03T03:50:05.594384Z"
    },
    "trusted": true
   },
   "outputs": [],
   "source": [
    "# copy dataframe as tem_df\n",
    "tem_df = df.copy()"
   ]
  },
  {
   "cell_type": "code",
   "execution_count": 66,
   "metadata": {
    "execution": {
     "iopub.execute_input": "2024-03-03T03:50:05.897305Z",
     "iopub.status.busy": "2024-03-03T03:50:05.896845Z",
     "iopub.status.idle": "2024-03-03T03:50:05.91167Z",
     "shell.execute_reply": "2024-03-03T03:50:05.910458Z",
     "shell.execute_reply.started": "2024-03-03T03:50:05.897274Z"
    },
    "trusted": true
   },
   "outputs": [
    {
     "data": {
      "text/plain": [
       "array(['13.3', '15.6', '15.4', '14', '12', nan, '17.3', '13.5', '12.5',\n",
       "       '13', '18.4', '13.9', '11.6', '25.6', '35.6', '12.3', '27.3', '24',\n",
       "       '33.5', '?', '31.6', '17', '15', '14.1', '11.3', '10.1'],\n",
       "      dtype=object)"
      ]
     },
     "execution_count": 66,
     "metadata": {},
     "output_type": "execute_result"
    }
   ],
   "source": [
    "# unique tem_df Inches columns\n",
    "tem_df['Inches'].unique()"
   ]
  },
  {
   "cell_type": "code",
   "execution_count": 67,
   "metadata": {
    "execution": {
     "iopub.execute_input": "2024-03-03T03:50:05.913288Z",
     "iopub.status.busy": "2024-03-03T03:50:05.912977Z",
     "iopub.status.idle": "2024-03-03T03:50:05.927969Z",
     "shell.execute_reply": "2024-03-03T03:50:05.926708Z",
     "shell.execute_reply.started": "2024-03-03T03:50:05.913264Z"
    },
    "trusted": true
   },
   "outputs": [
    {
     "data": {
      "text/plain": [
       "ScreenResolution\n",
       "Full                                 540\n",
       "IPS Panel Full                       283\n",
       "1366x768                             274\n",
       "IPS Panel 4K Ultra                    23\n",
       "1600x900                              23\n",
       "Quad                                  17\n",
       "IPS Panel Retina                      17\n",
       "4K Ultra                              16\n",
       "Touchscreen 1366x768                  16\n",
       "IPS Panel Quad                        11\n",
       "IPS Panel 1366x768                     7\n",
       "Touchscreen 2560x1440                  6\n",
       "Touchscreen 2256x1504                  6\n",
       "IPS Panel Touchscreen 2560x1440        5\n",
       "IPS Panel 2560x1440                    4\n",
       "1440x900                               4\n",
       "2560x1440                              3\n",
       "Touchscreen 2400x1600                  3\n",
       "1920x1080                              3\n",
       "IPS Panel Touchscreen 1366x768         3\n",
       "IPS Panel Touchscreen 1920x1200        3\n",
       "IPS Panel Touchscreen / 4K Ultra       2\n",
       "Touchscreen / Quad                     1\n",
       "Touchscreen / Full                     1\n",
       "Touchscreen / 4K Ultra                 1\n",
       "IPS Panel Touchscreen 2400x1600        1\n",
       "Name: count, dtype: int64"
      ]
     },
     "execution_count": 67,
     "metadata": {},
     "output_type": "execute_result"
    }
   ],
   "source": [
    "tem_df['ScreenResolution'].str.split('HD').str.get(0).str.split('Display').str.get(0).value_counts()"
   ]
  },
  {
   "cell_type": "code",
   "execution_count": 68,
   "metadata": {
    "execution": {
     "iopub.execute_input": "2024-03-03T03:50:05.929892Z",
     "iopub.status.busy": "2024-03-03T03:50:05.929483Z",
     "iopub.status.idle": "2024-03-03T03:50:05.949081Z",
     "shell.execute_reply": "2024-03-03T03:50:05.94799Z",
     "shell.execute_reply.started": "2024-03-03T03:50:05.929871Z"
    },
    "trusted": true
   },
   "outputs": [
    {
     "data": {
      "text/plain": [
       "0  \n",
       "NaN    944\n",
       "IPS    359\n",
       "Name: count, dtype: int64"
      ]
     },
     "execution_count": 68,
     "metadata": {},
     "output_type": "execute_result"
    }
   ],
   "source": [
    "tem_df['ScreenResolution'].str.extract(r'([A-Za-z\\s]+) Panel').value_counts(dropna=False)"
   ]
  },
  {
   "cell_type": "code",
   "execution_count": 69,
   "metadata": {
    "execution": {
     "iopub.execute_input": "2024-03-03T03:50:05.950812Z",
     "iopub.status.busy": "2024-03-03T03:50:05.950419Z",
     "iopub.status.idle": "2024-03-03T03:50:05.967567Z",
     "shell.execute_reply": "2024-03-03T03:50:05.966398Z",
     "shell.execute_reply.started": "2024-03-03T03:50:05.950779Z"
    },
    "trusted": true
   },
   "outputs": [
    {
     "data": {
      "text/plain": [
       "Index(['1920x1080', '1366x768', '3840x2160', '3200x1800', '1600x900',\n",
       "       '2560x1440', '2304x1440', '2560x1600', '2256x1504', '2880x1800',\n",
       "       '1440x900', '1920x1200', '2400x1600', '2160x1440', '2736x1824'],\n",
       "      dtype='object', name='ScreenResolution')"
      ]
     },
     "execution_count": 69,
     "metadata": {},
     "output_type": "execute_result"
    }
   ],
   "source": [
    "# Regular expression pattern to find resolutions\n",
    "pattern = r'\\b\\d{3,4}x\\d{3,4}\\b'\n",
    "\n",
    "# Find resolutions for each value in the Series\n",
    "tem_df['ScreenResolution'].str.findall(pattern).str.get(0).value_counts().index"
   ]
  },
  {
   "cell_type": "code",
   "execution_count": 70,
   "metadata": {
    "execution": {
     "iopub.execute_input": "2024-03-03T03:50:05.970166Z",
     "iopub.status.busy": "2024-03-03T03:50:05.969788Z",
     "iopub.status.idle": "2024-03-03T03:50:05.994427Z",
     "shell.execute_reply": "2024-03-03T03:50:05.99329Z",
     "shell.execute_reply.started": "2024-03-03T03:50:05.97012Z"
    },
    "trusted": true
   },
   "outputs": [
    {
     "data": {
      "text/html": [
       "<div>\n",
       "<style scoped>\n",
       "    .dataframe tbody tr th:only-of-type {\n",
       "        vertical-align: middle;\n",
       "    }\n",
       "\n",
       "    .dataframe tbody tr th {\n",
       "        vertical-align: top;\n",
       "    }\n",
       "\n",
       "    .dataframe thead th {\n",
       "        text-align: right;\n",
       "    }\n",
       "</style>\n",
       "<table border=\"1\" class=\"dataframe\">\n",
       "  <thead>\n",
       "    <tr style=\"text-align: right;\">\n",
       "      <th></th>\n",
       "      <th>Company</th>\n",
       "      <th>TypeName</th>\n",
       "      <th>Inches</th>\n",
       "      <th>ScreenResolution</th>\n",
       "      <th>Cpu</th>\n",
       "      <th>Ram</th>\n",
       "      <th>Memory</th>\n",
       "      <th>Gpu</th>\n",
       "      <th>OpSys</th>\n",
       "      <th>Weight</th>\n",
       "      <th>Price</th>\n",
       "    </tr>\n",
       "  </thead>\n",
       "  <tbody>\n",
       "    <tr>\n",
       "      <th>2</th>\n",
       "      <td>HP</td>\n",
       "      <td>Notebook</td>\n",
       "      <td>15.6</td>\n",
       "      <td>Full HD 1920x1080</td>\n",
       "      <td>Intel Core i5 7200U 2.5GHz</td>\n",
       "      <td>8GB</td>\n",
       "      <td>256GB SSD</td>\n",
       "      <td>Intel HD Graphics 620</td>\n",
       "      <td>No OS</td>\n",
       "      <td>1.86kg</td>\n",
       "      <td>30636.0000</td>\n",
       "    </tr>\n",
       "    <tr>\n",
       "      <th>8</th>\n",
       "      <td>Asus</td>\n",
       "      <td>Ultrabook</td>\n",
       "      <td>14</td>\n",
       "      <td>Full HD 1920x1080</td>\n",
       "      <td>Intel Core i7 8550U 1.8GHz</td>\n",
       "      <td>16GB</td>\n",
       "      <td>512GB SSD</td>\n",
       "      <td>Nvidia GeForce MX150</td>\n",
       "      <td>Windows 10</td>\n",
       "      <td>1.3kg</td>\n",
       "      <td>79653.6000</td>\n",
       "    </tr>\n",
       "    <tr>\n",
       "      <th>9</th>\n",
       "      <td>Acer</td>\n",
       "      <td>Ultrabook</td>\n",
       "      <td>14</td>\n",
       "      <td>IPS Panel Full HD 1920x1080</td>\n",
       "      <td>Intel Core i5 8250U 1.6GHz</td>\n",
       "      <td>8GB</td>\n",
       "      <td>256GB SSD</td>\n",
       "      <td>Intel UHD Graphics 620</td>\n",
       "      <td>Windows 10</td>\n",
       "      <td>1.6kg</td>\n",
       "      <td>41025.6000</td>\n",
       "    </tr>\n",
       "    <tr>\n",
       "      <th>11</th>\n",
       "      <td>HP</td>\n",
       "      <td>Notebook</td>\n",
       "      <td>15.6</td>\n",
       "      <td>Full HD 1920x1080</td>\n",
       "      <td>Intel Core i3 6006U 2GHz</td>\n",
       "      <td>4GB</td>\n",
       "      <td>500GB HDD</td>\n",
       "      <td>Intel HD Graphics 520</td>\n",
       "      <td>No OS</td>\n",
       "      <td>1.86kg</td>\n",
       "      <td>18381.0672</td>\n",
       "    </tr>\n",
       "    <tr>\n",
       "      <th>13</th>\n",
       "      <td>Dell</td>\n",
       "      <td>Notebook</td>\n",
       "      <td>15.6</td>\n",
       "      <td>Full HD 1920x1080</td>\n",
       "      <td>Intel Core i3 6006U 2GHz</td>\n",
       "      <td>4GB</td>\n",
       "      <td>256GB SSD</td>\n",
       "      <td>AMD Radeon R5 M430</td>\n",
       "      <td>Windows 10</td>\n",
       "      <td>2.2kg</td>\n",
       "      <td>26581.3920</td>\n",
       "    </tr>\n",
       "    <tr>\n",
       "      <th>...</th>\n",
       "      <td>...</td>\n",
       "      <td>...</td>\n",
       "      <td>...</td>\n",
       "      <td>...</td>\n",
       "      <td>...</td>\n",
       "      <td>...</td>\n",
       "      <td>...</td>\n",
       "      <td>...</td>\n",
       "      <td>...</td>\n",
       "      <td>...</td>\n",
       "      <td>...</td>\n",
       "    </tr>\n",
       "    <tr>\n",
       "      <th>1284</th>\n",
       "      <td>Lenovo</td>\n",
       "      <td>2 in 1 Convertible</td>\n",
       "      <td>14</td>\n",
       "      <td>IPS Panel Full HD / Touchscreen 1920x1080</td>\n",
       "      <td>Intel Core i7 6500U 2.5GHz</td>\n",
       "      <td>4GB</td>\n",
       "      <td>128GB SSD</td>\n",
       "      <td>Intel HD Graphics 520</td>\n",
       "      <td>Windows 10</td>\n",
       "      <td>1.8kg</td>\n",
       "      <td>33992.6400</td>\n",
       "    </tr>\n",
       "    <tr>\n",
       "      <th>1289</th>\n",
       "      <td>Asus</td>\n",
       "      <td>Ultrabook</td>\n",
       "      <td>13.3</td>\n",
       "      <td>IPS Panel Full HD 1920x1080</td>\n",
       "      <td>Intel Core M 6Y30 0.9GHz</td>\n",
       "      <td>8GB</td>\n",
       "      <td>512GB SSD</td>\n",
       "      <td>Intel HD Graphics 515</td>\n",
       "      <td>Windows 10</td>\n",
       "      <td>1.2kg</td>\n",
       "      <td>38841.1200</td>\n",
       "    </tr>\n",
       "    <tr>\n",
       "      <th>1293</th>\n",
       "      <td>Lenovo</td>\n",
       "      <td>Notebook</td>\n",
       "      <td>15.6</td>\n",
       "      <td>IPS Panel Full HD 1920x1080</td>\n",
       "      <td>Intel Core i7 6700HQ 2.6GHz</td>\n",
       "      <td>8GB</td>\n",
       "      <td>1TB HDD</td>\n",
       "      <td>Nvidia GeForce GTX 960M</td>\n",
       "      <td>Windows 10</td>\n",
       "      <td>2.6kg</td>\n",
       "      <td>47898.7200</td>\n",
       "    </tr>\n",
       "    <tr>\n",
       "      <th>1294</th>\n",
       "      <td>HP</td>\n",
       "      <td>Notebook</td>\n",
       "      <td>15.6</td>\n",
       "      <td>Full HD 1920x1080</td>\n",
       "      <td>AMD A9-Series 9410 2.9GHz</td>\n",
       "      <td>6GB</td>\n",
       "      <td>1.0TB Hybrid</td>\n",
       "      <td>AMD Radeon R7 M440</td>\n",
       "      <td>Windows 10</td>\n",
       "      <td>2.04kg</td>\n",
       "      <td>29303.4672</td>\n",
       "    </tr>\n",
       "    <tr>\n",
       "      <th>1298</th>\n",
       "      <td>Lenovo</td>\n",
       "      <td>2 in 1 Convertible</td>\n",
       "      <td>14</td>\n",
       "      <td>IPS Panel Full HD / Touchscreen 1920x1080</td>\n",
       "      <td>Intel Core i7 6500U 2.5GHz</td>\n",
       "      <td>4GB</td>\n",
       "      <td>128GB SSD</td>\n",
       "      <td>Intel HD Graphics 520</td>\n",
       "      <td>Windows 10</td>\n",
       "      <td>1.8kg</td>\n",
       "      <td>33992.6400</td>\n",
       "    </tr>\n",
       "  </tbody>\n",
       "</table>\n",
       "<p>824 rows × 11 columns</p>\n",
       "</div>"
      ],
      "text/plain": [
       "     Company            TypeName Inches  \\\n",
       "2         HP            Notebook   15.6   \n",
       "8       Asus           Ultrabook     14   \n",
       "9       Acer           Ultrabook     14   \n",
       "11        HP            Notebook   15.6   \n",
       "13      Dell            Notebook   15.6   \n",
       "...      ...                 ...    ...   \n",
       "1284  Lenovo  2 in 1 Convertible     14   \n",
       "1289    Asus           Ultrabook   13.3   \n",
       "1293  Lenovo            Notebook   15.6   \n",
       "1294      HP            Notebook   15.6   \n",
       "1298  Lenovo  2 in 1 Convertible     14   \n",
       "\n",
       "                               ScreenResolution                          Cpu  \\\n",
       "2                             Full HD 1920x1080   Intel Core i5 7200U 2.5GHz   \n",
       "8                             Full HD 1920x1080   Intel Core i7 8550U 1.8GHz   \n",
       "9                   IPS Panel Full HD 1920x1080   Intel Core i5 8250U 1.6GHz   \n",
       "11                            Full HD 1920x1080     Intel Core i3 6006U 2GHz   \n",
       "13                            Full HD 1920x1080     Intel Core i3 6006U 2GHz   \n",
       "...                                         ...                          ...   \n",
       "1284  IPS Panel Full HD / Touchscreen 1920x1080   Intel Core i7 6500U 2.5GHz   \n",
       "1289                IPS Panel Full HD 1920x1080     Intel Core M 6Y30 0.9GHz   \n",
       "1293                IPS Panel Full HD 1920x1080  Intel Core i7 6700HQ 2.6GHz   \n",
       "1294                          Full HD 1920x1080    AMD A9-Series 9410 2.9GHz   \n",
       "1298  IPS Panel Full HD / Touchscreen 1920x1080   Intel Core i7 6500U 2.5GHz   \n",
       "\n",
       "       Ram        Memory                      Gpu       OpSys  Weight  \\\n",
       "2      8GB     256GB SSD    Intel HD Graphics 620       No OS  1.86kg   \n",
       "8     16GB     512GB SSD     Nvidia GeForce MX150  Windows 10   1.3kg   \n",
       "9      8GB     256GB SSD   Intel UHD Graphics 620  Windows 10   1.6kg   \n",
       "11     4GB     500GB HDD    Intel HD Graphics 520       No OS  1.86kg   \n",
       "13     4GB     256GB SSD       AMD Radeon R5 M430  Windows 10   2.2kg   \n",
       "...    ...           ...                      ...         ...     ...   \n",
       "1284   4GB     128GB SSD    Intel HD Graphics 520  Windows 10   1.8kg   \n",
       "1289   8GB     512GB SSD    Intel HD Graphics 515  Windows 10   1.2kg   \n",
       "1293   8GB       1TB HDD  Nvidia GeForce GTX 960M  Windows 10   2.6kg   \n",
       "1294   6GB  1.0TB Hybrid       AMD Radeon R7 M440  Windows 10  2.04kg   \n",
       "1298   4GB     128GB SSD    Intel HD Graphics 520  Windows 10   1.8kg   \n",
       "\n",
       "           Price  \n",
       "2     30636.0000  \n",
       "8     79653.6000  \n",
       "9     41025.6000  \n",
       "11    18381.0672  \n",
       "13    26581.3920  \n",
       "...          ...  \n",
       "1284  33992.6400  \n",
       "1289  38841.1200  \n",
       "1293  47898.7200  \n",
       "1294  29303.4672  \n",
       "1298  33992.6400  \n",
       "\n",
       "[824 rows x 11 columns]"
      ]
     },
     "execution_count": 70,
     "metadata": {},
     "output_type": "execute_result"
    }
   ],
   "source": [
    "tem_df[tem_df['ScreenResolution'].fillna('').str.contains('Full HD', case=False)]"
   ]
  },
  {
   "cell_type": "markdown",
   "metadata": {},
   "source": [
    "#### Explore the 'Cpu' column and identify any inconsistencies."
   ]
  },
  {
   "cell_type": "code",
   "execution_count": 71,
   "metadata": {
    "execution": {
     "iopub.execute_input": "2024-03-03T03:50:05.996851Z",
     "iopub.status.busy": "2024-03-03T03:50:05.996439Z",
     "iopub.status.idle": "2024-03-03T03:50:06.008245Z",
     "shell.execute_reply": "2024-03-03T03:50:06.007288Z",
     "shell.execute_reply.started": "2024-03-03T03:50:05.996815Z"
    },
    "trusted": true
   },
   "outputs": [
    {
     "data": {
      "text/plain": [
       "array(['Intel Core i5 2.3GHz', 'Intel Core i5 1.8GHz',\n",
       "       'Intel Core i5 7200U 2.5GHz', 'Intel Core i7 2.7GHz',\n",
       "       'Intel Core i5 3.1GHz', 'AMD A9-Series 9420 3GHz',\n",
       "       'Intel Core i7 2.2GHz', 'Intel Core i7 8550U 1.8GHz',\n",
       "       'Intel Core i5 8250U 1.6GHz', 'Intel Core i3 6006U 2GHz',\n",
       "       'Intel Core i7 2.8GHz', 'Intel Core M m3 1.2GHz',\n",
       "       'Intel Core i7 7500U 2.7GHz', 'Intel Core i7 2.9GHz',\n",
       "       'Intel Core i3 7100U 2.4GHz', nan, 'Intel Core i5 7300HQ 2.5GHz',\n",
       "       'AMD E-Series E2-9000e 1.5GHz', 'Intel Core i5 1.6GHz',\n",
       "       'Intel Core i7 8650U 1.9GHz', 'Intel Atom x5-Z8300 1.44GHz',\n",
       "       'AMD E-Series E2-6110 1.5GHz', 'AMD A6-Series 9220 2.5GHz',\n",
       "       'Intel Celeron Dual Core N3350 1.1GHz',\n",
       "       'Intel Core i3 7130U 2.7GHz', 'Intel Core i7 7700HQ 2.8GHz',\n",
       "       'Intel Core i5 2.0GHz', 'AMD Ryzen 1700 3GHz',\n",
       "       'Intel Pentium Quad Core N4200 1.1GHz',\n",
       "       'Intel Celeron Dual Core N3060 1.6GHz', 'Intel Core i5 1.3GHz',\n",
       "       'AMD FX 9830P 3GHz', 'Intel Core i7 7560U 2.4GHz',\n",
       "       'AMD E-Series 6110 1.5GHz', 'Intel Core i5 6200U 2.3GHz',\n",
       "       'Intel Core M 6Y75 1.2GHz', 'Intel Core i5 7500U 2.7GHz',\n",
       "       'Intel Core i3 6006U 2.2GHz', 'AMD A6-Series 9220 2.9GHz',\n",
       "       'Intel Core i7 6920HQ 2.9GHz', 'Intel Core i5 7Y54 1.2GHz',\n",
       "       'Intel Core i7 7820HK 2.9GHz', 'Intel Xeon E3-1505M V6 3GHz',\n",
       "       'Intel Core i7 6500U 2.5GHz', 'AMD E-Series 9000e 1.5GHz',\n",
       "       'AMD A10-Series A10-9620P 2.5GHz', 'AMD A6-Series A6-9220 2.5GHz',\n",
       "       'Intel Core i5 2.9GHz', 'Intel Core i7 6600U 2.6GHz',\n",
       "       'Intel Core i3 6006U 2.0GHz',\n",
       "       'Intel Celeron Dual Core 3205U 1.5GHz',\n",
       "       'Intel Core i7 7820HQ 2.9GHz', 'AMD A10-Series 9600P 2.4GHz',\n",
       "       'Intel Core i7 7600U 2.8GHz', 'AMD A8-Series 7410 2.2GHz',\n",
       "       'Intel Celeron Dual Core 3855U 1.6GHz',\n",
       "       'Intel Pentium Quad Core N3710 1.6GHz',\n",
       "       'AMD A12-Series 9720P 2.7GHz', 'Intel Core i5 7300U 2.6GHz',\n",
       "       'AMD A12-Series 9720P 3.6GHz',\n",
       "       'Intel Celeron Quad Core N3450 1.1GHz',\n",
       "       'Intel Celeron Dual Core N3060 1.60GHz',\n",
       "       'Intel Core i5 6440HQ 2.6GHz', 'Intel Core i7 6820HQ 2.7GHz',\n",
       "       'AMD Ryzen 1600 3.2GHz', 'Intel Core i7 7Y75 1.3GHz',\n",
       "       'Intel Core i5 7440HQ 2.8GHz', 'Intel Core i7 7660U 2.5GHz',\n",
       "       'Intel Core i7 7700HQ 2.7GHz', 'Intel Core M m3-7Y30 2.2GHz',\n",
       "       'Intel Core i5 7Y57 1.2GHz', 'Intel Core i7 6700HQ 2.6GHz',\n",
       "       'Intel Core i3 6100U 2.3GHz', 'Intel Atom x5-Z8350 1.44GHz',\n",
       "       'AMD A10-Series 9620P 2.5GHz', 'AMD E-Series 7110 1.8GHz',\n",
       "       'Intel Celeron Dual Core N3350 2.0GHz',\n",
       "       'AMD A9-Series A9-9420 3GHz', 'Intel Core i7 6820HK 2.7GHz',\n",
       "       'Intel Core M 7Y30 1.0GHz', 'Intel Xeon E3-1535M v6 3.1GHz',\n",
       "       'Intel Celeron Quad Core N3160 1.6GHz',\n",
       "       'Intel Core i5 6300U 2.4GHz', 'Intel Core i3 6100U 2.1GHz',\n",
       "       'AMD E-Series E2-9000 2.2GHz',\n",
       "       'Intel Celeron Dual Core N3050 1.6GHz',\n",
       "       'Intel Core M M3-6Y30 0.9GHz', 'AMD A9-Series 9420 2.9GHz',\n",
       "       'Intel Core i5 6300HQ 2.3GHz', 'AMD A6-Series 7310 2GHz',\n",
       "       'Intel Atom Z8350 1.92GHz', 'Intel Xeon E3-1535M v5 2.9GHz',\n",
       "       'Intel Core i5 6260U 1.8GHz',\n",
       "       'Intel Pentium Dual Core N4200 1.1GHz',\n",
       "       'Intel Celeron Quad Core N3710 1.6GHz', 'Intel Core M 1.2GHz',\n",
       "       'AMD A12-Series 9700P 2.5GHz', 'Intel Core i7 7500U 2.5GHz',\n",
       "       'Intel Pentium Dual Core 4405U 2.1GHz',\n",
       "       'AMD A4-Series 7210 2.2GHz', 'Intel Core i7 6560U 2.2GHz',\n",
       "       'Intel Core M m7-6Y75 1.2GHz', 'AMD FX 8800P 2.1GHz',\n",
       "       'Intel Core M M7-6Y75 1.2GHz', 'Intel Core i5 7200U 2.50GHz',\n",
       "       'Intel Core i5 7200U 2.70GHz', 'Intel Atom X5-Z8350 1.44GHz',\n",
       "       'Intel Core i5 7200U 2.7GHz', 'Intel Core M 1.1GHz',\n",
       "       'Intel Atom x5-Z8550 1.44GHz',\n",
       "       'Intel Pentium Dual Core 4405Y 1.5GHz',\n",
       "       'Intel Pentium Quad Core N3700 1.6GHz', 'Intel Core M 6Y54 1.1GHz',\n",
       "       'Intel Core i7 6500U 2.50GHz',\n",
       "       'Intel Celeron Dual Core N3350 2GHz',\n",
       "       'Samsung Cortex A72&A53 2.0GHz', 'AMD E-Series 9000 2.2GHz',\n",
       "       'Intel Core M 6Y30 0.9GHz', 'AMD A9-Series 9410 2.9GHz'],\n",
       "      dtype=object)"
      ]
     },
     "execution_count": 71,
     "metadata": {},
     "output_type": "execute_result"
    }
   ],
   "source": [
    "tem_df['Cpu'].unique()"
   ]
  },
  {
   "cell_type": "code",
   "execution_count": 72,
   "metadata": {
    "execution": {
     "iopub.execute_input": "2024-03-03T03:50:06.010762Z",
     "iopub.status.busy": "2024-03-03T03:50:06.010416Z",
     "iopub.status.idle": "2024-03-03T03:50:06.031822Z",
     "shell.execute_reply": "2024-03-03T03:50:06.030325Z",
     "shell.execute_reply.started": "2024-03-03T03:50:06.010733Z"
    },
    "trusted": true
   },
   "outputs": [
    {
     "data": {
      "text/plain": [
       "Cpu\n",
       "[2.5GHz]     283\n",
       "[2.8GHz]     161\n",
       "[2.7GHz]     159\n",
       "[1.6GHz]     128\n",
       "[2.3GHz]      84\n",
       "[1.8GHz]      77\n",
       "[2.6GHz]      75\n",
       "[2GHz]        65\n",
       "[1.1GHz]      53\n",
       "[2.4GHz]      52\n",
       "[2.9GHz]      21\n",
       "[3GHz]        19\n",
       "[2.0GHz]      19\n",
       "[1.2GHz]      15\n",
       "[2.2GHz]      11\n",
       "[1.44GHz]     10\n",
       "[1.5GHz]      10\n",
       "[1.3GHz]       6\n",
       "[3.6GHz]       5\n",
       "[0.9GHz]       4\n",
       "[3.1GHz]       3\n",
       "[2.50GHz]      3\n",
       "[2.1GHz]       3\n",
       "[1.9GHz]       2\n",
       "[1.60GHz]      1\n",
       "[1.0GHz]       1\n",
       "[3.2GHz]       1\n",
       "[1.92GHz]      1\n",
       "[2.70GHz]      1\n",
       "Name: count, dtype: int64"
      ]
     },
     "execution_count": 72,
     "metadata": {},
     "output_type": "execute_result"
    }
   ],
   "source": [
    "# Define regex pattern to match any number followed by \"GHz\"\n",
    "pattern = r'\\b\\d+(?:\\.\\d+)?(?:GHz|Hz)\\b'\n",
    "\n",
    "# Find all matches in the Processor column\n",
    "tem_df['Cpu'].str.findall(pattern).value_counts()\n"
   ]
  },
  {
   "cell_type": "markdown",
   "metadata": {},
   "source": [
    "#### Explore the 'Ram' column and identify any inconsistencies"
   ]
  },
  {
   "cell_type": "code",
   "execution_count": 73,
   "metadata": {
    "execution": {
     "iopub.execute_input": "2024-03-03T03:50:06.033718Z",
     "iopub.status.busy": "2024-03-03T03:50:06.032949Z",
     "iopub.status.idle": "2024-03-03T03:50:06.040647Z",
     "shell.execute_reply": "2024-03-03T03:50:06.039415Z",
     "shell.execute_reply.started": "2024-03-03T03:50:06.03369Z"
    },
    "trusted": true
   },
   "outputs": [
    {
     "data": {
      "text/plain": [
       "Index(['8GB', '4GB', '16GB', '6GB', '12GB', '2GB', '32GB', '64GB', '24GB',\n",
       "       '1GB'],\n",
       "      dtype='object', name='Ram')"
      ]
     },
     "execution_count": 73,
     "metadata": {},
     "output_type": "execute_result"
    }
   ],
   "source": [
    "tem_df['Ram'].value_counts().index"
   ]
  },
  {
   "cell_type": "code",
   "execution_count": 74,
   "metadata": {
    "execution": {
     "iopub.execute_input": "2024-03-03T03:50:06.042579Z",
     "iopub.status.busy": "2024-03-03T03:50:06.041788Z",
     "iopub.status.idle": "2024-03-03T03:50:06.064821Z",
     "shell.execute_reply": "2024-03-03T03:50:06.063931Z",
     "shell.execute_reply.started": "2024-03-03T03:50:06.042527Z"
    },
    "trusted": true
   },
   "outputs": [
    {
     "data": {
      "text/html": [
       "<div>\n",
       "<style scoped>\n",
       "    .dataframe tbody tr th:only-of-type {\n",
       "        vertical-align: middle;\n",
       "    }\n",
       "\n",
       "    .dataframe tbody tr th {\n",
       "        vertical-align: top;\n",
       "    }\n",
       "\n",
       "    .dataframe thead th {\n",
       "        text-align: right;\n",
       "    }\n",
       "</style>\n",
       "<table border=\"1\" class=\"dataframe\">\n",
       "  <thead>\n",
       "    <tr style=\"text-align: right;\">\n",
       "      <th></th>\n",
       "      <th>Company</th>\n",
       "      <th>TypeName</th>\n",
       "      <th>Inches</th>\n",
       "      <th>ScreenResolution</th>\n",
       "      <th>Cpu</th>\n",
       "      <th>Ram</th>\n",
       "      <th>Memory</th>\n",
       "      <th>Gpu</th>\n",
       "      <th>OpSys</th>\n",
       "      <th>Weight</th>\n",
       "      <th>Price</th>\n",
       "    </tr>\n",
       "  </thead>\n",
       "  <tbody>\n",
       "    <tr>\n",
       "      <th>71</th>\n",
       "      <td>Dell</td>\n",
       "      <td>Ultrabook</td>\n",
       "      <td>13.3</td>\n",
       "      <td>IPS Panel Full HD 1920x1080</td>\n",
       "      <td>Intel Core i7 8550U 1.8GHz</td>\n",
       "      <td>64GB</td>\n",
       "      <td>256GB SSD</td>\n",
       "      <td>AMD Radeon 530</td>\n",
       "      <td>Windows 10</td>\n",
       "      <td>1.4kg</td>\n",
       "      <td>50882.4000</td>\n",
       "    </tr>\n",
       "    <tr>\n",
       "      <th>720</th>\n",
       "      <td>Lenovo</td>\n",
       "      <td>Ultrabook</td>\n",
       "      <td>14</td>\n",
       "      <td>IPS Panel Quad HD+ 2560x1440</td>\n",
       "      <td>Intel Core i7 6500U 2.5GHz</td>\n",
       "      <td>64GB</td>\n",
       "      <td>512GB SSD</td>\n",
       "      <td>Intel HD Graphics 520</td>\n",
       "      <td>Windows 10</td>\n",
       "      <td>1.17kg</td>\n",
       "      <td>89864.1792</td>\n",
       "    </tr>\n",
       "    <tr>\n",
       "      <th>1066</th>\n",
       "      <td>Asus</td>\n",
       "      <td>Gaming</td>\n",
       "      <td>17.3</td>\n",
       "      <td>IPS Panel Full HD 1920x1080</td>\n",
       "      <td>Intel Core i7 6820HK 2.7GHz</td>\n",
       "      <td>64GB</td>\n",
       "      <td>1TB SSD</td>\n",
       "      <td>Nvidia GeForce GTX 980</td>\n",
       "      <td>Windows 10</td>\n",
       "      <td>3.58kg</td>\n",
       "      <td>211788.0000</td>\n",
       "    </tr>\n",
       "  </tbody>\n",
       "</table>\n",
       "</div>"
      ],
      "text/plain": [
       "     Company   TypeName Inches              ScreenResolution  \\\n",
       "71      Dell  Ultrabook   13.3   IPS Panel Full HD 1920x1080   \n",
       "720   Lenovo  Ultrabook     14  IPS Panel Quad HD+ 2560x1440   \n",
       "1066    Asus     Gaming   17.3   IPS Panel Full HD 1920x1080   \n",
       "\n",
       "                              Cpu   Ram     Memory                      Gpu  \\\n",
       "71     Intel Core i7 8550U 1.8GHz  64GB  256GB SSD           AMD Radeon 530   \n",
       "720    Intel Core i7 6500U 2.5GHz  64GB  512GB SSD    Intel HD Graphics 520   \n",
       "1066  Intel Core i7 6820HK 2.7GHz  64GB    1TB SSD  Nvidia GeForce GTX 980    \n",
       "\n",
       "           OpSys  Weight        Price  \n",
       "71    Windows 10   1.4kg   50882.4000  \n",
       "720   Windows 10  1.17kg   89864.1792  \n",
       "1066  Windows 10  3.58kg  211788.0000  "
      ]
     },
     "execution_count": 74,
     "metadata": {},
     "output_type": "execute_result"
    }
   ],
   "source": [
    "## in first two rows that ram size should be 8gb according to google\n",
    "tem_df[tem_df['Ram'] == '64GB']"
   ]
  },
  {
   "cell_type": "code",
   "execution_count": 75,
   "metadata": {
    "execution": {
     "iopub.execute_input": "2024-03-03T03:50:06.066766Z",
     "iopub.status.busy": "2024-03-03T03:50:06.066197Z",
     "iopub.status.idle": "2024-03-03T03:50:06.082439Z",
     "shell.execute_reply": "2024-03-03T03:50:06.081264Z",
     "shell.execute_reply.started": "2024-03-03T03:50:06.066729Z"
    },
    "trusted": true
   },
   "outputs": [
    {
     "data": {
      "text/html": [
       "<div>\n",
       "<style scoped>\n",
       "    .dataframe tbody tr th:only-of-type {\n",
       "        vertical-align: middle;\n",
       "    }\n",
       "\n",
       "    .dataframe tbody tr th {\n",
       "        vertical-align: top;\n",
       "    }\n",
       "\n",
       "    .dataframe thead th {\n",
       "        text-align: right;\n",
       "    }\n",
       "</style>\n",
       "<table border=\"1\" class=\"dataframe\">\n",
       "  <thead>\n",
       "    <tr style=\"text-align: right;\">\n",
       "      <th></th>\n",
       "      <th>Company</th>\n",
       "      <th>TypeName</th>\n",
       "      <th>Inches</th>\n",
       "      <th>ScreenResolution</th>\n",
       "      <th>Cpu</th>\n",
       "      <th>Ram</th>\n",
       "      <th>Memory</th>\n",
       "      <th>Gpu</th>\n",
       "      <th>OpSys</th>\n",
       "      <th>Weight</th>\n",
       "      <th>Price</th>\n",
       "    </tr>\n",
       "  </thead>\n",
       "  <tbody>\n",
       "    <tr>\n",
       "      <th>438</th>\n",
       "      <td>Lenovo</td>\n",
       "      <td>Ultrabook</td>\n",
       "      <td>24</td>\n",
       "      <td>2560x1440</td>\n",
       "      <td>Intel Core i7 7500U 2.7GHz</td>\n",
       "      <td>24GB</td>\n",
       "      <td>512GB SSD</td>\n",
       "      <td>Intel HD Graphics 620</td>\n",
       "      <td>Windows 10</td>\n",
       "      <td>1.32kg</td>\n",
       "      <td>126912.96</td>\n",
       "    </tr>\n",
       "    <tr>\n",
       "      <th>494</th>\n",
       "      <td>Asus</td>\n",
       "      <td>Gaming</td>\n",
       "      <td>17.3</td>\n",
       "      <td>IPS Panel Full HD / Touchscreen 1920x1080</td>\n",
       "      <td>Intel Core i7 6700HQ 2.6GHz</td>\n",
       "      <td>24GB</td>\n",
       "      <td>256GB SSD +  1TB HDD</td>\n",
       "      <td>Nvidia GeForce GTX 965M</td>\n",
       "      <td>Windows 10</td>\n",
       "      <td>4.33kg</td>\n",
       "      <td>67612.32</td>\n",
       "    </tr>\n",
       "    <tr>\n",
       "      <th>517</th>\n",
       "      <td>Asus</td>\n",
       "      <td>Gaming</td>\n",
       "      <td>15.6</td>\n",
       "      <td>Full HD 1920x1080</td>\n",
       "      <td>Intel Core i7 7700HQ 2.8GHz</td>\n",
       "      <td>24GB</td>\n",
       "      <td>512GB SSD</td>\n",
       "      <td>Nvidia GeForce GTX1080</td>\n",
       "      <td>Windows 10</td>\n",
       "      <td>2.24kg</td>\n",
       "      <td>158135.04</td>\n",
       "    </tr>\n",
       "  </tbody>\n",
       "</table>\n",
       "</div>"
      ],
      "text/plain": [
       "    Company   TypeName Inches                           ScreenResolution  \\\n",
       "438  Lenovo  Ultrabook     24                                  2560x1440   \n",
       "494    Asus     Gaming   17.3  IPS Panel Full HD / Touchscreen 1920x1080   \n",
       "517    Asus     Gaming   15.6                          Full HD 1920x1080   \n",
       "\n",
       "                             Cpu   Ram                Memory  \\\n",
       "438   Intel Core i7 7500U 2.7GHz  24GB             512GB SSD   \n",
       "494  Intel Core i7 6700HQ 2.6GHz  24GB  256GB SSD +  1TB HDD   \n",
       "517  Intel Core i7 7700HQ 2.8GHz  24GB             512GB SSD   \n",
       "\n",
       "                         Gpu       OpSys  Weight      Price  \n",
       "438    Intel HD Graphics 620  Windows 10  1.32kg  126912.96  \n",
       "494  Nvidia GeForce GTX 965M  Windows 10  4.33kg   67612.32  \n",
       "517   Nvidia GeForce GTX1080  Windows 10  2.24kg  158135.04  "
      ]
     },
     "execution_count": 75,
     "metadata": {},
     "output_type": "execute_result"
    }
   ],
   "source": [
    "tem_df[tem_df['Ram'] == '24GB']"
   ]
  },
  {
   "cell_type": "code",
   "execution_count": 76,
   "metadata": {
    "execution": {
     "iopub.execute_input": "2024-03-03T03:50:06.084208Z",
     "iopub.status.busy": "2024-03-03T03:50:06.083802Z",
     "iopub.status.idle": "2024-03-03T03:50:06.104046Z",
     "shell.execute_reply": "2024-03-03T03:50:06.103081Z",
     "shell.execute_reply.started": "2024-03-03T03:50:06.084185Z"
    },
    "trusted": true
   },
   "outputs": [
    {
     "data": {
      "text/html": [
       "<div>\n",
       "<style scoped>\n",
       "    .dataframe tbody tr th:only-of-type {\n",
       "        vertical-align: middle;\n",
       "    }\n",
       "\n",
       "    .dataframe tbody tr th {\n",
       "        vertical-align: top;\n",
       "    }\n",
       "\n",
       "    .dataframe thead th {\n",
       "        text-align: right;\n",
       "    }\n",
       "</style>\n",
       "<table border=\"1\" class=\"dataframe\">\n",
       "  <thead>\n",
       "    <tr style=\"text-align: right;\">\n",
       "      <th></th>\n",
       "      <th>Company</th>\n",
       "      <th>TypeName</th>\n",
       "      <th>Inches</th>\n",
       "      <th>ScreenResolution</th>\n",
       "      <th>Cpu</th>\n",
       "      <th>Ram</th>\n",
       "      <th>Memory</th>\n",
       "      <th>Gpu</th>\n",
       "      <th>OpSys</th>\n",
       "      <th>Weight</th>\n",
       "      <th>Price</th>\n",
       "    </tr>\n",
       "  </thead>\n",
       "  <tbody>\n",
       "    <tr>\n",
       "      <th>31</th>\n",
       "      <td>Asus</td>\n",
       "      <td>Notebook</td>\n",
       "      <td>14</td>\n",
       "      <td>1366x768</td>\n",
       "      <td>AMD E-Series E2-6110 1.5GHz</td>\n",
       "      <td>2GB</td>\n",
       "      <td>32GB Flash Storage</td>\n",
       "      <td>AMD Radeon R2</td>\n",
       "      <td>Windows 10</td>\n",
       "      <td>1.65kg</td>\n",
       "      <td>10602.720</td>\n",
       "    </tr>\n",
       "    <tr>\n",
       "      <th>91</th>\n",
       "      <td>Acer</td>\n",
       "      <td>Notebook</td>\n",
       "      <td>15.6</td>\n",
       "      <td>Full HD 1920x1080</td>\n",
       "      <td>Intel Core i7 8550U 1.8GHz</td>\n",
       "      <td>2GB</td>\n",
       "      <td>1TB HDD</td>\n",
       "      <td>Nvidia GeForce MX150</td>\n",
       "      <td>Windows 10</td>\n",
       "      <td>2.2kg</td>\n",
       "      <td>36709.920</td>\n",
       "    </tr>\n",
       "    <tr>\n",
       "      <th>290</th>\n",
       "      <td>Acer</td>\n",
       "      <td>Notebook</td>\n",
       "      <td>15.6</td>\n",
       "      <td>1366x768</td>\n",
       "      <td>Intel Celeron Dual Core 3205U 1.5GHz</td>\n",
       "      <td>2GB</td>\n",
       "      <td>16GB SSD</td>\n",
       "      <td>Intel HD Graphics</td>\n",
       "      <td>Chrome OS</td>\n",
       "      <td>2.19kg</td>\n",
       "      <td>10602.720</td>\n",
       "    </tr>\n",
       "    <tr>\n",
       "      <th>314</th>\n",
       "      <td>Asus</td>\n",
       "      <td>2 in 1 Convertible</td>\n",
       "      <td>11.6</td>\n",
       "      <td>Touchscreen 1366x768</td>\n",
       "      <td>Intel Celeron Dual Core N3350 1.1GHz</td>\n",
       "      <td>2GB</td>\n",
       "      <td>32GB Flash Storage</td>\n",
       "      <td>Intel HD Graphics 500</td>\n",
       "      <td>Windows 10</td>\n",
       "      <td>1.1kg</td>\n",
       "      <td>14652.000</td>\n",
       "    </tr>\n",
       "    <tr>\n",
       "      <th>346</th>\n",
       "      <td>HP</td>\n",
       "      <td>Notebook</td>\n",
       "      <td>14</td>\n",
       "      <td>1366x768</td>\n",
       "      <td>Intel Celeron Dual Core N3060 1.6GHz</td>\n",
       "      <td>2GB</td>\n",
       "      <td>32GB Flash Storage</td>\n",
       "      <td>Intel HD Graphics 400</td>\n",
       "      <td>Windows 10</td>\n",
       "      <td>1.44kg</td>\n",
       "      <td>14865.120</td>\n",
       "    </tr>\n",
       "    <tr>\n",
       "      <th>409</th>\n",
       "      <td>Lenovo</td>\n",
       "      <td>Notebook</td>\n",
       "      <td>11.6</td>\n",
       "      <td>1366x768</td>\n",
       "      <td>Intel Celeron Dual Core N3350 1.1GHz</td>\n",
       "      <td>2GB</td>\n",
       "      <td>32GB Flash Storage</td>\n",
       "      <td>Intel HD Graphics 500</td>\n",
       "      <td>Windows 10</td>\n",
       "      <td>1.15kg</td>\n",
       "      <td>16221.096</td>\n",
       "    </tr>\n",
       "    <tr>\n",
       "      <th>515</th>\n",
       "      <td>Asus</td>\n",
       "      <td>Netbook</td>\n",
       "      <td>11.6</td>\n",
       "      <td>1366x768</td>\n",
       "      <td>Intel Celeron Dual Core N3350 1.1GHz</td>\n",
       "      <td>2GB</td>\n",
       "      <td>32GB Flash Storage</td>\n",
       "      <td>Intel HD Graphics 500</td>\n",
       "      <td>Windows 10</td>\n",
       "      <td>1.1kg</td>\n",
       "      <td>13053.600</td>\n",
       "    </tr>\n",
       "    <tr>\n",
       "      <th>626</th>\n",
       "      <td>Mediacom</td>\n",
       "      <td>Notebook</td>\n",
       "      <td>14</td>\n",
       "      <td>Full HD 1920x1080</td>\n",
       "      <td>Intel Atom x5-Z8350 1.44GHz</td>\n",
       "      <td>2GB</td>\n",
       "      <td>32GB Flash Storage</td>\n",
       "      <td>Intel HD Graphics</td>\n",
       "      <td>Windows 10</td>\n",
       "      <td>1.4kg</td>\n",
       "      <td>12733.920</td>\n",
       "    </tr>\n",
       "    <tr>\n",
       "      <th>637</th>\n",
       "      <td>Lenovo</td>\n",
       "      <td>Notebook</td>\n",
       "      <td>14</td>\n",
       "      <td>1366x768</td>\n",
       "      <td>Intel Celeron Dual Core N3060 1.6GHz</td>\n",
       "      <td>2GB</td>\n",
       "      <td>32GB Flash Storage</td>\n",
       "      <td>Intel HD Graphics 400</td>\n",
       "      <td>Windows 10</td>\n",
       "      <td>1.42kg</td>\n",
       "      <td>13266.720</td>\n",
       "    </tr>\n",
       "    <tr>\n",
       "      <th>745</th>\n",
       "      <td>Acer</td>\n",
       "      <td>Notebook</td>\n",
       "      <td>14</td>\n",
       "      <td>1366x768</td>\n",
       "      <td>Intel Celeron Dual Core N3060 1.6GHz</td>\n",
       "      <td>2GB</td>\n",
       "      <td>32GB Flash Storage</td>\n",
       "      <td>Intel HD Graphics 400</td>\n",
       "      <td>Chrome OS</td>\n",
       "      <td>1.68kg</td>\n",
       "      <td>17582.400</td>\n",
       "    </tr>\n",
       "    <tr>\n",
       "      <th>1041</th>\n",
       "      <td>Vero</td>\n",
       "      <td>Notebook</td>\n",
       "      <td>14</td>\n",
       "      <td>1366x768</td>\n",
       "      <td>Intel Atom X5-Z8350 1.44GHz</td>\n",
       "      <td>2GB</td>\n",
       "      <td>32GB Flash Storage</td>\n",
       "      <td>Intel HD Graphics 400</td>\n",
       "      <td>Windows 10</td>\n",
       "      <td>1.45kg</td>\n",
       "      <td>11231.424</td>\n",
       "    </tr>\n",
       "    <tr>\n",
       "      <th>1168</th>\n",
       "      <td>HP</td>\n",
       "      <td>Notebook</td>\n",
       "      <td>14</td>\n",
       "      <td>1366x768</td>\n",
       "      <td>Intel Celeron Dual Core N3060 1.6GHz</td>\n",
       "      <td>2GB</td>\n",
       "      <td>32GB Flash Storage</td>\n",
       "      <td>Intel HD Graphics 400</td>\n",
       "      <td>Windows 10</td>\n",
       "      <td>1.44kg</td>\n",
       "      <td>13266.720</td>\n",
       "    </tr>\n",
       "    <tr>\n",
       "      <th>1215</th>\n",
       "      <td>Acer</td>\n",
       "      <td>Netbook</td>\n",
       "      <td>11.6</td>\n",
       "      <td>1366x768</td>\n",
       "      <td>Intel Celeron Dual Core 3205U 1.5GHz</td>\n",
       "      <td>2GB</td>\n",
       "      <td>32GB SSD</td>\n",
       "      <td>Intel HD Graphics</td>\n",
       "      <td>Chrome OS</td>\n",
       "      <td>1.3kg</td>\n",
       "      <td>9270.720</td>\n",
       "    </tr>\n",
       "    <tr>\n",
       "      <th>1264</th>\n",
       "      <td>Dell</td>\n",
       "      <td>Notebook</td>\n",
       "      <td>15.6</td>\n",
       "      <td>1366x768</td>\n",
       "      <td>Intel Celeron Dual Core N3050 1.6GHz</td>\n",
       "      <td>2GB</td>\n",
       "      <td>500GB HDD</td>\n",
       "      <td>Intel HD Graphics</td>\n",
       "      <td>Windows 10</td>\n",
       "      <td>2.20kg</td>\n",
       "      <td>20193.120</td>\n",
       "    </tr>\n",
       "    <tr>\n",
       "      <th>1268</th>\n",
       "      <td>HP</td>\n",
       "      <td>Netbook</td>\n",
       "      <td>11.6</td>\n",
       "      <td>1366x768</td>\n",
       "      <td>Intel Celeron Dual Core N3060 1.6GHz</td>\n",
       "      <td>2GB</td>\n",
       "      <td>32GB Flash Storage</td>\n",
       "      <td>Intel HD Graphics 400</td>\n",
       "      <td>Windows 10</td>\n",
       "      <td>1.17kg</td>\n",
       "      <td>11135.520</td>\n",
       "    </tr>\n",
       "    <tr>\n",
       "      <th>1272</th>\n",
       "      <td>Lenovo</td>\n",
       "      <td>Notebook</td>\n",
       "      <td>14</td>\n",
       "      <td>1366x768</td>\n",
       "      <td>Intel Celeron Dual Core N3050 1.6GHz</td>\n",
       "      <td>2GB</td>\n",
       "      <td>64GB Flash Storage</td>\n",
       "      <td>Intel HD Graphics</td>\n",
       "      <td>Windows 10</td>\n",
       "      <td>1.5kg</td>\n",
       "      <td>12201.120</td>\n",
       "    </tr>\n",
       "    <tr>\n",
       "      <th>1278</th>\n",
       "      <td>Dell</td>\n",
       "      <td>Notebook</td>\n",
       "      <td>15.6</td>\n",
       "      <td>1366x768</td>\n",
       "      <td>Intel Celeron Dual Core N3050 1.6GHz</td>\n",
       "      <td>2GB</td>\n",
       "      <td>500GB HDD</td>\n",
       "      <td>Intel HD Graphics</td>\n",
       "      <td>Windows 10</td>\n",
       "      <td>2.20kg</td>\n",
       "      <td>20193.120</td>\n",
       "    </tr>\n",
       "    <tr>\n",
       "      <th>1282</th>\n",
       "      <td>HP</td>\n",
       "      <td>Netbook</td>\n",
       "      <td>11.6</td>\n",
       "      <td>1366x768</td>\n",
       "      <td>Intel Celeron Dual Core N3060 1.6GHz</td>\n",
       "      <td>2GB</td>\n",
       "      <td>32GB Flash Storage</td>\n",
       "      <td>Intel HD Graphics 400</td>\n",
       "      <td>Windows 10</td>\n",
       "      <td>1.17kg</td>\n",
       "      <td>11135.520</td>\n",
       "    </tr>\n",
       "    <tr>\n",
       "      <th>1286</th>\n",
       "      <td>Lenovo</td>\n",
       "      <td>Notebook</td>\n",
       "      <td>14</td>\n",
       "      <td>1366x768</td>\n",
       "      <td>Intel Celeron Dual Core N3050 1.6GHz</td>\n",
       "      <td>2GB</td>\n",
       "      <td>64GB Flash Storage</td>\n",
       "      <td>Intel HD Graphics</td>\n",
       "      <td>Windows 10</td>\n",
       "      <td>1.5kg</td>\n",
       "      <td>12201.120</td>\n",
       "    </tr>\n",
       "    <tr>\n",
       "      <th>1292</th>\n",
       "      <td>Dell</td>\n",
       "      <td>Notebook</td>\n",
       "      <td>15.6</td>\n",
       "      <td>1366x768</td>\n",
       "      <td>Intel Celeron Dual Core N3050 1.6GHz</td>\n",
       "      <td>2GB</td>\n",
       "      <td>500GB HDD</td>\n",
       "      <td>Intel HD Graphics</td>\n",
       "      <td>Windows 10</td>\n",
       "      <td>2.20kg</td>\n",
       "      <td>20193.120</td>\n",
       "    </tr>\n",
       "    <tr>\n",
       "      <th>1296</th>\n",
       "      <td>HP</td>\n",
       "      <td>Netbook</td>\n",
       "      <td>11.6</td>\n",
       "      <td>1366x768</td>\n",
       "      <td>Intel Celeron Dual Core N3060 1.6GHz</td>\n",
       "      <td>2GB</td>\n",
       "      <td>32GB Flash Storage</td>\n",
       "      <td>Intel HD Graphics 400</td>\n",
       "      <td>Windows 10</td>\n",
       "      <td>1.17kg</td>\n",
       "      <td>11135.520</td>\n",
       "    </tr>\n",
       "    <tr>\n",
       "      <th>1300</th>\n",
       "      <td>Lenovo</td>\n",
       "      <td>Notebook</td>\n",
       "      <td>14</td>\n",
       "      <td>1366x768</td>\n",
       "      <td>Intel Celeron Dual Core N3050 1.6GHz</td>\n",
       "      <td>2GB</td>\n",
       "      <td>64GB Flash Storage</td>\n",
       "      <td>Intel HD Graphics</td>\n",
       "      <td>Windows 10</td>\n",
       "      <td>1.5kg</td>\n",
       "      <td>12201.120</td>\n",
       "    </tr>\n",
       "  </tbody>\n",
       "</table>\n",
       "</div>"
      ],
      "text/plain": [
       "       Company            TypeName Inches      ScreenResolution  \\\n",
       "31        Asus            Notebook     14              1366x768   \n",
       "91        Acer            Notebook   15.6     Full HD 1920x1080   \n",
       "290       Acer            Notebook   15.6              1366x768   \n",
       "314       Asus  2 in 1 Convertible   11.6  Touchscreen 1366x768   \n",
       "346         HP            Notebook     14              1366x768   \n",
       "409     Lenovo            Notebook   11.6              1366x768   \n",
       "515       Asus             Netbook   11.6              1366x768   \n",
       "626   Mediacom            Notebook     14     Full HD 1920x1080   \n",
       "637     Lenovo            Notebook     14              1366x768   \n",
       "745       Acer            Notebook     14              1366x768   \n",
       "1041      Vero            Notebook     14              1366x768   \n",
       "1168        HP            Notebook     14              1366x768   \n",
       "1215      Acer             Netbook   11.6              1366x768   \n",
       "1264      Dell            Notebook   15.6              1366x768   \n",
       "1268        HP             Netbook   11.6              1366x768   \n",
       "1272    Lenovo            Notebook     14              1366x768   \n",
       "1278      Dell            Notebook   15.6              1366x768   \n",
       "1282        HP             Netbook   11.6              1366x768   \n",
       "1286    Lenovo            Notebook     14              1366x768   \n",
       "1292      Dell            Notebook   15.6              1366x768   \n",
       "1296        HP             Netbook   11.6              1366x768   \n",
       "1300    Lenovo            Notebook     14              1366x768   \n",
       "\n",
       "                                       Cpu  Ram              Memory  \\\n",
       "31             AMD E-Series E2-6110 1.5GHz  2GB  32GB Flash Storage   \n",
       "91              Intel Core i7 8550U 1.8GHz  2GB             1TB HDD   \n",
       "290   Intel Celeron Dual Core 3205U 1.5GHz  2GB            16GB SSD   \n",
       "314   Intel Celeron Dual Core N3350 1.1GHz  2GB  32GB Flash Storage   \n",
       "346   Intel Celeron Dual Core N3060 1.6GHz  2GB  32GB Flash Storage   \n",
       "409   Intel Celeron Dual Core N3350 1.1GHz  2GB  32GB Flash Storage   \n",
       "515   Intel Celeron Dual Core N3350 1.1GHz  2GB  32GB Flash Storage   \n",
       "626            Intel Atom x5-Z8350 1.44GHz  2GB  32GB Flash Storage   \n",
       "637   Intel Celeron Dual Core N3060 1.6GHz  2GB  32GB Flash Storage   \n",
       "745   Intel Celeron Dual Core N3060 1.6GHz  2GB  32GB Flash Storage   \n",
       "1041           Intel Atom X5-Z8350 1.44GHz  2GB  32GB Flash Storage   \n",
       "1168  Intel Celeron Dual Core N3060 1.6GHz  2GB  32GB Flash Storage   \n",
       "1215  Intel Celeron Dual Core 3205U 1.5GHz  2GB            32GB SSD   \n",
       "1264  Intel Celeron Dual Core N3050 1.6GHz  2GB           500GB HDD   \n",
       "1268  Intel Celeron Dual Core N3060 1.6GHz  2GB  32GB Flash Storage   \n",
       "1272  Intel Celeron Dual Core N3050 1.6GHz  2GB  64GB Flash Storage   \n",
       "1278  Intel Celeron Dual Core N3050 1.6GHz  2GB           500GB HDD   \n",
       "1282  Intel Celeron Dual Core N3060 1.6GHz  2GB  32GB Flash Storage   \n",
       "1286  Intel Celeron Dual Core N3050 1.6GHz  2GB  64GB Flash Storage   \n",
       "1292  Intel Celeron Dual Core N3050 1.6GHz  2GB           500GB HDD   \n",
       "1296  Intel Celeron Dual Core N3060 1.6GHz  2GB  32GB Flash Storage   \n",
       "1300  Intel Celeron Dual Core N3050 1.6GHz  2GB  64GB Flash Storage   \n",
       "\n",
       "                        Gpu       OpSys  Weight      Price  \n",
       "31            AMD Radeon R2  Windows 10  1.65kg  10602.720  \n",
       "91     Nvidia GeForce MX150  Windows 10   2.2kg  36709.920  \n",
       "290       Intel HD Graphics   Chrome OS  2.19kg  10602.720  \n",
       "314   Intel HD Graphics 500  Windows 10   1.1kg  14652.000  \n",
       "346   Intel HD Graphics 400  Windows 10  1.44kg  14865.120  \n",
       "409   Intel HD Graphics 500  Windows 10  1.15kg  16221.096  \n",
       "515   Intel HD Graphics 500  Windows 10   1.1kg  13053.600  \n",
       "626       Intel HD Graphics  Windows 10   1.4kg  12733.920  \n",
       "637   Intel HD Graphics 400  Windows 10  1.42kg  13266.720  \n",
       "745   Intel HD Graphics 400   Chrome OS  1.68kg  17582.400  \n",
       "1041  Intel HD Graphics 400  Windows 10  1.45kg  11231.424  \n",
       "1168  Intel HD Graphics 400  Windows 10  1.44kg  13266.720  \n",
       "1215      Intel HD Graphics   Chrome OS   1.3kg   9270.720  \n",
       "1264      Intel HD Graphics  Windows 10  2.20kg  20193.120  \n",
       "1268  Intel HD Graphics 400  Windows 10  1.17kg  11135.520  \n",
       "1272      Intel HD Graphics  Windows 10   1.5kg  12201.120  \n",
       "1278      Intel HD Graphics  Windows 10  2.20kg  20193.120  \n",
       "1282  Intel HD Graphics 400  Windows 10  1.17kg  11135.520  \n",
       "1286      Intel HD Graphics  Windows 10   1.5kg  12201.120  \n",
       "1292      Intel HD Graphics  Windows 10  2.20kg  20193.120  \n",
       "1296  Intel HD Graphics 400  Windows 10  1.17kg  11135.520  \n",
       "1300      Intel HD Graphics  Windows 10   1.5kg  12201.120  "
      ]
     },
     "execution_count": 76,
     "metadata": {},
     "output_type": "execute_result"
    }
   ],
   "source": [
    "tem_df[tem_df['Ram'] == '2GB']\n",
    "\n",
    "# in acer notebook full-hd display in ram should 8 gb\n",
    "# and mediacom laptop ram might be 4gb"
   ]
  },
  {
   "cell_type": "code",
   "execution_count": 77,
   "metadata": {
    "execution": {
     "iopub.execute_input": "2024-03-03T03:50:06.105915Z",
     "iopub.status.busy": "2024-03-03T03:50:06.105204Z",
     "iopub.status.idle": "2024-03-03T03:50:06.123876Z",
     "shell.execute_reply": "2024-03-03T03:50:06.12318Z",
     "shell.execute_reply.started": "2024-03-03T03:50:06.105884Z"
    },
    "trusted": true
   },
   "outputs": [
    {
     "data": {
      "text/html": [
       "<div>\n",
       "<style scoped>\n",
       "    .dataframe tbody tr th:only-of-type {\n",
       "        vertical-align: middle;\n",
       "    }\n",
       "\n",
       "    .dataframe tbody tr th {\n",
       "        vertical-align: top;\n",
       "    }\n",
       "\n",
       "    .dataframe thead th {\n",
       "        text-align: right;\n",
       "    }\n",
       "</style>\n",
       "<table border=\"1\" class=\"dataframe\">\n",
       "  <thead>\n",
       "    <tr style=\"text-align: right;\">\n",
       "      <th></th>\n",
       "      <th>Company</th>\n",
       "      <th>TypeName</th>\n",
       "      <th>Inches</th>\n",
       "      <th>ScreenResolution</th>\n",
       "      <th>Cpu</th>\n",
       "      <th>Ram</th>\n",
       "      <th>Memory</th>\n",
       "      <th>Gpu</th>\n",
       "      <th>OpSys</th>\n",
       "      <th>Weight</th>\n",
       "      <th>Price</th>\n",
       "    </tr>\n",
       "  </thead>\n",
       "  <tbody>\n",
       "    <tr>\n",
       "      <th>945</th>\n",
       "      <td>Lenovo</td>\n",
       "      <td>Gaming</td>\n",
       "      <td>15.6</td>\n",
       "      <td>IPS Panel Full HD 1920x1080</td>\n",
       "      <td>AMD FX 8800P 2.1GHz</td>\n",
       "      <td>16GB</td>\n",
       "      <td>512GB SSD +  1TB HDD</td>\n",
       "      <td>AMD Radeon R9 M385</td>\n",
       "      <td>Windows 10</td>\n",
       "      <td>2.5kg</td>\n",
       "      <td>53226.72</td>\n",
       "    </tr>\n",
       "    <tr>\n",
       "      <th>1209</th>\n",
       "      <td>Asus</td>\n",
       "      <td>Gaming</td>\n",
       "      <td>15.6</td>\n",
       "      <td>Full HD 1920x1080</td>\n",
       "      <td>Intel Core i7 7700HQ 2.8GHz</td>\n",
       "      <td>16GB</td>\n",
       "      <td>256GB SSD +  1TB HDD</td>\n",
       "      <td>Nvidia GeForce GTX 1070</td>\n",
       "      <td>Windows 10</td>\n",
       "      <td>2.2kg</td>\n",
       "      <td>130482.72</td>\n",
       "    </tr>\n",
       "  </tbody>\n",
       "</table>\n",
       "</div>"
      ],
      "text/plain": [
       "     Company TypeName Inches             ScreenResolution  \\\n",
       "945   Lenovo   Gaming   15.6  IPS Panel Full HD 1920x1080   \n",
       "1209    Asus   Gaming   15.6            Full HD 1920x1080   \n",
       "\n",
       "                              Cpu   Ram                Memory  \\\n",
       "945           AMD FX 8800P 2.1GHz  16GB  512GB SSD +  1TB HDD   \n",
       "1209  Intel Core i7 7700HQ 2.8GHz  16GB  256GB SSD +  1TB HDD   \n",
       "\n",
       "                          Gpu       OpSys Weight      Price  \n",
       "945        AMD Radeon R9 M385  Windows 10  2.5kg   53226.72  \n",
       "1209  Nvidia GeForce GTX 1070  Windows 10  2.2kg  130482.72  "
      ]
     },
     "execution_count": 77,
     "metadata": {},
     "output_type": "execute_result"
    }
   ],
   "source": [
    "tem_df[tem_df['Ram'] == '16GB'].sample(2)"
   ]
  },
  {
   "cell_type": "code",
   "execution_count": 78,
   "metadata": {
    "execution": {
     "iopub.execute_input": "2024-03-03T03:50:06.125525Z",
     "iopub.status.busy": "2024-03-03T03:50:06.124845Z",
     "iopub.status.idle": "2024-03-03T03:50:06.139622Z",
     "shell.execute_reply": "2024-03-03T03:50:06.138702Z",
     "shell.execute_reply.started": "2024-03-03T03:50:06.125502Z"
    },
    "trusted": true
   },
   "outputs": [
    {
     "data": {
      "text/html": [
       "<div>\n",
       "<style scoped>\n",
       "    .dataframe tbody tr th:only-of-type {\n",
       "        vertical-align: middle;\n",
       "    }\n",
       "\n",
       "    .dataframe tbody tr th {\n",
       "        vertical-align: top;\n",
       "    }\n",
       "\n",
       "    .dataframe thead th {\n",
       "        text-align: right;\n",
       "    }\n",
       "</style>\n",
       "<table border=\"1\" class=\"dataframe\">\n",
       "  <thead>\n",
       "    <tr style=\"text-align: right;\">\n",
       "      <th></th>\n",
       "      <th>Company</th>\n",
       "      <th>TypeName</th>\n",
       "      <th>Inches</th>\n",
       "      <th>ScreenResolution</th>\n",
       "      <th>Cpu</th>\n",
       "      <th>Ram</th>\n",
       "      <th>Memory</th>\n",
       "      <th>Gpu</th>\n",
       "      <th>OpSys</th>\n",
       "      <th>Weight</th>\n",
       "      <th>Price</th>\n",
       "    </tr>\n",
       "  </thead>\n",
       "  <tbody>\n",
       "    <tr>\n",
       "      <th>428</th>\n",
       "      <td>HP</td>\n",
       "      <td>Gaming</td>\n",
       "      <td>17.3</td>\n",
       "      <td>Full HD 1920x1080</td>\n",
       "      <td>Intel Core i7 7700HQ 2.8GHz</td>\n",
       "      <td>12GB</td>\n",
       "      <td>256GB SSD +  1TB HDD</td>\n",
       "      <td>Nvidia GeForce GTX 1070</td>\n",
       "      <td>Windows 10</td>\n",
       "      <td>3.35kg</td>\n",
       "      <td>106506.72</td>\n",
       "    </tr>\n",
       "    <tr>\n",
       "      <th>588</th>\n",
       "      <td>Lenovo</td>\n",
       "      <td>Notebook</td>\n",
       "      <td>15.6</td>\n",
       "      <td>Touchscreen 1366x768</td>\n",
       "      <td>Intel Core i7 8550U 1.8GHz</td>\n",
       "      <td>12GB</td>\n",
       "      <td>1TB HDD</td>\n",
       "      <td>Intel HD Graphics 620</td>\n",
       "      <td>Windows 10</td>\n",
       "      <td>2.2kg</td>\n",
       "      <td>32447.52</td>\n",
       "    </tr>\n",
       "  </tbody>\n",
       "</table>\n",
       "</div>"
      ],
      "text/plain": [
       "    Company  TypeName Inches      ScreenResolution  \\\n",
       "428      HP    Gaming   17.3     Full HD 1920x1080   \n",
       "588  Lenovo  Notebook   15.6  Touchscreen 1366x768   \n",
       "\n",
       "                             Cpu   Ram                Memory  \\\n",
       "428  Intel Core i7 7700HQ 2.8GHz  12GB  256GB SSD +  1TB HDD   \n",
       "588   Intel Core i7 8550U 1.8GHz  12GB               1TB HDD   \n",
       "\n",
       "                         Gpu       OpSys  Weight      Price  \n",
       "428  Nvidia GeForce GTX 1070  Windows 10  3.35kg  106506.72  \n",
       "588    Intel HD Graphics 620  Windows 10   2.2kg   32447.52  "
      ]
     },
     "execution_count": 78,
     "metadata": {},
     "output_type": "execute_result"
    }
   ],
   "source": [
    "tem_df[tem_df['Ram'] == '12GB'].sample(2)"
   ]
  },
  {
   "cell_type": "code",
   "execution_count": 79,
   "metadata": {
    "execution": {
     "iopub.execute_input": "2024-03-03T03:50:06.142944Z",
     "iopub.status.busy": "2024-03-03T03:50:06.141965Z",
     "iopub.status.idle": "2024-03-03T03:50:06.160571Z",
     "shell.execute_reply": "2024-03-03T03:50:06.159447Z",
     "shell.execute_reply.started": "2024-03-03T03:50:06.142918Z"
    },
    "trusted": true
   },
   "outputs": [
    {
     "data": {
      "text/html": [
       "<div>\n",
       "<style scoped>\n",
       "    .dataframe tbody tr th:only-of-type {\n",
       "        vertical-align: middle;\n",
       "    }\n",
       "\n",
       "    .dataframe tbody tr th {\n",
       "        vertical-align: top;\n",
       "    }\n",
       "\n",
       "    .dataframe thead th {\n",
       "        text-align: right;\n",
       "    }\n",
       "</style>\n",
       "<table border=\"1\" class=\"dataframe\">\n",
       "  <thead>\n",
       "    <tr style=\"text-align: right;\">\n",
       "      <th></th>\n",
       "      <th>Company</th>\n",
       "      <th>TypeName</th>\n",
       "      <th>Inches</th>\n",
       "      <th>ScreenResolution</th>\n",
       "      <th>Cpu</th>\n",
       "      <th>Ram</th>\n",
       "      <th>Memory</th>\n",
       "      <th>Gpu</th>\n",
       "      <th>OpSys</th>\n",
       "      <th>Weight</th>\n",
       "      <th>Price</th>\n",
       "    </tr>\n",
       "  </thead>\n",
       "  <tbody>\n",
       "    <tr>\n",
       "      <th>572</th>\n",
       "      <td>HP</td>\n",
       "      <td>Notebook</td>\n",
       "      <td>15.6</td>\n",
       "      <td>IPS Panel Full HD 1920x1080</td>\n",
       "      <td>AMD A9-Series A9-9420 3GHz</td>\n",
       "      <td>6GB</td>\n",
       "      <td>256GB SSD</td>\n",
       "      <td>AMD Radeon 530</td>\n",
       "      <td>Windows 10</td>\n",
       "      <td>1.95kg</td>\n",
       "      <td>34578.72</td>\n",
       "    </tr>\n",
       "    <tr>\n",
       "      <th>120</th>\n",
       "      <td>Acer</td>\n",
       "      <td>Notebook</td>\n",
       "      <td>15.6</td>\n",
       "      <td>IPS Panel Full HD / Touchscreen 1920x1080</td>\n",
       "      <td>Intel Core i3 7100U 2.4GHz</td>\n",
       "      <td>6GB</td>\n",
       "      <td>1TB HDD</td>\n",
       "      <td>Intel HD Graphics 620</td>\n",
       "      <td>Windows 10</td>\n",
       "      <td>2.1kg</td>\n",
       "      <td>25521.12</td>\n",
       "    </tr>\n",
       "    <tr>\n",
       "      <th>982</th>\n",
       "      <td>Lenovo</td>\n",
       "      <td>Notebook</td>\n",
       "      <td>15.6</td>\n",
       "      <td>Full HD 1920x1080</td>\n",
       "      <td>AMD A12-Series 9720P 3.6GHz</td>\n",
       "      <td>6GB</td>\n",
       "      <td>256GB SSD</td>\n",
       "      <td>AMD Radeon 530</td>\n",
       "      <td>Windows 10</td>\n",
       "      <td>2.2kg</td>\n",
       "      <td>29250.72</td>\n",
       "    </tr>\n",
       "  </tbody>\n",
       "</table>\n",
       "</div>"
      ],
      "text/plain": [
       "    Company  TypeName Inches                           ScreenResolution  \\\n",
       "572      HP  Notebook   15.6                IPS Panel Full HD 1920x1080   \n",
       "120    Acer  Notebook   15.6  IPS Panel Full HD / Touchscreen 1920x1080   \n",
       "982  Lenovo  Notebook   15.6                          Full HD 1920x1080   \n",
       "\n",
       "                             Cpu  Ram     Memory                    Gpu  \\\n",
       "572   AMD A9-Series A9-9420 3GHz  6GB  256GB SSD         AMD Radeon 530   \n",
       "120   Intel Core i3 7100U 2.4GHz  6GB    1TB HDD  Intel HD Graphics 620   \n",
       "982  AMD A12-Series 9720P 3.6GHz  6GB  256GB SSD         AMD Radeon 530   \n",
       "\n",
       "          OpSys  Weight     Price  \n",
       "572  Windows 10  1.95kg  34578.72  \n",
       "120  Windows 10   2.1kg  25521.12  \n",
       "982  Windows 10   2.2kg  29250.72  "
      ]
     },
     "execution_count": 79,
     "metadata": {},
     "output_type": "execute_result"
    }
   ],
   "source": [
    "tem_df[tem_df['Ram'] == '6GB'].sample(3)"
   ]
  },
  {
   "cell_type": "code",
   "execution_count": 80,
   "metadata": {
    "execution": {
     "iopub.execute_input": "2024-03-03T03:50:06.162905Z",
     "iopub.status.busy": "2024-03-03T03:50:06.161764Z",
     "iopub.status.idle": "2024-03-03T03:50:06.176946Z",
     "shell.execute_reply": "2024-03-03T03:50:06.175977Z",
     "shell.execute_reply.started": "2024-03-03T03:50:06.162859Z"
    },
    "trusted": true
   },
   "outputs": [
    {
     "data": {
      "text/html": [
       "<div>\n",
       "<style scoped>\n",
       "    .dataframe tbody tr th:only-of-type {\n",
       "        vertical-align: middle;\n",
       "    }\n",
       "\n",
       "    .dataframe tbody tr th {\n",
       "        vertical-align: top;\n",
       "    }\n",
       "\n",
       "    .dataframe thead th {\n",
       "        text-align: right;\n",
       "    }\n",
       "</style>\n",
       "<table border=\"1\" class=\"dataframe\">\n",
       "  <thead>\n",
       "    <tr style=\"text-align: right;\">\n",
       "      <th></th>\n",
       "      <th>Company</th>\n",
       "      <th>TypeName</th>\n",
       "      <th>Inches</th>\n",
       "      <th>ScreenResolution</th>\n",
       "      <th>Cpu</th>\n",
       "      <th>Ram</th>\n",
       "      <th>Memory</th>\n",
       "      <th>Gpu</th>\n",
       "      <th>OpSys</th>\n",
       "      <th>Weight</th>\n",
       "      <th>Price</th>\n",
       "    </tr>\n",
       "  </thead>\n",
       "  <tbody>\n",
       "    <tr>\n",
       "      <th>706</th>\n",
       "      <td>Acer</td>\n",
       "      <td>2 in 1 Convertible</td>\n",
       "      <td>13.3</td>\n",
       "      <td>IPS Panel Full HD / Touchscreen 1920x1080</td>\n",
       "      <td>Intel Core i5 8250U 1.6GHz</td>\n",
       "      <td>1GB</td>\n",
       "      <td>256GB SSD</td>\n",
       "      <td>Intel UHD Graphics 620</td>\n",
       "      <td>Windows 10</td>\n",
       "      <td>1.6kg</td>\n",
       "      <td>53226.72</td>\n",
       "    </tr>\n",
       "  </tbody>\n",
       "</table>\n",
       "</div>"
      ],
      "text/plain": [
       "    Company            TypeName Inches  \\\n",
       "706    Acer  2 in 1 Convertible   13.3   \n",
       "\n",
       "                              ScreenResolution                         Cpu  \\\n",
       "706  IPS Panel Full HD / Touchscreen 1920x1080  Intel Core i5 8250U 1.6GHz   \n",
       "\n",
       "     Ram     Memory                     Gpu       OpSys Weight     Price  \n",
       "706  1GB  256GB SSD  Intel UHD Graphics 620  Windows 10  1.6kg  53226.72  "
      ]
     },
     "execution_count": 80,
     "metadata": {},
     "output_type": "execute_result"
    }
   ],
   "source": [
    "tem_df[tem_df['Ram'] == '1GB']"
   ]
  },
  {
   "cell_type": "markdown",
   "metadata": {},
   "source": [
    "where ram size is 1gb i check manully in google that model should be 8gb \n",
    "according to model specifications "
   ]
  },
  {
   "cell_type": "markdown",
   "metadata": {},
   "source": [
    "#### Explore the 'Memory' column and identify any inconsistencies"
   ]
  },
  {
   "cell_type": "code",
   "execution_count": 81,
   "metadata": {
    "execution": {
     "iopub.execute_input": "2024-03-03T03:50:06.178554Z",
     "iopub.status.busy": "2024-03-03T03:50:06.178187Z",
     "iopub.status.idle": "2024-03-03T03:50:06.194442Z",
     "shell.execute_reply": "2024-03-03T03:50:06.193085Z",
     "shell.execute_reply.started": "2024-03-03T03:50:06.178531Z"
    },
    "trusted": true
   },
   "outputs": [
    {
     "data": {
      "text/plain": [
       "Index(['256GB SSD', '1TB HDD', '500GB HDD', '512GB SSD',\n",
       "       '128GB SSD +  1TB HDD', '128GB SSD', '256GB SSD +  1TB HDD',\n",
       "       '32GB Flash Storage', '2TB HDD', '64GB Flash Storage',\n",
       "       '512GB SSD +  1TB HDD', '1TB SSD', '256GB SSD +  2TB HDD',\n",
       "       '1.0TB Hybrid', '256GB Flash Storage', '16GB Flash Storage', '32GB SSD',\n",
       "       '128GB Flash Storage', '180GB SSD', '16GB SSD', '512GB SSD +  2TB HDD',\n",
       "       '256GB SSD +  500GB HDD', '128GB SSD +  2TB HDD',\n",
       "       '256GB SSD +  256GB SSD', '1TB SSD +  1TB HDD', '512GB Flash Storage',\n",
       "       '512GB SSD +  512GB SSD', '64GB SSD', '64GB Flash Storage +  1TB HDD',\n",
       "       '1TB HDD +  1TB HDD', '32GB HDD', '512GB SSD +  256GB SSD', '?',\n",
       "       '128GB HDD', '240GB SSD', '8GB SSD', '508GB Hybrid', '1.0TB HDD',\n",
       "       '512GB SSD +  1.0TB Hybrid', '256GB SSD +  1.0TB Hybrid'],\n",
       "      dtype='object', name='Memory')"
      ]
     },
     "execution_count": 81,
     "metadata": {},
     "output_type": "execute_result"
    }
   ],
   "source": [
    "tem_df['Memory'].value_counts().index"
   ]
  },
  {
   "cell_type": "code",
   "execution_count": 82,
   "metadata": {
    "execution": {
     "iopub.execute_input": "2024-03-03T03:50:06.196451Z",
     "iopub.status.busy": "2024-03-03T03:50:06.196097Z",
     "iopub.status.idle": "2024-03-03T03:50:06.21121Z",
     "shell.execute_reply": "2024-03-03T03:50:06.210079Z",
     "shell.execute_reply.started": "2024-03-03T03:50:06.196426Z"
    },
    "trusted": true
   },
   "outputs": [
    {
     "data": {
      "text/plain": [
       "Memory\n",
       "256GB SSD                        401\n",
       "1TB HDD                          217\n",
       "500GB HDD                        130\n",
       "512GB SSD                        116\n",
       "128GB SSD +  1TB HDD              92\n",
       "128GB SSD                         74\n",
       "256GB SSD +  1TB HDD              71\n",
       "32GB Flash Storage                37\n",
       "2TB HDD                           16\n",
       "64GB Flash Storage                14\n",
       "512GB SSD +  1TB HDD              14\n",
       "1TB SSD                           13\n",
       "256GB SSD +  2TB HDD              10\n",
       "1.0TB Hybrid                       9\n",
       "256GB Flash Storage                8\n",
       "16GB Flash Storage                 7\n",
       "32GB SSD                           6\n",
       "128GB Flash Storage                4\n",
       "180GB SSD                          4\n",
       "16GB SSD                           3\n",
       "512GB SSD +  2TB HDD               3\n",
       "256GB SSD +  500GB HDD             2\n",
       "128GB SSD +  2TB HDD               2\n",
       "256GB SSD +  256GB SSD             2\n",
       "1TB SSD +  1TB HDD                 2\n",
       "512GB Flash Storage                2\n",
       "512GB SSD +  512GB SSD             1\n",
       "64GB SSD                           1\n",
       "64GB Flash Storage +  1TB HDD      1\n",
       "1TB HDD +  1TB HDD                 1\n",
       "32GB HDD                           1\n",
       "512GB SSD +  256GB SSD             1\n",
       "?                                  1\n",
       "128GB HDD                          1\n",
       "240GB SSD                          1\n",
       "8GB SSD                            1\n",
       "508GB Hybrid                       1\n",
       "1.0TB HDD                          1\n",
       "512GB SSD +  1.0TB Hybrid          1\n",
       "256GB SSD +  1.0TB Hybrid          1\n",
       "Name: count, dtype: int64"
      ]
     },
     "execution_count": 82,
     "metadata": {},
     "output_type": "execute_result"
    }
   ],
   "source": [
    "tem_df['Memory'].value_counts()"
   ]
  },
  {
   "cell_type": "code",
   "execution_count": 83,
   "metadata": {
    "execution": {
     "iopub.execute_input": "2024-03-03T03:50:06.213363Z",
     "iopub.status.busy": "2024-03-03T03:50:06.21295Z",
     "iopub.status.idle": "2024-03-03T03:50:06.235199Z",
     "shell.execute_reply": "2024-03-03T03:50:06.234269Z",
     "shell.execute_reply.started": "2024-03-03T03:50:06.213336Z"
    },
    "trusted": true
   },
   "outputs": [
    {
     "data": {
      "text/html": [
       "<div>\n",
       "<style scoped>\n",
       "    .dataframe tbody tr th:only-of-type {\n",
       "        vertical-align: middle;\n",
       "    }\n",
       "\n",
       "    .dataframe tbody tr th {\n",
       "        vertical-align: top;\n",
       "    }\n",
       "\n",
       "    .dataframe thead th {\n",
       "        text-align: right;\n",
       "    }\n",
       "</style>\n",
       "<table border=\"1\" class=\"dataframe\">\n",
       "  <thead>\n",
       "    <tr style=\"text-align: right;\">\n",
       "      <th></th>\n",
       "      <th>Company</th>\n",
       "      <th>TypeName</th>\n",
       "      <th>Inches</th>\n",
       "      <th>ScreenResolution</th>\n",
       "      <th>Cpu</th>\n",
       "      <th>Ram</th>\n",
       "      <th>Memory</th>\n",
       "      <th>Gpu</th>\n",
       "      <th>OpSys</th>\n",
       "      <th>Weight</th>\n",
       "      <th>Price</th>\n",
       "    </tr>\n",
       "  </thead>\n",
       "  <tbody>\n",
       "    <tr>\n",
       "      <th>350</th>\n",
       "      <td>NaN</td>\n",
       "      <td>NaN</td>\n",
       "      <td>NaN</td>\n",
       "      <td>NaN</td>\n",
       "      <td>NaN</td>\n",
       "      <td>NaN</td>\n",
       "      <td>NaN</td>\n",
       "      <td>NaN</td>\n",
       "      <td>NaN</td>\n",
       "      <td>NaN</td>\n",
       "      <td>NaN</td>\n",
       "    </tr>\n",
       "    <tr>\n",
       "      <th>447</th>\n",
       "      <td>Dell</td>\n",
       "      <td>Workstation</td>\n",
       "      <td>15.6</td>\n",
       "      <td>Full HD 1920x1080</td>\n",
       "      <td>Intel Xeon E3-1505M V6 3GHz</td>\n",
       "      <td>8GB</td>\n",
       "      <td>64GB Flash Storage +  1TB HDD</td>\n",
       "      <td>Nvidia Quadro M620</td>\n",
       "      <td>Windows 10</td>\n",
       "      <td>2.23kg</td>\n",
       "      <td>106187.04</td>\n",
       "    </tr>\n",
       "    <tr>\n",
       "      <th>795</th>\n",
       "      <td>Lenovo</td>\n",
       "      <td>2 in 1 Convertible</td>\n",
       "      <td>14</td>\n",
       "      <td>IPS Panel Touchscreen 2560x1440</td>\n",
       "      <td>Intel Core i5 7200U 2.5GHz</td>\n",
       "      <td>8GB</td>\n",
       "      <td>256GB SSD</td>\n",
       "      <td>Intel HD Graphics 620</td>\n",
       "      <td>Windows 10</td>\n",
       "      <td>1.42kg</td>\n",
       "      <td>124142.40</td>\n",
       "    </tr>\n",
       "    <tr>\n",
       "      <th>1083</th>\n",
       "      <td>HP</td>\n",
       "      <td>Ultrabook</td>\n",
       "      <td>13.3</td>\n",
       "      <td>IPS Panel 4K Ultra HD 3840x2160</td>\n",
       "      <td>Intel Core i7 7500U 2.7GHz</td>\n",
       "      <td>16GB</td>\n",
       "      <td>512GB SSD</td>\n",
       "      <td>Intel HD Graphics 620</td>\n",
       "      <td>Windows 10</td>\n",
       "      <td>1.3kg</td>\n",
       "      <td>109170.72</td>\n",
       "    </tr>\n",
       "  </tbody>\n",
       "</table>\n",
       "</div>"
      ],
      "text/plain": [
       "     Company            TypeName Inches                 ScreenResolution  \\\n",
       "350      NaN                 NaN    NaN                              NaN   \n",
       "447     Dell         Workstation   15.6                Full HD 1920x1080   \n",
       "795   Lenovo  2 in 1 Convertible     14  IPS Panel Touchscreen 2560x1440   \n",
       "1083      HP           Ultrabook   13.3  IPS Panel 4K Ultra HD 3840x2160   \n",
       "\n",
       "                              Cpu   Ram                         Memory  \\\n",
       "350                           NaN   NaN                            NaN   \n",
       "447   Intel Xeon E3-1505M V6 3GHz   8GB  64GB Flash Storage +  1TB HDD   \n",
       "795    Intel Core i5 7200U 2.5GHz   8GB                      256GB SSD   \n",
       "1083   Intel Core i7 7500U 2.7GHz  16GB                      512GB SSD   \n",
       "\n",
       "                        Gpu       OpSys  Weight      Price  \n",
       "350                     NaN         NaN     NaN        NaN  \n",
       "447      Nvidia Quadro M620  Windows 10  2.23kg  106187.04  \n",
       "795   Intel HD Graphics 620  Windows 10  1.42kg  124142.40  \n",
       "1083  Intel HD Graphics 620  Windows 10   1.3kg  109170.72  "
      ]
     },
     "execution_count": 83,
     "metadata": {},
     "output_type": "execute_result"
    }
   ],
   "source": [
    "tem_df.loc[[350, 447, 795, 1083]]"
   ]
  },
  {
   "cell_type": "code",
   "execution_count": 84,
   "metadata": {
    "execution": {
     "iopub.execute_input": "2024-03-03T03:50:06.237049Z",
     "iopub.status.busy": "2024-03-03T03:50:06.236404Z",
     "iopub.status.idle": "2024-03-03T03:50:06.252215Z",
     "shell.execute_reply": "2024-03-03T03:50:06.25138Z",
     "shell.execute_reply.started": "2024-03-03T03:50:06.236992Z"
    },
    "trusted": true
   },
   "outputs": [
    {
     "data": {
      "text/html": [
       "<div>\n",
       "<style scoped>\n",
       "    .dataframe tbody tr th:only-of-type {\n",
       "        vertical-align: middle;\n",
       "    }\n",
       "\n",
       "    .dataframe tbody tr th {\n",
       "        vertical-align: top;\n",
       "    }\n",
       "\n",
       "    .dataframe thead th {\n",
       "        text-align: right;\n",
       "    }\n",
       "</style>\n",
       "<table border=\"1\" class=\"dataframe\">\n",
       "  <thead>\n",
       "    <tr style=\"text-align: right;\">\n",
       "      <th></th>\n",
       "      <th>Company</th>\n",
       "      <th>TypeName</th>\n",
       "      <th>Inches</th>\n",
       "      <th>ScreenResolution</th>\n",
       "      <th>Cpu</th>\n",
       "      <th>Ram</th>\n",
       "      <th>Memory</th>\n",
       "      <th>Gpu</th>\n",
       "      <th>OpSys</th>\n",
       "      <th>Weight</th>\n",
       "      <th>Price</th>\n",
       "    </tr>\n",
       "  </thead>\n",
       "  <tbody>\n",
       "    <tr>\n",
       "      <th>770</th>\n",
       "      <td>Dell</td>\n",
       "      <td>Notebook</td>\n",
       "      <td>15.6</td>\n",
       "      <td>Full HD 1920x1080</td>\n",
       "      <td>Intel Core i7 7500U 2.7GHz</td>\n",
       "      <td>16GB</td>\n",
       "      <td>?</td>\n",
       "      <td>AMD Radeon R7 M445</td>\n",
       "      <td>Windows 10</td>\n",
       "      <td>2.3kg</td>\n",
       "      <td>62938.0656</td>\n",
       "    </tr>\n",
       "    <tr>\n",
       "      <th>771</th>\n",
       "      <td>Samsung</td>\n",
       "      <td>2 in 1 Convertible</td>\n",
       "      <td>15</td>\n",
       "      <td>Full HD / Touchscreen 1920x1080</td>\n",
       "      <td>Intel Core i7 7500U 2.7GHz</td>\n",
       "      <td>16GB</td>\n",
       "      <td>256GB SSD</td>\n",
       "      <td>AMD Radeon 540</td>\n",
       "      <td>Windows 10</td>\n",
       "      <td>1.71kg</td>\n",
       "      <td>95850.7200</td>\n",
       "    </tr>\n",
       "    <tr>\n",
       "      <th>772</th>\n",
       "      <td>Toshiba</td>\n",
       "      <td>Notebook</td>\n",
       "      <td>14</td>\n",
       "      <td>IPS Panel 1366x768</td>\n",
       "      <td>Intel Core i5 6200U 2.3GHz</td>\n",
       "      <td>4GB</td>\n",
       "      <td>128GB SSD</td>\n",
       "      <td>Intel HD Graphics 520</td>\n",
       "      <td>Windows 10</td>\n",
       "      <td>1.75kg</td>\n",
       "      <td>54345.6000</td>\n",
       "    </tr>\n",
       "    <tr>\n",
       "      <th>773</th>\n",
       "      <td>Dell</td>\n",
       "      <td>Gaming</td>\n",
       "      <td>15.6</td>\n",
       "      <td>Full HD 1920x1080</td>\n",
       "      <td>Intel Core i7 7700HQ 2.8GHz</td>\n",
       "      <td>8GB</td>\n",
       "      <td>1TB HDD</td>\n",
       "      <td>Nvidia GeForce GTX 1050</td>\n",
       "      <td>Windows 10</td>\n",
       "      <td>2.62kg</td>\n",
       "      <td>58554.7200</td>\n",
       "    </tr>\n",
       "    <tr>\n",
       "      <th>774</th>\n",
       "      <td>NaN</td>\n",
       "      <td>NaN</td>\n",
       "      <td>NaN</td>\n",
       "      <td>NaN</td>\n",
       "      <td>NaN</td>\n",
       "      <td>NaN</td>\n",
       "      <td>NaN</td>\n",
       "      <td>NaN</td>\n",
       "      <td>NaN</td>\n",
       "      <td>NaN</td>\n",
       "      <td>NaN</td>\n",
       "    </tr>\n",
       "    <tr>\n",
       "      <th>775</th>\n",
       "      <td>Asus</td>\n",
       "      <td>2 in 1 Convertible</td>\n",
       "      <td>15.6</td>\n",
       "      <td>Full HD / Touchscreen 1920x1080</td>\n",
       "      <td>Intel Core i7 7500U 2.7GHz</td>\n",
       "      <td>12GB</td>\n",
       "      <td>2TB HDD</td>\n",
       "      <td>Nvidia GeForce 940MX</td>\n",
       "      <td>Windows 10</td>\n",
       "      <td>2.3kg</td>\n",
       "      <td>44701.9200</td>\n",
       "    </tr>\n",
       "  </tbody>\n",
       "</table>\n",
       "</div>"
      ],
      "text/plain": [
       "     Company            TypeName Inches                 ScreenResolution  \\\n",
       "770     Dell            Notebook   15.6                Full HD 1920x1080   \n",
       "771  Samsung  2 in 1 Convertible     15  Full HD / Touchscreen 1920x1080   \n",
       "772  Toshiba            Notebook     14               IPS Panel 1366x768   \n",
       "773     Dell              Gaming   15.6                Full HD 1920x1080   \n",
       "774      NaN                 NaN    NaN                              NaN   \n",
       "775     Asus  2 in 1 Convertible   15.6  Full HD / Touchscreen 1920x1080   \n",
       "\n",
       "                             Cpu   Ram     Memory                      Gpu  \\\n",
       "770   Intel Core i7 7500U 2.7GHz  16GB          ?       AMD Radeon R7 M445   \n",
       "771   Intel Core i7 7500U 2.7GHz  16GB  256GB SSD           AMD Radeon 540   \n",
       "772   Intel Core i5 6200U 2.3GHz   4GB  128GB SSD    Intel HD Graphics 520   \n",
       "773  Intel Core i7 7700HQ 2.8GHz   8GB    1TB HDD  Nvidia GeForce GTX 1050   \n",
       "774                          NaN   NaN        NaN                      NaN   \n",
       "775   Intel Core i7 7500U 2.7GHz  12GB    2TB HDD     Nvidia GeForce 940MX   \n",
       "\n",
       "          OpSys  Weight       Price  \n",
       "770  Windows 10   2.3kg  62938.0656  \n",
       "771  Windows 10  1.71kg  95850.7200  \n",
       "772  Windows 10  1.75kg  54345.6000  \n",
       "773  Windows 10  2.62kg  58554.7200  \n",
       "774         NaN     NaN         NaN  \n",
       "775  Windows 10   2.3kg  44701.9200  "
      ]
     },
     "execution_count": 84,
     "metadata": {},
     "output_type": "execute_result"
    }
   ],
   "source": [
    "tem_df.loc[770:775]"
   ]
  },
  {
   "cell_type": "markdown",
   "metadata": {},
   "source": [
    "#### Explore the 'Gpu' column and identify any inconsistencies"
   ]
  },
  {
   "cell_type": "code",
   "execution_count": 85,
   "metadata": {
    "execution": {
     "iopub.execute_input": "2024-03-03T03:50:06.254834Z",
     "iopub.status.busy": "2024-03-03T03:50:06.254499Z",
     "iopub.status.idle": "2024-03-03T03:50:06.266637Z",
     "shell.execute_reply": "2024-03-03T03:50:06.265448Z",
     "shell.execute_reply.started": "2024-03-03T03:50:06.254801Z"
    },
    "trusted": true
   },
   "outputs": [
    {
     "data": {
      "text/plain": [
       "Gpu\n",
       "Intel     703\n",
       "Nvidia    393\n",
       "AMD       176\n",
       "ARM         1\n",
       "Name: count, dtype: int64"
      ]
     },
     "execution_count": 85,
     "metadata": {},
     "output_type": "execute_result"
    }
   ],
   "source": [
    "tem_df['Gpu'].str.split(' ').str.get(0).value_counts()"
   ]
  },
  {
   "cell_type": "code",
   "execution_count": 86,
   "metadata": {
    "execution": {
     "iopub.execute_input": "2024-03-03T03:50:06.278035Z",
     "iopub.status.busy": "2024-03-03T03:50:06.276578Z",
     "iopub.status.idle": "2024-03-03T03:50:06.284953Z",
     "shell.execute_reply": "2024-03-03T03:50:06.28348Z",
     "shell.execute_reply.started": "2024-03-03T03:50:06.277969Z"
    },
    "trusted": true
   },
   "outputs": [
    {
     "data": {
      "text/plain": [
       "array(['Intel Iris Plus Graphics 640', 'Intel HD Graphics 6000',\n",
       "       'Intel HD Graphics 620', 'AMD Radeon Pro 455',\n",
       "       'Intel Iris Plus Graphics 650', 'AMD Radeon R5',\n",
       "       'Intel Iris Pro Graphics', 'Nvidia GeForce MX150',\n",
       "       'Intel UHD Graphics 620', 'Intel HD Graphics 520',\n",
       "       'AMD Radeon Pro 555', 'AMD Radeon R5 M430',\n",
       "       'Intel HD Graphics 615', 'AMD Radeon Pro 560',\n",
       "       'Nvidia GeForce 940MX', nan, 'Nvidia GeForce GTX 1050',\n",
       "       'AMD Radeon R2', 'AMD Radeon 530', 'Nvidia GeForce 930MX',\n",
       "       'Intel HD Graphics', 'Intel HD Graphics 500',\n",
       "       'Nvidia GeForce 930MX ', 'Nvidia GeForce GTX 1060',\n",
       "       'Nvidia GeForce 150MX', 'Intel Iris Graphics 540',\n",
       "       'AMD Radeon RX 580', 'Nvidia GeForce 920MX',\n",
       "       'AMD Radeon R4 Graphics', 'AMD Radeon 520',\n",
       "       'Nvidia GeForce GTX 1070', 'Nvidia GeForce GTX 1050 Ti',\n",
       "       'Intel HD Graphics 400', 'Nvidia GeForce MX130', 'AMD R4 Graphics',\n",
       "       'Nvidia GeForce GTX 940MX', 'AMD Radeon RX 560',\n",
       "       'Nvidia GeForce 920M', 'AMD Radeon R7 M445', 'AMD Radeon RX 550',\n",
       "       'Nvidia GeForce GTX 1050M', 'Intel HD Graphics 515',\n",
       "       'AMD Radeon R5 M420', 'Intel HD Graphics 505',\n",
       "       'Nvidia GTX 980 SLI', 'AMD R17M-M1-70', 'Nvidia GeForce GTX 1080',\n",
       "       'Nvidia Quadro M1200', 'Nvidia GeForce 920MX ',\n",
       "       'Nvidia GeForce GTX 950M', 'AMD FirePro W4190M ',\n",
       "       'Nvidia GeForce GTX 980M', 'Intel Iris Graphics 550',\n",
       "       'Nvidia GeForce 930M', 'Intel HD Graphics 630',\n",
       "       'AMD Radeon R5 430', 'Nvidia GeForce GTX 940M',\n",
       "       'Intel HD Graphics 510', 'Intel HD Graphics 405',\n",
       "       'AMD Radeon RX 540', 'Nvidia GeForce GT 940MX',\n",
       "       'AMD FirePro W5130M', 'Nvidia Quadro M2200M', 'AMD Radeon R4',\n",
       "       'Nvidia Quadro M620', 'AMD Radeon R7 M460',\n",
       "       'Intel HD Graphics 530', 'Nvidia GeForce GTX 965M',\n",
       "       'Nvidia GeForce GTX1080', 'Nvidia GeForce GTX1050 Ti',\n",
       "       'Nvidia GeForce GTX 960M', 'AMD Radeon R2 Graphics',\n",
       "       'Nvidia Quadro M620M', 'Nvidia GeForce GTX 970M',\n",
       "       'Nvidia GeForce GTX 960<U+039C>', 'Intel Graphics 620',\n",
       "       'Nvidia GeForce GTX 960', 'AMD Radeon R5 520',\n",
       "       'AMD Radeon R7 M440', 'AMD Radeon R7', 'Nvidia Quadro M520M',\n",
       "       'Nvidia Quadro M2200', 'Nvidia Quadro M2000M',\n",
       "       'Intel HD Graphics 540', 'Nvidia Quadro M1000M', 'AMD Radeon 540',\n",
       "       'Nvidia GeForce GTX 1070M', 'Nvidia GeForce GTX1060',\n",
       "       'Intel HD Graphics 5300', 'AMD Radeon R5 M420X',\n",
       "       'AMD Radeon R7 Graphics', 'Nvidia GeForce 920',\n",
       "       'Nvidia GeForce 940M', 'Nvidia GeForce GTX 930MX',\n",
       "       'AMD Radeon R7 M465', 'AMD Radeon R3', 'Nvidia GeForce GTX 1050Ti',\n",
       "       'AMD Radeon R7 M365X', 'AMD Radeon R9 M385',\n",
       "       'Intel HD Graphics 620 ', 'Nvidia Quadro 3000M',\n",
       "       'Nvidia GeForce GTX 980 ', 'AMD Radeon R5 M330',\n",
       "       'AMD FirePro W4190M', 'AMD FirePro W6150M', 'AMD Radeon R5 M315',\n",
       "       'Nvidia Quadro M500M', 'AMD Radeon R7 M360',\n",
       "       'Nvidia Quadro M3000M', 'Nvidia GeForce 960M', 'ARM Mali T860 MP4'],\n",
       "      dtype=object)"
      ]
     },
     "execution_count": 86,
     "metadata": {},
     "output_type": "execute_result"
    }
   ],
   "source": [
    "tem_df['Gpu'].unique()"
   ]
  },
  {
   "cell_type": "code",
   "execution_count": 87,
   "metadata": {
    "execution": {
     "iopub.execute_input": "2024-03-03T03:50:06.287036Z",
     "iopub.status.busy": "2024-03-03T03:50:06.286083Z",
     "iopub.status.idle": "2024-03-03T03:50:06.30974Z",
     "shell.execute_reply": "2024-03-03T03:50:06.308796Z",
     "shell.execute_reply.started": "2024-03-03T03:50:06.286938Z"
    },
    "trusted": true
   },
   "outputs": [
    {
     "data": {
      "text/html": [
       "<div>\n",
       "<style scoped>\n",
       "    .dataframe tbody tr th:only-of-type {\n",
       "        vertical-align: middle;\n",
       "    }\n",
       "\n",
       "    .dataframe tbody tr th {\n",
       "        vertical-align: top;\n",
       "    }\n",
       "\n",
       "    .dataframe thead th {\n",
       "        text-align: right;\n",
       "    }\n",
       "</style>\n",
       "<table border=\"1\" class=\"dataframe\">\n",
       "  <thead>\n",
       "    <tr style=\"text-align: right;\">\n",
       "      <th></th>\n",
       "      <th>Company</th>\n",
       "      <th>TypeName</th>\n",
       "      <th>Inches</th>\n",
       "      <th>ScreenResolution</th>\n",
       "      <th>Cpu</th>\n",
       "      <th>Ram</th>\n",
       "      <th>Memory</th>\n",
       "      <th>Gpu</th>\n",
       "      <th>OpSys</th>\n",
       "      <th>Weight</th>\n",
       "      <th>Price</th>\n",
       "    </tr>\n",
       "  </thead>\n",
       "  <tbody>\n",
       "    <tr>\n",
       "      <th>1191</th>\n",
       "      <td>Samsung</td>\n",
       "      <td>2 in 1 Convertible</td>\n",
       "      <td>12.3</td>\n",
       "      <td>IPS Panel Touchscreen 2400x1600</td>\n",
       "      <td>Samsung Cortex A72&amp;A53 2.0GHz</td>\n",
       "      <td>4GB</td>\n",
       "      <td>32GB Flash Storage</td>\n",
       "      <td>ARM Mali T860 MP4</td>\n",
       "      <td>Chrome OS</td>\n",
       "      <td>1.15kg</td>\n",
       "      <td>35111.52</td>\n",
       "    </tr>\n",
       "  </tbody>\n",
       "</table>\n",
       "</div>"
      ],
      "text/plain": [
       "      Company            TypeName Inches                 ScreenResolution  \\\n",
       "1191  Samsung  2 in 1 Convertible   12.3  IPS Panel Touchscreen 2400x1600   \n",
       "\n",
       "                                Cpu  Ram              Memory  \\\n",
       "1191  Samsung Cortex A72&A53 2.0GHz  4GB  32GB Flash Storage   \n",
       "\n",
       "                    Gpu      OpSys  Weight     Price  \n",
       "1191  ARM Mali T860 MP4  Chrome OS  1.15kg  35111.52  "
      ]
     },
     "execution_count": 87,
     "metadata": {},
     "output_type": "execute_result"
    }
   ],
   "source": [
    "tem_df[tem_df['Gpu'].fillna('').str.contains('ARM')]"
   ]
  },
  {
   "cell_type": "code",
   "execution_count": 88,
   "metadata": {
    "execution": {
     "iopub.execute_input": "2024-03-03T03:50:06.314256Z",
     "iopub.status.busy": "2024-03-03T03:50:06.310694Z",
     "iopub.status.idle": "2024-03-03T03:50:06.320693Z",
     "shell.execute_reply": "2024-03-03T03:50:06.319975Z",
     "shell.execute_reply.started": "2024-03-03T03:50:06.314223Z"
    },
    "trusted": true
   },
   "outputs": [
    {
     "data": {
      "text/plain": [
       "array(['Intel Iris Plus Graphics 640', 'Intel HD Graphics 6000',\n",
       "       'Intel HD Graphics 620', 'AMD Radeon Pro 455',\n",
       "       'Intel Iris Plus Graphics 650', 'AMD Radeon R5',\n",
       "       'Intel Iris Pro Graphics', 'Nvidia GeForce MX150',\n",
       "       'Intel UHD Graphics 620', 'Intel HD Graphics 520',\n",
       "       'AMD Radeon Pro 555', 'AMD Radeon R5 M430',\n",
       "       'Intel HD Graphics 615', 'AMD Radeon Pro 560',\n",
       "       'Nvidia GeForce 940MX', nan, 'Nvidia GeForce GTX 1050',\n",
       "       'AMD Radeon R2', 'AMD Radeon 530', 'Nvidia GeForce 930MX',\n",
       "       'Intel HD Graphics', 'Intel HD Graphics 500',\n",
       "       'Nvidia GeForce 930MX ', 'Nvidia GeForce GTX 1060',\n",
       "       'Nvidia GeForce 150MX', 'Intel Iris Graphics 540',\n",
       "       'AMD Radeon RX 580', 'Nvidia GeForce 920MX',\n",
       "       'AMD Radeon R4 Graphics', 'AMD Radeon 520',\n",
       "       'Nvidia GeForce GTX 1070', 'Nvidia GeForce GTX 1050 Ti',\n",
       "       'Intel HD Graphics 400', 'Nvidia GeForce MX130', 'AMD R4 Graphics',\n",
       "       'Nvidia GeForce GTX 940MX', 'AMD Radeon RX 560',\n",
       "       'Nvidia GeForce 920M', 'AMD Radeon R7 M445', 'AMD Radeon RX 550',\n",
       "       'Nvidia GeForce GTX 1050M', 'Intel HD Graphics 515',\n",
       "       'AMD Radeon R5 M420', 'Intel HD Graphics 505',\n",
       "       'Nvidia GTX 980 SLI', 'AMD R17M-M1-70', 'Nvidia GeForce GTX 1080',\n",
       "       'Nvidia Quadro M1200', 'Nvidia GeForce 920MX ',\n",
       "       'Nvidia GeForce GTX 950M', 'AMD FirePro W4190M ',\n",
       "       'Nvidia GeForce GTX 980M', 'Intel Iris Graphics 550',\n",
       "       'Nvidia GeForce 930M', 'Intel HD Graphics 630',\n",
       "       'AMD Radeon R5 430', 'Nvidia GeForce GTX 940M',\n",
       "       'Intel HD Graphics 510', 'Intel HD Graphics 405',\n",
       "       'AMD Radeon RX 540', 'Nvidia GeForce GT 940MX',\n",
       "       'AMD FirePro W5130M', 'Nvidia Quadro M2200M', 'AMD Radeon R4',\n",
       "       'Nvidia Quadro M620', 'AMD Radeon R7 M460',\n",
       "       'Intel HD Graphics 530', 'Nvidia GeForce GTX 965M',\n",
       "       'Nvidia GeForce GTX1080', 'Nvidia GeForce GTX1050 Ti',\n",
       "       'Nvidia GeForce GTX 960M', 'AMD Radeon R2 Graphics',\n",
       "       'Nvidia Quadro M620M', 'Nvidia GeForce GTX 970M',\n",
       "       'Nvidia GeForce GTX 960<U+039C>', 'Intel Graphics 620',\n",
       "       'Nvidia GeForce GTX 960', 'AMD Radeon R5 520',\n",
       "       'AMD Radeon R7 M440', 'AMD Radeon R7', 'Nvidia Quadro M520M',\n",
       "       'Nvidia Quadro M2200', 'Nvidia Quadro M2000M',\n",
       "       'Intel HD Graphics 540', 'Nvidia Quadro M1000M', 'AMD Radeon 540',\n",
       "       'Nvidia GeForce GTX 1070M', 'Nvidia GeForce GTX1060',\n",
       "       'Intel HD Graphics 5300', 'AMD Radeon R5 M420X',\n",
       "       'AMD Radeon R7 Graphics', 'Nvidia GeForce 920',\n",
       "       'Nvidia GeForce 940M', 'Nvidia GeForce GTX 930MX',\n",
       "       'AMD Radeon R7 M465', 'AMD Radeon R3', 'Nvidia GeForce GTX 1050Ti',\n",
       "       'AMD Radeon R7 M365X', 'AMD Radeon R9 M385',\n",
       "       'Intel HD Graphics 620 ', 'Nvidia Quadro 3000M',\n",
       "       'Nvidia GeForce GTX 980 ', 'AMD Radeon R5 M330',\n",
       "       'AMD FirePro W4190M', 'AMD FirePro W6150M', 'AMD Radeon R5 M315',\n",
       "       'Nvidia Quadro M500M', 'AMD Radeon R7 M360',\n",
       "       'Nvidia Quadro M3000M', 'Nvidia GeForce 960M', 'ARM Mali T860 MP4'],\n",
       "      dtype=object)"
      ]
     },
     "execution_count": 88,
     "metadata": {},
     "output_type": "execute_result"
    }
   ],
   "source": [
    "tem_df['Gpu'].unique()"
   ]
  },
  {
   "cell_type": "markdown",
   "metadata": {},
   "source": [
    "#### Explore the 'OpSys' column and identify any inconsistencies"
   ]
  },
  {
   "cell_type": "code",
   "execution_count": 89,
   "metadata": {
    "execution": {
     "iopub.execute_input": "2024-03-03T03:50:06.322178Z",
     "iopub.status.busy": "2024-03-03T03:50:06.321577Z",
     "iopub.status.idle": "2024-03-03T03:50:06.335038Z",
     "shell.execute_reply": "2024-03-03T03:50:06.334222Z",
     "shell.execute_reply.started": "2024-03-03T03:50:06.322154Z"
    },
    "trusted": true
   },
   "outputs": [
    {
     "data": {
      "text/plain": [
       "OpSys\n",
       "Windows 10      1047\n",
       "No OS             63\n",
       "Linux             61\n",
       "Windows 7         45\n",
       "Chrome OS         27\n",
       "macOS             13\n",
       "Mac OS X           8\n",
       "Windows 10 S       8\n",
       "Android            1\n",
       "Name: count, dtype: int64"
      ]
     },
     "execution_count": 89,
     "metadata": {},
     "output_type": "execute_result"
    }
   ],
   "source": [
    "tem_df['OpSys'].value_counts()"
   ]
  },
  {
   "cell_type": "code",
   "execution_count": 90,
   "metadata": {
    "execution": {
     "iopub.execute_input": "2024-03-03T03:50:06.336735Z",
     "iopub.status.busy": "2024-03-03T03:50:06.336222Z",
     "iopub.status.idle": "2024-03-03T03:50:06.356832Z",
     "shell.execute_reply": "2024-03-03T03:50:06.355728Z",
     "shell.execute_reply.started": "2024-03-03T03:50:06.336707Z"
    },
    "trusted": true
   },
   "outputs": [
    {
     "data": {
      "text/html": [
       "<div>\n",
       "<style scoped>\n",
       "    .dataframe tbody tr th:only-of-type {\n",
       "        vertical-align: middle;\n",
       "    }\n",
       "\n",
       "    .dataframe tbody tr th {\n",
       "        vertical-align: top;\n",
       "    }\n",
       "\n",
       "    .dataframe thead th {\n",
       "        text-align: right;\n",
       "    }\n",
       "</style>\n",
       "<table border=\"1\" class=\"dataframe\">\n",
       "  <thead>\n",
       "    <tr style=\"text-align: right;\">\n",
       "      <th></th>\n",
       "      <th>Company</th>\n",
       "      <th>TypeName</th>\n",
       "      <th>Inches</th>\n",
       "      <th>ScreenResolution</th>\n",
       "      <th>Cpu</th>\n",
       "      <th>Ram</th>\n",
       "      <th>Memory</th>\n",
       "      <th>Gpu</th>\n",
       "      <th>OpSys</th>\n",
       "      <th>Weight</th>\n",
       "      <th>Price</th>\n",
       "    </tr>\n",
       "  </thead>\n",
       "  <tbody>\n",
       "    <tr>\n",
       "      <th>1114</th>\n",
       "      <td>Lenovo</td>\n",
       "      <td>2 in 1 Convertible</td>\n",
       "      <td>10.1</td>\n",
       "      <td>IPS Panel Touchscreen 1920x1200</td>\n",
       "      <td>Intel Atom x5-Z8550 1.44GHz</td>\n",
       "      <td>4GB</td>\n",
       "      <td>64GB Flash Storage</td>\n",
       "      <td>Intel HD Graphics 400</td>\n",
       "      <td>Android</td>\n",
       "      <td>0.69kg</td>\n",
       "      <td>29250.72</td>\n",
       "    </tr>\n",
       "  </tbody>\n",
       "</table>\n",
       "</div>"
      ],
      "text/plain": [
       "     Company            TypeName Inches                 ScreenResolution  \\\n",
       "1114  Lenovo  2 in 1 Convertible   10.1  IPS Panel Touchscreen 1920x1200   \n",
       "\n",
       "                              Cpu  Ram              Memory  \\\n",
       "1114  Intel Atom x5-Z8550 1.44GHz  4GB  64GB Flash Storage   \n",
       "\n",
       "                        Gpu    OpSys  Weight     Price  \n",
       "1114  Intel HD Graphics 400  Android  0.69kg  29250.72  "
      ]
     },
     "execution_count": 90,
     "metadata": {},
     "output_type": "execute_result"
    }
   ],
   "source": [
    "tem_df[tem_df['OpSys'] == 'Android']"
   ]
  },
  {
   "cell_type": "markdown",
   "metadata": {},
   "source": [
    "- Inconsistency in mentioning \"Android\" as the operating system for a Lenovo 2-in-1 convertible device raises accuracy concerns in the dataset.`consistency`\n",
    "\n",
    "- The issue in the OS column some os values is inconsistency in operating system versions, leading to potential data quality problems.`consistency`"
   ]
  },
  {
   "cell_type": "code",
   "execution_count": 91,
   "metadata": {
    "execution": {
     "iopub.execute_input": "2024-03-03T03:50:06.359062Z",
     "iopub.status.busy": "2024-03-03T03:50:06.357993Z",
     "iopub.status.idle": "2024-03-03T03:50:06.373119Z",
     "shell.execute_reply": "2024-03-03T03:50:06.37146Z",
     "shell.execute_reply.started": "2024-03-03T03:50:06.359031Z"
    },
    "trusted": true
   },
   "outputs": [
    {
     "data": {
      "text/plain": [
       "array(['macOS', 'No OS', 'Windows 10', 'Mac OS X', nan, 'Linux',\n",
       "       'Windows 10 S', 'Chrome OS', 'Windows 7', 'Android'], dtype=object)"
      ]
     },
     "execution_count": 91,
     "metadata": {},
     "output_type": "execute_result"
    }
   ],
   "source": [
    "tem_df['OpSys'].unique()"
   ]
  },
  {
   "cell_type": "markdown",
   "metadata": {},
   "source": [
    "#### Explore the 'Weight' column and identify any inconsistencies"
   ]
  },
  {
   "cell_type": "code",
   "execution_count": 92,
   "metadata": {
    "execution": {
     "iopub.execute_input": "2024-03-03T03:50:06.37585Z",
     "iopub.status.busy": "2024-03-03T03:50:06.375153Z",
     "iopub.status.idle": "2024-03-03T03:50:06.388912Z",
     "shell.execute_reply": "2024-03-03T03:50:06.387535Z",
     "shell.execute_reply.started": "2024-03-03T03:50:06.375812Z"
    },
    "trusted": true
   },
   "outputs": [],
   "source": [
    "k = tem_df['Weight'].str.split('kg').str.get(0).dropna().str.replace('?','1.1111').unique()"
   ]
  },
  {
   "cell_type": "code",
   "execution_count": 93,
   "metadata": {
    "execution": {
     "iopub.execute_input": "2024-03-03T03:50:06.391618Z",
     "iopub.status.busy": "2024-03-03T03:50:06.391037Z",
     "iopub.status.idle": "2024-03-03T03:50:06.403416Z",
     "shell.execute_reply": "2024-03-03T03:50:06.402292Z",
     "shell.execute_reply.started": "2024-03-03T03:50:06.391342Z"
    },
    "trusted": true
   },
   "outputs": [
    {
     "name": "stdout",
     "output_type": "stream",
     "text": [
      "['0.0002', '0.69', '0.81', '0.91', '0.92', '0.920', '0.97', '0.98', '0.99', '1.05', '1.08', '1.09', '1.1', '1.10', '1.11', '1.1111', '1.12', '1.13', '1.14', '1.15', '1.16', '1.17', '1.18', '1.19', '1.2', '1.21', '1.22', '1.23', '1.24', '1.25', '1.252', '1.26', '1.27', '1.28', '1.29', '1.3', '1.31', '1.32', '1.34', '1.35', '1.36', '1.37', '1.38', '1.39', '1.4', '1.41', '1.42', '1.43', '1.44', '1.45', '1.47', '1.48', '1.49', '1.5', '1.54', '1.55', '1.56', '1.58', '1.59', '1.6', '1.62', '1.63', '1.64', '1.65', '1.68', '1.7', '1.70', '1.71', '1.74', '1.75', '1.76', '1.78', '1.79', '1.8', '1.83', '1.84', '1.85', '1.86', '1.87', '1.88', '1.89', '1.9', '1.90', '1.91', '1.93', '1.94', '1.95', '1.96', '1.98', '1.99', '11.1', '2', '2.0', '2.02', '2.03', '2.04', '2.05', '2.06', '2.07', '2.08', '2.09', '2.1', '2.13', '2.14', '2.15', '2.16', '2.17', '2.18', '2.19', '2.191', '2.2', '2.20', '2.21', '2.23', '2.24', '2.25', '2.26', '2.29', '2.3', '2.31', '2.32', '2.33', '2.34', '2.36', '2.37', '2.38', '2.4', '2.43', '2.45', '2.5', '2.54', '2.56', '2.59', '2.591', '2.6', '2.62', '2.63', '2.65', '2.67', '2.69', '2.7', '2.71', '2.72', '2.73', '2.75', '2.77', '2.79', '2.8', '2.83', '2.9', '2.94', '2.99', '3', '3.0', '3.14', '3.2', '3.21', '3.25', '3.3', '3.31', '3.35', '3.4', '3.42', '3.49', '3.52', '3.58', '3.6', '3.74', '3.78', '3.8', '4', '4.0', '4.1', '4.14', '4.2', '4.3', '4.33', '4.36', '4.4', '4.42', '4.5', '4.6', '4.7', '5.4', '5.8', '6.2', '7.2', '8.23', '8.4']\n"
     ]
    }
   ],
   "source": [
    "print(sorted(k))"
   ]
  },
  {
   "cell_type": "code",
   "execution_count": 94,
   "metadata": {
    "execution": {
     "iopub.execute_input": "2024-03-03T03:50:06.40513Z",
     "iopub.status.busy": "2024-03-03T03:50:06.404682Z",
     "iopub.status.idle": "2024-03-03T03:50:06.426894Z",
     "shell.execute_reply": "2024-03-03T03:50:06.426094Z",
     "shell.execute_reply.started": "2024-03-03T03:50:06.405095Z"
    },
    "trusted": true
   },
   "outputs": [
    {
     "data": {
      "text/html": [
       "<div>\n",
       "<style scoped>\n",
       "    .dataframe tbody tr th:only-of-type {\n",
       "        vertical-align: middle;\n",
       "    }\n",
       "\n",
       "    .dataframe tbody tr th {\n",
       "        vertical-align: top;\n",
       "    }\n",
       "\n",
       "    .dataframe thead th {\n",
       "        text-align: right;\n",
       "    }\n",
       "</style>\n",
       "<table border=\"1\" class=\"dataframe\">\n",
       "  <thead>\n",
       "    <tr style=\"text-align: right;\">\n",
       "      <th></th>\n",
       "      <th>Company</th>\n",
       "      <th>TypeName</th>\n",
       "      <th>Inches</th>\n",
       "      <th>ScreenResolution</th>\n",
       "      <th>Cpu</th>\n",
       "      <th>Ram</th>\n",
       "      <th>Memory</th>\n",
       "      <th>Gpu</th>\n",
       "      <th>OpSys</th>\n",
       "      <th>Weight</th>\n",
       "      <th>Price</th>\n",
       "    </tr>\n",
       "  </thead>\n",
       "  <tbody>\n",
       "    <tr>\n",
       "      <th>349</th>\n",
       "      <td>Dell</td>\n",
       "      <td>Ultrabook</td>\n",
       "      <td>15.6</td>\n",
       "      <td>Full HD 1920x1080</td>\n",
       "      <td>Intel Core i5 8250U 1.6GHz</td>\n",
       "      <td>8GB</td>\n",
       "      <td>1TB HDD</td>\n",
       "      <td>AMD Radeon 530</td>\n",
       "      <td>Windows 10</td>\n",
       "      <td>0.0002kg</td>\n",
       "      <td>35324.64</td>\n",
       "    </tr>\n",
       "  </tbody>\n",
       "</table>\n",
       "</div>"
      ],
      "text/plain": [
       "    Company   TypeName Inches   ScreenResolution                         Cpu  \\\n",
       "349    Dell  Ultrabook   15.6  Full HD 1920x1080  Intel Core i5 8250U 1.6GHz   \n",
       "\n",
       "     Ram   Memory             Gpu       OpSys    Weight     Price  \n",
       "349  8GB  1TB HDD  AMD Radeon 530  Windows 10  0.0002kg  35324.64  "
      ]
     },
     "execution_count": 94,
     "metadata": {},
     "output_type": "execute_result"
    }
   ],
   "source": [
    "# this values might be 2kg or 2.2 or 2.02 kg\n",
    "tem_df[tem_df['Weight'] == '0.0002kg']"
   ]
  },
  {
   "cell_type": "code",
   "execution_count": 95,
   "metadata": {
    "execution": {
     "iopub.execute_input": "2024-03-03T03:50:06.428273Z",
     "iopub.status.busy": "2024-03-03T03:50:06.427982Z",
     "iopub.status.idle": "2024-03-03T03:50:06.453835Z",
     "shell.execute_reply": "2024-03-03T03:50:06.452922Z",
     "shell.execute_reply.started": "2024-03-03T03:50:06.428249Z"
    },
    "trusted": true
   },
   "outputs": [
    {
     "data": {
      "text/html": [
       "<div>\n",
       "<style scoped>\n",
       "    .dataframe tbody tr th:only-of-type {\n",
       "        vertical-align: middle;\n",
       "    }\n",
       "\n",
       "    .dataframe tbody tr th {\n",
       "        vertical-align: top;\n",
       "    }\n",
       "\n",
       "    .dataframe thead th {\n",
       "        text-align: right;\n",
       "    }\n",
       "</style>\n",
       "<table border=\"1\" class=\"dataframe\">\n",
       "  <thead>\n",
       "    <tr style=\"text-align: right;\">\n",
       "      <th></th>\n",
       "      <th>Company</th>\n",
       "      <th>TypeName</th>\n",
       "      <th>Inches</th>\n",
       "      <th>ScreenResolution</th>\n",
       "      <th>Cpu</th>\n",
       "      <th>Ram</th>\n",
       "      <th>Memory</th>\n",
       "      <th>Gpu</th>\n",
       "      <th>OpSys</th>\n",
       "      <th>Weight</th>\n",
       "      <th>Price</th>\n",
       "    </tr>\n",
       "  </thead>\n",
       "  <tbody>\n",
       "    <tr>\n",
       "      <th>27</th>\n",
       "      <td>Dell</td>\n",
       "      <td>Notebook</td>\n",
       "      <td>15.6</td>\n",
       "      <td>Full HD 1920x1080</td>\n",
       "      <td>Intel Core i5 8250U 1.6GHz</td>\n",
       "      <td>8GB</td>\n",
       "      <td>256GB SSD</td>\n",
       "      <td>AMD Radeon 530</td>\n",
       "      <td>Windows 10</td>\n",
       "      <td>2.2kg</td>\n",
       "      <td>42624.0000</td>\n",
       "    </tr>\n",
       "    <tr>\n",
       "      <th>72</th>\n",
       "      <td>Dell</td>\n",
       "      <td>Notebook</td>\n",
       "      <td>15.6</td>\n",
       "      <td>Full HD 1920x1080</td>\n",
       "      <td>Intel Core i7 8550U 1.8GHz</td>\n",
       "      <td>8GB</td>\n",
       "      <td>256GB SSD</td>\n",
       "      <td>AMD Radeon 530</td>\n",
       "      <td>Windows 10</td>\n",
       "      <td>2.2kg</td>\n",
       "      <td>46353.6000</td>\n",
       "    </tr>\n",
       "    <tr>\n",
       "      <th>180</th>\n",
       "      <td>Dell</td>\n",
       "      <td>Notebook</td>\n",
       "      <td>15.6</td>\n",
       "      <td>Full HD 1920x1080</td>\n",
       "      <td>Intel Core i7 8550U 1.8GHz</td>\n",
       "      <td>16GB</td>\n",
       "      <td>256GB SSD +  2TB HDD</td>\n",
       "      <td>AMD Radeon 530</td>\n",
       "      <td>Linux</td>\n",
       "      <td>2.02kg</td>\n",
       "      <td>55890.7200</td>\n",
       "    </tr>\n",
       "    <tr>\n",
       "      <th>245</th>\n",
       "      <td>Dell</td>\n",
       "      <td>Notebook</td>\n",
       "      <td>15.6</td>\n",
       "      <td>Full HD 1920x1080</td>\n",
       "      <td>Intel Core i7 8550U 1.8GHz</td>\n",
       "      <td>8GB</td>\n",
       "      <td>128GB SSD +  2TB HDD</td>\n",
       "      <td>AMD Radeon 530</td>\n",
       "      <td>Windows 10</td>\n",
       "      <td>2.2kg</td>\n",
       "      <td>52480.8000</td>\n",
       "    </tr>\n",
       "    <tr>\n",
       "      <th>315</th>\n",
       "      <td>Dell</td>\n",
       "      <td>Notebook</td>\n",
       "      <td>15.6</td>\n",
       "      <td>Full HD 1920x1080</td>\n",
       "      <td>Intel Core i5 8250U 1.6GHz</td>\n",
       "      <td>8GB</td>\n",
       "      <td>128GB SSD +  1TB HDD</td>\n",
       "      <td>AMD Radeon 530</td>\n",
       "      <td>Windows 10</td>\n",
       "      <td>2.33kg</td>\n",
       "      <td>44968.3200</td>\n",
       "    </tr>\n",
       "    <tr>\n",
       "      <th>349</th>\n",
       "      <td>Dell</td>\n",
       "      <td>Ultrabook</td>\n",
       "      <td>15.6</td>\n",
       "      <td>Full HD 1920x1080</td>\n",
       "      <td>Intel Core i5 8250U 1.6GHz</td>\n",
       "      <td>8GB</td>\n",
       "      <td>1TB HDD</td>\n",
       "      <td>AMD Radeon 530</td>\n",
       "      <td>Windows 10</td>\n",
       "      <td>0.0002kg</td>\n",
       "      <td>35324.6400</td>\n",
       "    </tr>\n",
       "    <tr>\n",
       "      <th>355</th>\n",
       "      <td>Dell</td>\n",
       "      <td>Notebook</td>\n",
       "      <td>15.6</td>\n",
       "      <td>Full HD 1920x1080</td>\n",
       "      <td>Intel Core i7 8550U 1.8GHz</td>\n",
       "      <td>8GB</td>\n",
       "      <td>128GB SSD +  2TB HDD</td>\n",
       "      <td>AMD Radeon 530</td>\n",
       "      <td>Windows 10</td>\n",
       "      <td>2.02kg</td>\n",
       "      <td>51729.5520</td>\n",
       "    </tr>\n",
       "    <tr>\n",
       "      <th>426</th>\n",
       "      <td>Dell</td>\n",
       "      <td>Notebook</td>\n",
       "      <td>15.6</td>\n",
       "      <td>Full HD 1920x1080</td>\n",
       "      <td>Intel Core i7 8550U 1.8GHz</td>\n",
       "      <td>8GB</td>\n",
       "      <td>256GB SSD +  2TB HDD</td>\n",
       "      <td>AMD Radeon 530</td>\n",
       "      <td>Windows 10</td>\n",
       "      <td>2.02kg</td>\n",
       "      <td>60867.0720</td>\n",
       "    </tr>\n",
       "    <tr>\n",
       "      <th>441</th>\n",
       "      <td>Dell</td>\n",
       "      <td>Notebook</td>\n",
       "      <td>15.6</td>\n",
       "      <td>Full HD 1920x1080</td>\n",
       "      <td>Intel Core i5 8250U 1.6GHz</td>\n",
       "      <td>4GB</td>\n",
       "      <td>256GB SSD</td>\n",
       "      <td>AMD Radeon 530</td>\n",
       "      <td>Windows 10</td>\n",
       "      <td>2.2kg</td>\n",
       "      <td>39906.7200</td>\n",
       "    </tr>\n",
       "    <tr>\n",
       "      <th>454</th>\n",
       "      <td>Dell</td>\n",
       "      <td>Notebook</td>\n",
       "      <td>15.6</td>\n",
       "      <td>Full HD 1920x1080</td>\n",
       "      <td>Intel Core i7 8550U 1.8GHz</td>\n",
       "      <td>8GB</td>\n",
       "      <td>128GB SSD +  1TB HDD</td>\n",
       "      <td>AMD Radeon 530</td>\n",
       "      <td>Windows 10</td>\n",
       "      <td>2.36kg</td>\n",
       "      <td>52161.1200</td>\n",
       "    </tr>\n",
       "    <tr>\n",
       "      <th>467</th>\n",
       "      <td>Dell</td>\n",
       "      <td>Notebook</td>\n",
       "      <td>15.6</td>\n",
       "      <td>Full HD 1920x1080</td>\n",
       "      <td>Intel Core i5 8250U 1.6GHz</td>\n",
       "      <td>8GB</td>\n",
       "      <td>2TB HDD</td>\n",
       "      <td>AMD Radeon 530</td>\n",
       "      <td>Windows 10</td>\n",
       "      <td>2.02kg</td>\n",
       "      <td>40439.5200</td>\n",
       "    </tr>\n",
       "    <tr>\n",
       "      <th>513</th>\n",
       "      <td>Dell</td>\n",
       "      <td>Notebook</td>\n",
       "      <td>15.6</td>\n",
       "      <td>Full HD 1920x1080</td>\n",
       "      <td>Intel Core i7 8550U 1.8GHz</td>\n",
       "      <td>16GB</td>\n",
       "      <td>256GB SSD +  2TB HDD</td>\n",
       "      <td>AMD Radeon 530</td>\n",
       "      <td>Windows 10</td>\n",
       "      <td>2.2kg</td>\n",
       "      <td>64961.1072</td>\n",
       "    </tr>\n",
       "    <tr>\n",
       "      <th>536</th>\n",
       "      <td>Dell</td>\n",
       "      <td>Notebook</td>\n",
       "      <td>15.6</td>\n",
       "      <td>Full HD 1920x1080</td>\n",
       "      <td>Intel Core i5 8250U 1.6GHz</td>\n",
       "      <td>8GB</td>\n",
       "      <td>256GB SSD</td>\n",
       "      <td>AMD Radeon 530</td>\n",
       "      <td>Windows 10</td>\n",
       "      <td>2.2kg</td>\n",
       "      <td>42486.0048</td>\n",
       "    </tr>\n",
       "    <tr>\n",
       "      <th>622</th>\n",
       "      <td>Dell</td>\n",
       "      <td>Notebook</td>\n",
       "      <td>15.6</td>\n",
       "      <td>Full HD 1920x1080</td>\n",
       "      <td>Intel Core i5 8250U 1.6GHz</td>\n",
       "      <td>4GB</td>\n",
       "      <td>1TB HDD</td>\n",
       "      <td>AMD Radeon 530</td>\n",
       "      <td>Windows 10</td>\n",
       "      <td>2.2kg</td>\n",
       "      <td>41345.2800</td>\n",
       "    </tr>\n",
       "    <tr>\n",
       "      <th>656</th>\n",
       "      <td>Dell</td>\n",
       "      <td>Notebook</td>\n",
       "      <td>15.6</td>\n",
       "      <td>Full HD 1920x1080</td>\n",
       "      <td>Intel Core i7 8550U 1.8GHz</td>\n",
       "      <td>8GB</td>\n",
       "      <td>256GB SSD</td>\n",
       "      <td>AMD Radeon 530</td>\n",
       "      <td>Windows 10</td>\n",
       "      <td>6.2kg</td>\n",
       "      <td>48964.3200</td>\n",
       "    </tr>\n",
       "    <tr>\n",
       "      <th>657</th>\n",
       "      <td>Dell</td>\n",
       "      <td>Notebook</td>\n",
       "      <td>15.6</td>\n",
       "      <td>Full HD 1920x1080</td>\n",
       "      <td>Intel Core i7 8550U 1.8GHz</td>\n",
       "      <td>16GB</td>\n",
       "      <td>256GB SSD +  2TB HDD</td>\n",
       "      <td>AMD Radeon 530</td>\n",
       "      <td>Windows 10</td>\n",
       "      <td>2.2kg</td>\n",
       "      <td>60472.8000</td>\n",
       "    </tr>\n",
       "  </tbody>\n",
       "</table>\n",
       "</div>"
      ],
      "text/plain": [
       "    Company   TypeName Inches   ScreenResolution                         Cpu  \\\n",
       "27     Dell   Notebook   15.6  Full HD 1920x1080  Intel Core i5 8250U 1.6GHz   \n",
       "72     Dell   Notebook   15.6  Full HD 1920x1080  Intel Core i7 8550U 1.8GHz   \n",
       "180    Dell   Notebook   15.6  Full HD 1920x1080  Intel Core i7 8550U 1.8GHz   \n",
       "245    Dell   Notebook   15.6  Full HD 1920x1080  Intel Core i7 8550U 1.8GHz   \n",
       "315    Dell   Notebook   15.6  Full HD 1920x1080  Intel Core i5 8250U 1.6GHz   \n",
       "349    Dell  Ultrabook   15.6  Full HD 1920x1080  Intel Core i5 8250U 1.6GHz   \n",
       "355    Dell   Notebook   15.6  Full HD 1920x1080  Intel Core i7 8550U 1.8GHz   \n",
       "426    Dell   Notebook   15.6  Full HD 1920x1080  Intel Core i7 8550U 1.8GHz   \n",
       "441    Dell   Notebook   15.6  Full HD 1920x1080  Intel Core i5 8250U 1.6GHz   \n",
       "454    Dell   Notebook   15.6  Full HD 1920x1080  Intel Core i7 8550U 1.8GHz   \n",
       "467    Dell   Notebook   15.6  Full HD 1920x1080  Intel Core i5 8250U 1.6GHz   \n",
       "513    Dell   Notebook   15.6  Full HD 1920x1080  Intel Core i7 8550U 1.8GHz   \n",
       "536    Dell   Notebook   15.6  Full HD 1920x1080  Intel Core i5 8250U 1.6GHz   \n",
       "622    Dell   Notebook   15.6  Full HD 1920x1080  Intel Core i5 8250U 1.6GHz   \n",
       "656    Dell   Notebook   15.6  Full HD 1920x1080  Intel Core i7 8550U 1.8GHz   \n",
       "657    Dell   Notebook   15.6  Full HD 1920x1080  Intel Core i7 8550U 1.8GHz   \n",
       "\n",
       "      Ram                Memory             Gpu       OpSys    Weight  \\\n",
       "27    8GB             256GB SSD  AMD Radeon 530  Windows 10     2.2kg   \n",
       "72    8GB             256GB SSD  AMD Radeon 530  Windows 10     2.2kg   \n",
       "180  16GB  256GB SSD +  2TB HDD  AMD Radeon 530       Linux    2.02kg   \n",
       "245   8GB  128GB SSD +  2TB HDD  AMD Radeon 530  Windows 10     2.2kg   \n",
       "315   8GB  128GB SSD +  1TB HDD  AMD Radeon 530  Windows 10    2.33kg   \n",
       "349   8GB               1TB HDD  AMD Radeon 530  Windows 10  0.0002kg   \n",
       "355   8GB  128GB SSD +  2TB HDD  AMD Radeon 530  Windows 10    2.02kg   \n",
       "426   8GB  256GB SSD +  2TB HDD  AMD Radeon 530  Windows 10    2.02kg   \n",
       "441   4GB             256GB SSD  AMD Radeon 530  Windows 10     2.2kg   \n",
       "454   8GB  128GB SSD +  1TB HDD  AMD Radeon 530  Windows 10    2.36kg   \n",
       "467   8GB               2TB HDD  AMD Radeon 530  Windows 10    2.02kg   \n",
       "513  16GB  256GB SSD +  2TB HDD  AMD Radeon 530  Windows 10     2.2kg   \n",
       "536   8GB             256GB SSD  AMD Radeon 530  Windows 10     2.2kg   \n",
       "622   4GB               1TB HDD  AMD Radeon 530  Windows 10     2.2kg   \n",
       "656   8GB             256GB SSD  AMD Radeon 530  Windows 10     6.2kg   \n",
       "657  16GB  256GB SSD +  2TB HDD  AMD Radeon 530  Windows 10     2.2kg   \n",
       "\n",
       "          Price  \n",
       "27   42624.0000  \n",
       "72   46353.6000  \n",
       "180  55890.7200  \n",
       "245  52480.8000  \n",
       "315  44968.3200  \n",
       "349  35324.6400  \n",
       "355  51729.5520  \n",
       "426  60867.0720  \n",
       "441  39906.7200  \n",
       "454  52161.1200  \n",
       "467  40439.5200  \n",
       "513  64961.1072  \n",
       "536  42486.0048  \n",
       "622  41345.2800  \n",
       "656  48964.3200  \n",
       "657  60472.8000  "
      ]
     },
     "execution_count": 95,
     "metadata": {},
     "output_type": "execute_result"
    }
   ],
   "source": [
    "tem_df[(tem_df['Company'] == 'Dell') & (tem_df['Inches'] == '15.6') & (tem_df['Gpu'] == 'AMD Radeon 530')]"
   ]
  },
  {
   "cell_type": "code",
   "execution_count": 96,
   "metadata": {
    "execution": {
     "iopub.execute_input": "2024-03-03T03:50:06.456171Z",
     "iopub.status.busy": "2024-03-03T03:50:06.455303Z",
     "iopub.status.idle": "2024-03-03T03:50:06.471851Z",
     "shell.execute_reply": "2024-03-03T03:50:06.470292Z",
     "shell.execute_reply.started": "2024-03-03T03:50:06.456144Z"
    },
    "trusted": true
   },
   "outputs": [
    {
     "data": {
      "text/html": [
       "<div>\n",
       "<style scoped>\n",
       "    .dataframe tbody tr th:only-of-type {\n",
       "        vertical-align: middle;\n",
       "    }\n",
       "\n",
       "    .dataframe tbody tr th {\n",
       "        vertical-align: top;\n",
       "    }\n",
       "\n",
       "    .dataframe thead th {\n",
       "        text-align: right;\n",
       "    }\n",
       "</style>\n",
       "<table border=\"1\" class=\"dataframe\">\n",
       "  <thead>\n",
       "    <tr style=\"text-align: right;\">\n",
       "      <th></th>\n",
       "      <th>Company</th>\n",
       "      <th>TypeName</th>\n",
       "      <th>Inches</th>\n",
       "      <th>ScreenResolution</th>\n",
       "      <th>Cpu</th>\n",
       "      <th>Ram</th>\n",
       "      <th>Memory</th>\n",
       "      <th>Gpu</th>\n",
       "      <th>OpSys</th>\n",
       "      <th>Weight</th>\n",
       "      <th>Price</th>\n",
       "    </tr>\n",
       "  </thead>\n",
       "  <tbody>\n",
       "    <tr>\n",
       "      <th>1082</th>\n",
       "      <td>Lenovo</td>\n",
       "      <td>2 in 1 Convertible</td>\n",
       "      <td>10.1</td>\n",
       "      <td>IPS Panel Touchscreen 1920x1200</td>\n",
       "      <td>Intel Atom x5-Z8550 1.44GHz</td>\n",
       "      <td>4GB</td>\n",
       "      <td>64GB Flash Storage</td>\n",
       "      <td>Intel HD Graphics 400</td>\n",
       "      <td>Windows 10</td>\n",
       "      <td>0.69kg</td>\n",
       "      <td>34433.2656</td>\n",
       "    </tr>\n",
       "    <tr>\n",
       "      <th>1114</th>\n",
       "      <td>Lenovo</td>\n",
       "      <td>2 in 1 Convertible</td>\n",
       "      <td>10.1</td>\n",
       "      <td>IPS Panel Touchscreen 1920x1200</td>\n",
       "      <td>Intel Atom x5-Z8550 1.44GHz</td>\n",
       "      <td>4GB</td>\n",
       "      <td>64GB Flash Storage</td>\n",
       "      <td>Intel HD Graphics 400</td>\n",
       "      <td>Android</td>\n",
       "      <td>0.69kg</td>\n",
       "      <td>29250.7200</td>\n",
       "    </tr>\n",
       "    <tr>\n",
       "      <th>1126</th>\n",
       "      <td>Lenovo</td>\n",
       "      <td>2 in 1 Convertible</td>\n",
       "      <td>10.1</td>\n",
       "      <td>IPS Panel Touchscreen 1920x1200</td>\n",
       "      <td>Intel Atom x5-Z8550 1.44GHz</td>\n",
       "      <td>4GB</td>\n",
       "      <td>64GB Flash Storage</td>\n",
       "      <td>Intel HD Graphics 400</td>\n",
       "      <td>Windows 10</td>\n",
       "      <td>0.69kg</td>\n",
       "      <td>25521.1200</td>\n",
       "    </tr>\n",
       "  </tbody>\n",
       "</table>\n",
       "</div>"
      ],
      "text/plain": [
       "     Company            TypeName Inches                 ScreenResolution  \\\n",
       "1082  Lenovo  2 in 1 Convertible   10.1  IPS Panel Touchscreen 1920x1200   \n",
       "1114  Lenovo  2 in 1 Convertible   10.1  IPS Panel Touchscreen 1920x1200   \n",
       "1126  Lenovo  2 in 1 Convertible   10.1  IPS Panel Touchscreen 1920x1200   \n",
       "\n",
       "                              Cpu  Ram              Memory  \\\n",
       "1082  Intel Atom x5-Z8550 1.44GHz  4GB  64GB Flash Storage   \n",
       "1114  Intel Atom x5-Z8550 1.44GHz  4GB  64GB Flash Storage   \n",
       "1126  Intel Atom x5-Z8550 1.44GHz  4GB  64GB Flash Storage   \n",
       "\n",
       "                        Gpu       OpSys  Weight       Price  \n",
       "1082  Intel HD Graphics 400  Windows 10  0.69kg  34433.2656  \n",
       "1114  Intel HD Graphics 400     Android  0.69kg  29250.7200  \n",
       "1126  Intel HD Graphics 400  Windows 10  0.69kg  25521.1200  "
      ]
     },
     "execution_count": 96,
     "metadata": {},
     "output_type": "execute_result"
    }
   ],
   "source": [
    "# correct weight\n",
    "tem_df[tem_df['Weight'] == '0.69kg']"
   ]
  },
  {
   "cell_type": "code",
   "execution_count": 97,
   "metadata": {
    "execution": {
     "iopub.execute_input": "2024-03-03T03:50:06.473952Z",
     "iopub.status.busy": "2024-03-03T03:50:06.472801Z",
     "iopub.status.idle": "2024-03-03T03:50:06.495637Z",
     "shell.execute_reply": "2024-03-03T03:50:06.49429Z",
     "shell.execute_reply.started": "2024-03-03T03:50:06.473905Z"
    },
    "trusted": true
   },
   "outputs": [
    {
     "data": {
      "text/html": [
       "<div>\n",
       "<style scoped>\n",
       "    .dataframe tbody tr th:only-of-type {\n",
       "        vertical-align: middle;\n",
       "    }\n",
       "\n",
       "    .dataframe tbody tr th {\n",
       "        vertical-align: top;\n",
       "    }\n",
       "\n",
       "    .dataframe thead th {\n",
       "        text-align: right;\n",
       "    }\n",
       "</style>\n",
       "<table border=\"1\" class=\"dataframe\">\n",
       "  <thead>\n",
       "    <tr style=\"text-align: right;\">\n",
       "      <th></th>\n",
       "      <th>Company</th>\n",
       "      <th>TypeName</th>\n",
       "      <th>Inches</th>\n",
       "      <th>ScreenResolution</th>\n",
       "      <th>Cpu</th>\n",
       "      <th>Ram</th>\n",
       "      <th>Memory</th>\n",
       "      <th>Gpu</th>\n",
       "      <th>OpSys</th>\n",
       "      <th>Weight</th>\n",
       "      <th>Price</th>\n",
       "    </tr>\n",
       "  </thead>\n",
       "  <tbody>\n",
       "    <tr>\n",
       "      <th>14</th>\n",
       "      <td>Apple</td>\n",
       "      <td>Ultrabook</td>\n",
       "      <td>12</td>\n",
       "      <td>IPS Panel Retina Display 2304x1440</td>\n",
       "      <td>Intel Core M m3 1.2GHz</td>\n",
       "      <td>8GB</td>\n",
       "      <td>256GB SSD</td>\n",
       "      <td>Intel HD Graphics 615</td>\n",
       "      <td>macOS</td>\n",
       "      <td>0.92kg</td>\n",
       "      <td>67260.672</td>\n",
       "    </tr>\n",
       "    <tr>\n",
       "      <th>81</th>\n",
       "      <td>Apple</td>\n",
       "      <td>Ultrabook</td>\n",
       "      <td>12</td>\n",
       "      <td>IPS Panel Retina Display 2304x1440</td>\n",
       "      <td>Intel Core i5 1.3GHz</td>\n",
       "      <td>8GB</td>\n",
       "      <td>512GB SSD</td>\n",
       "      <td>Intel HD Graphics 615</td>\n",
       "      <td>macOS</td>\n",
       "      <td>0.92kg</td>\n",
       "      <td>80452.800</td>\n",
       "    </tr>\n",
       "  </tbody>\n",
       "</table>\n",
       "</div>"
      ],
      "text/plain": [
       "   Company   TypeName Inches                    ScreenResolution  \\\n",
       "14   Apple  Ultrabook     12  IPS Panel Retina Display 2304x1440   \n",
       "81   Apple  Ultrabook     12  IPS Panel Retina Display 2304x1440   \n",
       "\n",
       "                       Cpu  Ram     Memory                    Gpu  OpSys  \\\n",
       "14  Intel Core M m3 1.2GHz  8GB  256GB SSD  Intel HD Graphics 615  macOS   \n",
       "81    Intel Core i5 1.3GHz  8GB  512GB SSD  Intel HD Graphics 615  macOS   \n",
       "\n",
       "    Weight      Price  \n",
       "14  0.92kg  67260.672  \n",
       "81  0.92kg  80452.800  "
      ]
     },
     "execution_count": 97,
     "metadata": {},
     "output_type": "execute_result"
    }
   ],
   "source": [
    "tem_df[tem_df['Weight'] == '0.92kg']"
   ]
  },
  {
   "cell_type": "code",
   "execution_count": 98,
   "metadata": {
    "execution": {
     "iopub.execute_input": "2024-03-03T03:50:06.498808Z",
     "iopub.status.busy": "2024-03-03T03:50:06.498316Z",
     "iopub.status.idle": "2024-03-03T03:50:06.509789Z",
     "shell.execute_reply": "2024-03-03T03:50:06.508241Z",
     "shell.execute_reply.started": "2024-03-03T03:50:06.498769Z"
    },
    "trusted": true
   },
   "outputs": [],
   "source": [
    "pd.set_option('display.max_rows', 200)"
   ]
  },
  {
   "cell_type": "code",
   "execution_count": 99,
   "metadata": {
    "execution": {
     "iopub.execute_input": "2024-03-03T03:50:06.511616Z",
     "iopub.status.busy": "2024-03-03T03:50:06.5113Z",
     "iopub.status.idle": "2024-03-03T03:50:06.529807Z",
     "shell.execute_reply": "2024-03-03T03:50:06.529059Z",
     "shell.execute_reply.started": "2024-03-03T03:50:06.511589Z"
    },
    "trusted": true
   },
   "outputs": [
    {
     "name": "stdout",
     "output_type": "stream",
     "text": [
      "['7.2kg', '5.4kg', '4.4kg', '4.42kg', '4.7kg', '4.3kg', '4.14kg', '4.1kg', '5.8kg', '8.23kg', '4.33kg', '4.6kg', '4.5kg', '8.4kg', '6.2kg', '4.36kg', '4.2kg']\n"
     ]
    }
   ],
   "source": [
    "print(tem_df.dropna()[tem_df['Weight'].str.split('kg').str.get(0).dropna().str.replace('?','1.1111') >= '4.00']['Weight'].unique().tolist())"
   ]
  },
  {
   "cell_type": "markdown",
   "metadata": {},
   "source": [
    "- in ascer 7.2kg need convernt to 2.1kg\n",
    "- ascer 8.23kg to 2.2\n",
    "- in toshiba 5.4kg need to convert 1.39\n",
    "- 7.22 lenvo to 2.2 kg\n",
    "- 8.4 lenovo to 1.27kg"
   ]
  },
  {
   "cell_type": "code",
   "execution_count": 100,
   "metadata": {
    "execution": {
     "iopub.execute_input": "2024-03-03T03:50:06.530862Z",
     "iopub.status.busy": "2024-03-03T03:50:06.530617Z",
     "iopub.status.idle": "2024-03-03T03:50:06.545254Z",
     "shell.execute_reply": "2024-03-03T03:50:06.543889Z",
     "shell.execute_reply.started": "2024-03-03T03:50:06.530839Z"
    },
    "trusted": true
   },
   "outputs": [
    {
     "name": "stdout",
     "output_type": "stream",
     "text": [
      "['7.2kg', '8.23kg', '8.4kg']\n"
     ]
    }
   ],
   "source": [
    "print(tem_df.dropna()[tem_df['Weight'].str.split('kg').str.get(0).dropna().str.replace('?','1.1111') >= '7.00']['Weight'].unique().tolist())"
   ]
  },
  {
   "cell_type": "code",
   "execution_count": 101,
   "metadata": {
    "execution": {
     "iopub.execute_input": "2024-03-03T03:50:06.54673Z",
     "iopub.status.busy": "2024-03-03T03:50:06.546418Z",
     "iopub.status.idle": "2024-03-03T03:50:06.564455Z",
     "shell.execute_reply": "2024-03-03T03:50:06.562804Z",
     "shell.execute_reply.started": "2024-03-03T03:50:06.546701Z"
    },
    "trusted": true
   },
   "outputs": [
    {
     "data": {
      "text/html": [
       "<div>\n",
       "<style scoped>\n",
       "    .dataframe tbody tr th:only-of-type {\n",
       "        vertical-align: middle;\n",
       "    }\n",
       "\n",
       "    .dataframe tbody tr th {\n",
       "        vertical-align: top;\n",
       "    }\n",
       "\n",
       "    .dataframe thead th {\n",
       "        text-align: right;\n",
       "    }\n",
       "</style>\n",
       "<table border=\"1\" class=\"dataframe\">\n",
       "  <thead>\n",
       "    <tr style=\"text-align: right;\">\n",
       "      <th></th>\n",
       "      <th>Company</th>\n",
       "      <th>TypeName</th>\n",
       "      <th>Inches</th>\n",
       "      <th>ScreenResolution</th>\n",
       "      <th>Cpu</th>\n",
       "      <th>Ram</th>\n",
       "      <th>Memory</th>\n",
       "      <th>Gpu</th>\n",
       "      <th>OpSys</th>\n",
       "      <th>Weight</th>\n",
       "      <th>Price</th>\n",
       "    </tr>\n",
       "  </thead>\n",
       "  <tbody>\n",
       "    <tr>\n",
       "      <th>133</th>\n",
       "      <td>Acer</td>\n",
       "      <td>Notebook</td>\n",
       "      <td>15.6</td>\n",
       "      <td>Full HD 1920x1080</td>\n",
       "      <td>Intel Core i3 7130U 2.7GHz</td>\n",
       "      <td>4GB</td>\n",
       "      <td>256GB SSD</td>\n",
       "      <td>Nvidia GeForce MX130</td>\n",
       "      <td>Windows 10</td>\n",
       "      <td>7.2kg</td>\n",
       "      <td>30476.16</td>\n",
       "    </tr>\n",
       "    <tr>\n",
       "      <th>240</th>\n",
       "      <td>Lenovo</td>\n",
       "      <td>Notebook</td>\n",
       "      <td>15.6</td>\n",
       "      <td>1366x768</td>\n",
       "      <td>Intel Core i3 6006U 2GHz</td>\n",
       "      <td>8GB</td>\n",
       "      <td>128GB SSD</td>\n",
       "      <td>Intel HD Graphics 520</td>\n",
       "      <td>Windows 10</td>\n",
       "      <td>7.2kg</td>\n",
       "      <td>31381.92</td>\n",
       "    </tr>\n",
       "    <tr>\n",
       "      <th>326</th>\n",
       "      <td>Acer</td>\n",
       "      <td>Notebook</td>\n",
       "      <td>15.6</td>\n",
       "      <td>1366x768</td>\n",
       "      <td>Intel Core i5 7200U 2.5GHz</td>\n",
       "      <td>6GB</td>\n",
       "      <td>1TB HDD</td>\n",
       "      <td>Intel HD Graphics 620</td>\n",
       "      <td>Windows 10</td>\n",
       "      <td>8.23kg</td>\n",
       "      <td>29250.72</td>\n",
       "    </tr>\n",
       "    <tr>\n",
       "      <th>587</th>\n",
       "      <td>Lenovo</td>\n",
       "      <td>Ultrabook</td>\n",
       "      <td>14</td>\n",
       "      <td>IPS Panel Full HD 1920x1080</td>\n",
       "      <td>Intel Core i7 6600U 2.6GHz</td>\n",
       "      <td>12GB</td>\n",
       "      <td>256GB SSD</td>\n",
       "      <td>Intel HD Graphics 520</td>\n",
       "      <td>Windows 10</td>\n",
       "      <td>8.4kg</td>\n",
       "      <td>89137.44</td>\n",
       "    </tr>\n",
       "  </tbody>\n",
       "</table>\n",
       "</div>"
      ],
      "text/plain": [
       "    Company   TypeName Inches             ScreenResolution  \\\n",
       "133    Acer   Notebook   15.6            Full HD 1920x1080   \n",
       "240  Lenovo   Notebook   15.6                     1366x768   \n",
       "326    Acer   Notebook   15.6                     1366x768   \n",
       "587  Lenovo  Ultrabook     14  IPS Panel Full HD 1920x1080   \n",
       "\n",
       "                            Cpu   Ram     Memory                    Gpu  \\\n",
       "133  Intel Core i3 7130U 2.7GHz   4GB  256GB SSD   Nvidia GeForce MX130   \n",
       "240    Intel Core i3 6006U 2GHz   8GB  128GB SSD  Intel HD Graphics 520   \n",
       "326  Intel Core i5 7200U 2.5GHz   6GB    1TB HDD  Intel HD Graphics 620   \n",
       "587  Intel Core i7 6600U 2.6GHz  12GB  256GB SSD  Intel HD Graphics 520   \n",
       "\n",
       "          OpSys  Weight     Price  \n",
       "133  Windows 10   7.2kg  30476.16  \n",
       "240  Windows 10   7.2kg  31381.92  \n",
       "326  Windows 10  8.23kg  29250.72  \n",
       "587  Windows 10   8.4kg  89137.44  "
      ]
     },
     "execution_count": 101,
     "metadata": {},
     "output_type": "execute_result"
    }
   ],
   "source": [
    "tem_df[tem_df['Weight'].isin(['7.2kg', '8.23kg', '8.4kg'])]"
   ]
  },
  {
   "cell_type": "markdown",
   "metadata": {},
   "source": [
    "- Explore Price column"
   ]
  },
  {
   "cell_type": "code",
   "execution_count": 102,
   "metadata": {
    "execution": {
     "iopub.execute_input": "2024-03-03T03:50:06.566549Z",
     "iopub.status.busy": "2024-03-03T03:50:06.56618Z",
     "iopub.status.idle": "2024-03-03T03:50:06.578312Z",
     "shell.execute_reply": "2024-03-03T03:50:06.576872Z",
     "shell.execute_reply.started": "2024-03-03T03:50:06.566517Z"
    },
    "trusted": true
   },
   "outputs": [
    {
     "data": {
      "text/plain": [
       "count      1273.000000\n",
       "mean      59955.814073\n",
       "std       37332.251005\n",
       "min        9270.720000\n",
       "25%       31914.720000\n",
       "50%       52161.120000\n",
       "75%       79333.387200\n",
       "max      324954.720000\n",
       "Name: Price, dtype: float64"
      ]
     },
     "execution_count": 102,
     "metadata": {},
     "output_type": "execute_result"
    }
   ],
   "source": [
    "tem_df['Price'].describe()"
   ]
  },
  {
   "cell_type": "code",
   "execution_count": 103,
   "metadata": {
    "execution": {
     "iopub.execute_input": "2024-03-03T03:50:06.579963Z",
     "iopub.status.busy": "2024-03-03T03:50:06.579674Z",
     "iopub.status.idle": "2024-03-03T03:50:06.597967Z",
     "shell.execute_reply": "2024-03-03T03:50:06.597049Z",
     "shell.execute_reply.started": "2024-03-03T03:50:06.579938Z"
    },
    "trusted": true
   },
   "outputs": [
    {
     "data": {
      "text/html": [
       "<div>\n",
       "<style scoped>\n",
       "    .dataframe tbody tr th:only-of-type {\n",
       "        vertical-align: middle;\n",
       "    }\n",
       "\n",
       "    .dataframe tbody tr th {\n",
       "        vertical-align: top;\n",
       "    }\n",
       "\n",
       "    .dataframe thead th {\n",
       "        text-align: right;\n",
       "    }\n",
       "</style>\n",
       "<table border=\"1\" class=\"dataframe\">\n",
       "  <thead>\n",
       "    <tr style=\"text-align: right;\">\n",
       "      <th></th>\n",
       "      <th>Company</th>\n",
       "      <th>TypeName</th>\n",
       "      <th>Inches</th>\n",
       "      <th>ScreenResolution</th>\n",
       "      <th>Cpu</th>\n",
       "      <th>Ram</th>\n",
       "      <th>Memory</th>\n",
       "      <th>Gpu</th>\n",
       "      <th>OpSys</th>\n",
       "      <th>Weight</th>\n",
       "      <th>Price</th>\n",
       "    </tr>\n",
       "  </thead>\n",
       "  <tbody>\n",
       "    <tr>\n",
       "      <th>1215</th>\n",
       "      <td>Acer</td>\n",
       "      <td>Netbook</td>\n",
       "      <td>11.6</td>\n",
       "      <td>1366x768</td>\n",
       "      <td>Intel Celeron Dual Core 3205U 1.5GHz</td>\n",
       "      <td>2GB</td>\n",
       "      <td>32GB SSD</td>\n",
       "      <td>Intel HD Graphics</td>\n",
       "      <td>Chrome OS</td>\n",
       "      <td>1.3kg</td>\n",
       "      <td>9270.72</td>\n",
       "    </tr>\n",
       "  </tbody>\n",
       "</table>\n",
       "</div>"
      ],
      "text/plain": [
       "     Company TypeName Inches ScreenResolution  \\\n",
       "1215    Acer  Netbook   11.6         1366x768   \n",
       "\n",
       "                                       Cpu  Ram    Memory                Gpu  \\\n",
       "1215  Intel Celeron Dual Core 3205U 1.5GHz  2GB  32GB SSD  Intel HD Graphics   \n",
       "\n",
       "          OpSys Weight    Price  \n",
       "1215  Chrome OS  1.3kg  9270.72  "
      ]
     },
     "execution_count": 103,
     "metadata": {},
     "output_type": "execute_result"
    }
   ],
   "source": [
    "tem_df[tem_df['Price'] == 9270.720000]"
   ]
  },
  {
   "cell_type": "markdown",
   "metadata": {},
   "source": [
    "# Data Cleaning Order\n",
    "- Quality -> Completeness\n",
    "- Structural -> Messy\n",
    "- Quality -> Validity\n",
    "- Quality -> Accuracy\n",
    "- Quality -> Consistency"
   ]
  },
  {
   "cell_type": "code",
   "execution_count": 104,
   "metadata": {
    "execution": {
     "iopub.execute_input": "2024-03-03T03:50:06.599583Z",
     "iopub.status.busy": "2024-03-03T03:50:06.599284Z",
     "iopub.status.idle": "2024-03-03T03:50:06.623773Z",
     "shell.execute_reply": "2024-03-03T03:50:06.622137Z",
     "shell.execute_reply.started": "2024-03-03T03:50:06.599557Z"
    },
    "trusted": true
   },
   "outputs": [
    {
     "data": {
      "text/html": [
       "<div>\n",
       "<style scoped>\n",
       "    .dataframe tbody tr th:only-of-type {\n",
       "        vertical-align: middle;\n",
       "    }\n",
       "\n",
       "    .dataframe tbody tr th {\n",
       "        vertical-align: top;\n",
       "    }\n",
       "\n",
       "    .dataframe thead th {\n",
       "        text-align: right;\n",
       "    }\n",
       "</style>\n",
       "<table border=\"1\" class=\"dataframe\">\n",
       "  <thead>\n",
       "    <tr style=\"text-align: right;\">\n",
       "      <th></th>\n",
       "      <th>Company</th>\n",
       "      <th>TypeName</th>\n",
       "      <th>Inches</th>\n",
       "      <th>ScreenResolution</th>\n",
       "      <th>Cpu</th>\n",
       "      <th>Ram</th>\n",
       "      <th>Memory</th>\n",
       "      <th>Gpu</th>\n",
       "      <th>OpSys</th>\n",
       "      <th>Weight</th>\n",
       "      <th>Price</th>\n",
       "    </tr>\n",
       "  </thead>\n",
       "  <tbody>\n",
       "    <tr>\n",
       "      <th>0</th>\n",
       "      <td>Apple</td>\n",
       "      <td>Ultrabook</td>\n",
       "      <td>13.3</td>\n",
       "      <td>IPS Panel Retina Display 2560x1600</td>\n",
       "      <td>Intel Core i5 2.3GHz</td>\n",
       "      <td>8GB</td>\n",
       "      <td>128GB SSD</td>\n",
       "      <td>Intel Iris Plus Graphics 640</td>\n",
       "      <td>macOS</td>\n",
       "      <td>1.37kg</td>\n",
       "      <td>71378.6832</td>\n",
       "    </tr>\n",
       "    <tr>\n",
       "      <th>1</th>\n",
       "      <td>Apple</td>\n",
       "      <td>Ultrabook</td>\n",
       "      <td>13.3</td>\n",
       "      <td>1440x900</td>\n",
       "      <td>Intel Core i5 1.8GHz</td>\n",
       "      <td>8GB</td>\n",
       "      <td>128GB Flash Storage</td>\n",
       "      <td>Intel HD Graphics 6000</td>\n",
       "      <td>macOS</td>\n",
       "      <td>1.34kg</td>\n",
       "      <td>47895.5232</td>\n",
       "    </tr>\n",
       "    <tr>\n",
       "      <th>2</th>\n",
       "      <td>HP</td>\n",
       "      <td>Notebook</td>\n",
       "      <td>15.6</td>\n",
       "      <td>Full HD 1920x1080</td>\n",
       "      <td>Intel Core i5 7200U 2.5GHz</td>\n",
       "      <td>8GB</td>\n",
       "      <td>256GB SSD</td>\n",
       "      <td>Intel HD Graphics 620</td>\n",
       "      <td>No OS</td>\n",
       "      <td>1.86kg</td>\n",
       "      <td>30636.0000</td>\n",
       "    </tr>\n",
       "    <tr>\n",
       "      <th>3</th>\n",
       "      <td>Apple</td>\n",
       "      <td>Ultrabook</td>\n",
       "      <td>15.4</td>\n",
       "      <td>IPS Panel Retina Display 2880x1800</td>\n",
       "      <td>Intel Core i7 2.7GHz</td>\n",
       "      <td>16GB</td>\n",
       "      <td>512GB SSD</td>\n",
       "      <td>AMD Radeon Pro 455</td>\n",
       "      <td>macOS</td>\n",
       "      <td>1.83kg</td>\n",
       "      <td>135195.3360</td>\n",
       "    </tr>\n",
       "    <tr>\n",
       "      <th>4</th>\n",
       "      <td>Apple</td>\n",
       "      <td>Ultrabook</td>\n",
       "      <td>13.3</td>\n",
       "      <td>IPS Panel Retina Display 2560x1600</td>\n",
       "      <td>Intel Core i5 3.1GHz</td>\n",
       "      <td>8GB</td>\n",
       "      <td>256GB SSD</td>\n",
       "      <td>Intel Iris Plus Graphics 650</td>\n",
       "      <td>macOS</td>\n",
       "      <td>1.37kg</td>\n",
       "      <td>96095.8080</td>\n",
       "    </tr>\n",
       "  </tbody>\n",
       "</table>\n",
       "</div>"
      ],
      "text/plain": [
       "  Company   TypeName Inches                    ScreenResolution  \\\n",
       "0   Apple  Ultrabook   13.3  IPS Panel Retina Display 2560x1600   \n",
       "1   Apple  Ultrabook   13.3                            1440x900   \n",
       "2      HP   Notebook   15.6                   Full HD 1920x1080   \n",
       "3   Apple  Ultrabook   15.4  IPS Panel Retina Display 2880x1800   \n",
       "4   Apple  Ultrabook   13.3  IPS Panel Retina Display 2560x1600   \n",
       "\n",
       "                          Cpu   Ram               Memory  \\\n",
       "0        Intel Core i5 2.3GHz   8GB            128GB SSD   \n",
       "1        Intel Core i5 1.8GHz   8GB  128GB Flash Storage   \n",
       "2  Intel Core i5 7200U 2.5GHz   8GB            256GB SSD   \n",
       "3        Intel Core i7 2.7GHz  16GB            512GB SSD   \n",
       "4        Intel Core i5 3.1GHz   8GB            256GB SSD   \n",
       "\n",
       "                            Gpu  OpSys  Weight        Price  \n",
       "0  Intel Iris Plus Graphics 640  macOS  1.37kg   71378.6832  \n",
       "1        Intel HD Graphics 6000  macOS  1.34kg   47895.5232  \n",
       "2         Intel HD Graphics 620  No OS  1.86kg   30636.0000  \n",
       "3            AMD Radeon Pro 455  macOS  1.83kg  135195.3360  \n",
       "4  Intel Iris Plus Graphics 650  macOS  1.37kg   96095.8080  "
      ]
     },
     "execution_count": 104,
     "metadata": {},
     "output_type": "execute_result"
    }
   ],
   "source": [
    "# first five rows\n",
    "tem_df.head()"
   ]
  },
  {
   "cell_type": "code",
   "execution_count": 105,
   "metadata": {
    "execution": {
     "iopub.execute_input": "2024-03-03T03:50:06.625887Z",
     "iopub.status.busy": "2024-03-03T03:50:06.624981Z",
     "iopub.status.idle": "2024-03-03T03:50:06.643244Z",
     "shell.execute_reply": "2024-03-03T03:50:06.642209Z",
     "shell.execute_reply.started": "2024-03-03T03:50:06.62585Z"
    },
    "trusted": true
   },
   "outputs": [
    {
     "name": "stdout",
     "output_type": "stream",
     "text": [
      "<class 'pandas.core.frame.DataFrame'>\n",
      "RangeIndex: 1303 entries, 0 to 1302\n",
      "Data columns (total 11 columns):\n",
      " #   Column            Non-Null Count  Dtype  \n",
      "---  ------            --------------  -----  \n",
      " 0   Company           1273 non-null   object \n",
      " 1   TypeName          1273 non-null   object \n",
      " 2   Inches            1273 non-null   object \n",
      " 3   ScreenResolution  1273 non-null   object \n",
      " 4   Cpu               1273 non-null   object \n",
      " 5   Ram               1273 non-null   object \n",
      " 6   Memory            1273 non-null   object \n",
      " 7   Gpu               1273 non-null   object \n",
      " 8   OpSys             1273 non-null   object \n",
      " 9   Weight            1273 non-null   object \n",
      " 10  Price             1273 non-null   float64\n",
      "dtypes: float64(1), object(10)\n",
      "memory usage: 112.1+ KB\n"
     ]
    }
   ],
   "source": [
    "# information of dataframe\n",
    "tem_df.info()"
   ]
  },
  {
   "cell_type": "code",
   "execution_count": 106,
   "metadata": {
    "execution": {
     "iopub.execute_input": "2024-03-03T03:50:06.645073Z",
     "iopub.status.busy": "2024-03-03T03:50:06.644704Z",
     "iopub.status.idle": "2024-03-03T03:50:06.662058Z",
     "shell.execute_reply": "2024-03-03T03:50:06.660467Z",
     "shell.execute_reply.started": "2024-03-03T03:50:06.645039Z"
    },
    "trusted": true
   },
   "outputs": [
    {
     "data": {
      "text/plain": [
       "Company             30\n",
       "TypeName            30\n",
       "Inches              30\n",
       "ScreenResolution    30\n",
       "Cpu                 30\n",
       "Ram                 30\n",
       "Memory              30\n",
       "Gpu                 30\n",
       "OpSys               30\n",
       "Weight              30\n",
       "Price               30\n",
       "dtype: int64"
      ]
     },
     "execution_count": 106,
     "metadata": {},
     "output_type": "execute_result"
    }
   ],
   "source": [
    "#no of missing values\n",
    "tem_df.isna().sum()"
   ]
  },
  {
   "cell_type": "code",
   "execution_count": 107,
   "metadata": {
    "execution": {
     "iopub.execute_input": "2024-03-03T03:50:06.664321Z",
     "iopub.status.busy": "2024-03-03T03:50:06.663807Z",
     "iopub.status.idle": "2024-03-03T03:50:06.679491Z",
     "shell.execute_reply": "2024-03-03T03:50:06.678107Z",
     "shell.execute_reply.started": "2024-03-03T03:50:06.664289Z"
    },
    "trusted": true
   },
   "outputs": [
    {
     "data": {
      "text/plain": [
       "np.int64(58)"
      ]
     },
     "execution_count": 107,
     "metadata": {},
     "output_type": "execute_result"
    }
   ],
   "source": [
    "# number of duplicated rows\n",
    "tem_df.duplicated().sum()"
   ]
  },
  {
   "cell_type": "markdown",
   "metadata": {},
   "source": [
    "# Solve Completeness Issues"
   ]
  },
  {
   "cell_type": "code",
   "execution_count": 108,
   "metadata": {
    "execution": {
     "iopub.execute_input": "2024-03-03T03:50:06.680664Z",
     "iopub.status.busy": "2024-03-03T03:50:06.680393Z",
     "iopub.status.idle": "2024-03-03T03:50:06.692226Z",
     "shell.execute_reply": "2024-03-03T03:50:06.691331Z",
     "shell.execute_reply.started": "2024-03-03T03:50:06.680641Z"
    },
    "trusted": true
   },
   "outputs": [
    {
     "data": {
      "text/plain": [
       "(1303, 11)"
      ]
     },
     "execution_count": 108,
     "metadata": {},
     "output_type": "execute_result"
    }
   ],
   "source": [
    "# shape of dataframe before drop nan rows\n",
    "tem_df.shape"
   ]
  },
  {
   "cell_type": "code",
   "execution_count": 109,
   "metadata": {
    "execution": {
     "iopub.execute_input": "2024-03-03T03:50:06.693581Z",
     "iopub.status.busy": "2024-03-03T03:50:06.693242Z",
     "iopub.status.idle": "2024-03-03T03:50:06.710031Z",
     "shell.execute_reply": "2024-03-03T03:50:06.708671Z",
     "shell.execute_reply.started": "2024-03-03T03:50:06.693551Z"
    },
    "trusted": true
   },
   "outputs": [],
   "source": [
    "# 30 rows out of 1303 are totally missing along with their 11 columns\n",
    "# that's why i drop all missing values\n",
    "\n",
    "tem_df = tem_df.dropna().reset_index(drop=True)"
   ]
  },
  {
   "cell_type": "code",
   "execution_count": 110,
   "metadata": {
    "execution": {
     "iopub.execute_input": "2024-03-03T03:50:06.714999Z",
     "iopub.status.busy": "2024-03-03T03:50:06.713997Z",
     "iopub.status.idle": "2024-03-03T03:50:06.736667Z",
     "shell.execute_reply": "2024-03-03T03:50:06.735486Z",
     "shell.execute_reply.started": "2024-03-03T03:50:06.714944Z"
    },
    "trusted": true
   },
   "outputs": [
    {
     "data": {
      "text/plain": [
       "(1273, 11)"
      ]
     },
     "execution_count": 110,
     "metadata": {},
     "output_type": "execute_result"
    }
   ],
   "source": [
    "# shape of dataframe after drop nan rows\n",
    "tem_df.shape"
   ]
  },
  {
   "cell_type": "code",
   "execution_count": 111,
   "metadata": {
    "execution": {
     "iopub.execute_input": "2024-03-03T03:50:06.738354Z",
     "iopub.status.busy": "2024-03-03T03:50:06.737979Z",
     "iopub.status.idle": "2024-03-03T03:50:06.754297Z",
     "shell.execute_reply": "2024-03-03T03:50:06.75242Z",
     "shell.execute_reply.started": "2024-03-03T03:50:06.738332Z"
    },
    "trusted": true
   },
   "outputs": [],
   "source": [
    "# 58 duplicated rows detected, with 30 rows containing all null values which are already droped\n",
    "# now it's time to drop all duplicated rows\n",
    "tem_df.drop_duplicates(inplace=True)"
   ]
  },
  {
   "cell_type": "code",
   "execution_count": 112,
   "metadata": {
    "execution": {
     "iopub.execute_input": "2024-03-03T03:50:06.756131Z",
     "iopub.status.busy": "2024-03-03T03:50:06.755604Z",
     "iopub.status.idle": "2024-03-03T03:50:06.767923Z",
     "shell.execute_reply": "2024-03-03T03:50:06.766553Z",
     "shell.execute_reply.started": "2024-03-03T03:50:06.756057Z"
    },
    "trusted": true
   },
   "outputs": [
    {
     "data": {
      "text/plain": [
       "(1244, 11)"
      ]
     },
     "execution_count": 112,
     "metadata": {},
     "output_type": "execute_result"
    }
   ],
   "source": [
    "# shape of dataframe after drop duplicates rows\n",
    "tem_df.shape"
   ]
  },
  {
   "cell_type": "code",
   "execution_count": 113,
   "metadata": {
    "execution": {
     "iopub.execute_input": "2024-03-03T03:50:06.769294Z",
     "iopub.status.busy": "2024-03-03T03:50:06.768898Z",
     "iopub.status.idle": "2024-03-03T03:50:06.783823Z",
     "shell.execute_reply": "2024-03-03T03:50:06.782207Z",
     "shell.execute_reply.started": "2024-03-03T03:50:06.76926Z"
    },
    "trusted": true
   },
   "outputs": [],
   "source": [
    "# resolving the '?' entries in the memory column \n",
    "# and memory of this particular laptop is 1TB HDD \n",
    "tem_df.loc[tem_df['Memory'] == '?', 'Memory'] = '1TB HDD'"
   ]
  },
  {
   "cell_type": "markdown",
   "metadata": {},
   "source": [
    "# Solve Structural Issues"
   ]
  },
  {
   "cell_type": "markdown",
   "metadata": {},
   "source": [
    "### **Solve ScreenResolution Structural Problem**"
   ]
  },
  {
   "cell_type": "code",
   "execution_count": 114,
   "metadata": {
    "execution": {
     "iopub.execute_input": "2024-03-03T03:50:06.785488Z",
     "iopub.status.busy": "2024-03-03T03:50:06.785162Z",
     "iopub.status.idle": "2024-03-03T03:50:06.800875Z",
     "shell.execute_reply": "2024-03-03T03:50:06.800056Z",
     "shell.execute_reply.started": "2024-03-03T03:50:06.785466Z"
    },
    "trusted": true
   },
   "outputs": [],
   "source": [
    "# extract resolution from this column values\n",
    "# Regular expression pattern to find resolutions\n",
    "pattern = r'\\b\\d{3,4}x\\d{3,4}\\b'\n",
    "\n",
    "# Find resolutions for each value in the Series and create new column of resoultion\n",
    "tem_df['screen_resolution'] = tem_df['ScreenResolution'].str.findall(pattern).str.get(0)"
   ]
  },
  {
   "cell_type": "code",
   "execution_count": 115,
   "metadata": {
    "execution": {
     "iopub.execute_input": "2024-03-03T03:50:06.803616Z",
     "iopub.status.busy": "2024-03-03T03:50:06.802614Z",
     "iopub.status.idle": "2024-03-03T03:50:06.818544Z",
     "shell.execute_reply": "2024-03-03T03:50:06.817078Z",
     "shell.execute_reply.started": "2024-03-03T03:50:06.803572Z"
    },
    "trusted": true
   },
   "outputs": [
    {
     "data": {
      "text/plain": [
       "array(['2560x1600', '1440x900', '1920x1080', '2880x1800', '1366x768',\n",
       "       '2304x1440', '3200x1800', '2256x1504', '3840x2160', '2160x1440',\n",
       "       '1600x900', '2560x1440', '2736x1824', '2400x1600', '1920x1200'],\n",
       "      dtype=object)"
      ]
     },
     "execution_count": 115,
     "metadata": {},
     "output_type": "execute_result"
    }
   ],
   "source": [
    "# unique display resolution\n",
    "tem_df['screen_resolution'].unique()"
   ]
  },
  {
   "cell_type": "code",
   "execution_count": 116,
   "metadata": {
    "execution": {
     "iopub.execute_input": "2024-03-03T03:50:06.821089Z",
     "iopub.status.busy": "2024-03-03T03:50:06.820712Z",
     "iopub.status.idle": "2024-03-03T03:50:06.832224Z",
     "shell.execute_reply": "2024-03-03T03:50:06.829775Z",
     "shell.execute_reply.started": "2024-03-03T03:50:06.821058Z"
    },
    "trusted": true
   },
   "outputs": [],
   "source": [
    "# create this function so that i can create display type column\n",
    "def get_display_type(resolution):\n",
    "    width, height = map(int, resolution.split('x'))\n",
    "    \n",
    "    if width >= 3840 and height >= 2160:\n",
    "        return '4K'\n",
    "    elif width >= 2560 and height >= 1440:\n",
    "        return 'Quad HD'\n",
    "    elif width >= 1920 and height >= 1080:\n",
    "        return 'Full HD'\n",
    "    elif width >= 1280 and height >= 720:\n",
    "        return 'HD'\n",
    "    else:\n",
    "        return 'Other'\n",
    "    \n",
    "tem_df['display_type'] = tem_df['screen_resolution'].apply(get_display_type)"
   ]
  },
  {
   "cell_type": "code",
   "execution_count": 117,
   "metadata": {
    "execution": {
     "iopub.execute_input": "2024-03-03T03:50:06.834092Z",
     "iopub.status.busy": "2024-03-03T03:50:06.833764Z",
     "iopub.status.idle": "2024-03-03T03:50:06.850076Z",
     "shell.execute_reply": "2024-03-03T03:50:06.848977Z",
     "shell.execute_reply.started": "2024-03-03T03:50:06.83406Z"
    },
    "trusted": true
   },
   "outputs": [
    {
     "data": {
      "text/plain": [
       "display_type\n",
       "Full HD    836\n",
       "HD         309\n",
       "Quad HD     57\n",
       "4K          42\n",
       "Name: count, dtype: int64"
      ]
     },
     "execution_count": 117,
     "metadata": {},
     "output_type": "execute_result"
    }
   ],
   "source": [
    "# frequency of display type\n",
    "tem_df['display_type'].value_counts()"
   ]
  },
  {
   "cell_type": "markdown",
   "metadata": {},
   "source": [
    "### **Solve Cpu Structural Problem**"
   ]
  },
  {
   "cell_type": "code",
   "execution_count": 118,
   "metadata": {
    "execution": {
     "iopub.execute_input": "2024-03-03T03:50:06.851302Z",
     "iopub.status.busy": "2024-03-03T03:50:06.850945Z",
     "iopub.status.idle": "2024-03-03T03:50:06.865877Z",
     "shell.execute_reply": "2024-03-03T03:50:06.864517Z",
     "shell.execute_reply.started": "2024-03-03T03:50:06.851272Z"
    },
    "trusted": true
   },
   "outputs": [],
   "source": [
    "# create processor_speed column from Cpu column\n",
    "\n",
    "# Define regex pattern to match any number followed by \"GHz\"\n",
    "pattern = r'\\b\\d+(?:\\.\\d+)?(?:GHz|Hz)\\b'\n",
    "\n",
    "# Find all matches in the Processor column\n",
    "tem_df['processor_speed'] = tem_df['Cpu'].str.findall(pattern).str.get(0).str.split('G').str.get(0)\n"
   ]
  },
  {
   "cell_type": "code",
   "execution_count": 119,
   "metadata": {
    "execution": {
     "iopub.execute_input": "2024-03-03T03:50:06.867583Z",
     "iopub.status.busy": "2024-03-03T03:50:06.867312Z",
     "iopub.status.idle": "2024-03-03T03:50:06.876772Z",
     "shell.execute_reply": "2024-03-03T03:50:06.875849Z",
     "shell.execute_reply.started": "2024-03-03T03:50:06.867561Z"
    },
    "trusted": true
   },
   "outputs": [
    {
     "data": {
      "text/plain": [
       "array(['2.3', '1.8', '2.5', '2.7', '3.1', '3', '2.2', '1.6', '2', '2.8',\n",
       "       '1.2', '2.9', '2.4', '1.5', '1.9', '1.44', '1.1', '2.0', '1.3',\n",
       "       '2.6', '3.6', '1.60', '3.2', '1.0', '2.1', '0.9', '1.92', '2.50',\n",
       "       '2.70'], dtype=object)"
      ]
     },
     "execution_count": 119,
     "metadata": {},
     "output_type": "execute_result"
    }
   ],
   "source": [
    "# unique processor_speed values \n",
    "tem_df['processor_speed'].unique()"
   ]
  },
  {
   "cell_type": "code",
   "execution_count": 120,
   "metadata": {
    "execution": {
     "iopub.execute_input": "2024-03-03T03:50:06.879163Z",
     "iopub.status.busy": "2024-03-03T03:50:06.878522Z",
     "iopub.status.idle": "2024-03-03T03:50:06.892383Z",
     "shell.execute_reply": "2024-03-03T03:50:06.890888Z",
     "shell.execute_reply.started": "2024-03-03T03:50:06.879134Z"
    },
    "trusted": true
   },
   "outputs": [],
   "source": [
    "# create one more column that is processor_brand\n",
    "tem_df['processor_brand'] = tem_df['Cpu'].str.split(' ').str.get(0)"
   ]
  },
  {
   "cell_type": "code",
   "execution_count": 121,
   "metadata": {
    "execution": {
     "iopub.execute_input": "2024-03-03T03:50:06.894858Z",
     "iopub.status.busy": "2024-03-03T03:50:06.893586Z",
     "iopub.status.idle": "2024-03-03T03:50:06.912926Z",
     "shell.execute_reply": "2024-03-03T03:50:06.911966Z",
     "shell.execute_reply.started": "2024-03-03T03:50:06.894817Z"
    },
    "trusted": true
   },
   "outputs": [
    {
     "data": {
      "text/plain": [
       "array(['Intel', 'AMD', 'Samsung'], dtype=object)"
      ]
     },
     "execution_count": 121,
     "metadata": {},
     "output_type": "execute_result"
    }
   ],
   "source": [
    "# unique processor brand\n",
    "tem_df['processor_brand'].unique()"
   ]
  },
  {
   "cell_type": "code",
   "execution_count": 122,
   "metadata": {
    "execution": {
     "iopub.execute_input": "2024-03-03T03:50:06.914564Z",
     "iopub.status.busy": "2024-03-03T03:50:06.914226Z",
     "iopub.status.idle": "2024-03-03T03:50:06.927286Z",
     "shell.execute_reply": "2024-03-03T03:50:06.925685Z",
     "shell.execute_reply.started": "2024-03-03T03:50:06.914531Z"
    },
    "trusted": true
   },
   "outputs": [
    {
     "data": {
      "text/plain": [
       "processor_brand\n",
       "Intel      1183\n",
       "AMD          60\n",
       "Samsung       1\n",
       "Name: count, dtype: int64"
      ]
     },
     "execution_count": 122,
     "metadata": {},
     "output_type": "execute_result"
    }
   ],
   "source": [
    "# frequency \n",
    "tem_df['processor_brand'].value_counts()"
   ]
  },
  {
   "cell_type": "code",
   "execution_count": 123,
   "metadata": {
    "execution": {
     "iopub.execute_input": "2024-03-03T03:50:06.928638Z",
     "iopub.status.busy": "2024-03-03T03:50:06.928348Z",
     "iopub.status.idle": "2024-03-03T03:50:06.950562Z",
     "shell.execute_reply": "2024-03-03T03:50:06.949703Z",
     "shell.execute_reply.started": "2024-03-03T03:50:06.928611Z"
    },
    "trusted": true
   },
   "outputs": [
    {
     "data": {
      "text/html": [
       "<div>\n",
       "<style scoped>\n",
       "    .dataframe tbody tr th:only-of-type {\n",
       "        vertical-align: middle;\n",
       "    }\n",
       "\n",
       "    .dataframe tbody tr th {\n",
       "        vertical-align: top;\n",
       "    }\n",
       "\n",
       "    .dataframe thead th {\n",
       "        text-align: right;\n",
       "    }\n",
       "</style>\n",
       "<table border=\"1\" class=\"dataframe\">\n",
       "  <thead>\n",
       "    <tr style=\"text-align: right;\">\n",
       "      <th></th>\n",
       "      <th>Company</th>\n",
       "      <th>TypeName</th>\n",
       "      <th>Inches</th>\n",
       "      <th>ScreenResolution</th>\n",
       "      <th>Cpu</th>\n",
       "      <th>Ram</th>\n",
       "      <th>Memory</th>\n",
       "      <th>Gpu</th>\n",
       "      <th>OpSys</th>\n",
       "      <th>Weight</th>\n",
       "      <th>Price</th>\n",
       "      <th>screen_resolution</th>\n",
       "      <th>display_type</th>\n",
       "      <th>processor_speed</th>\n",
       "      <th>processor_brand</th>\n",
       "    </tr>\n",
       "  </thead>\n",
       "  <tbody>\n",
       "    <tr>\n",
       "      <th>1163</th>\n",
       "      <td>Samsung</td>\n",
       "      <td>2 in 1 Convertible</td>\n",
       "      <td>12.3</td>\n",
       "      <td>IPS Panel Touchscreen 2400x1600</td>\n",
       "      <td>Samsung Cortex A72&amp;A53 2.0GHz</td>\n",
       "      <td>4GB</td>\n",
       "      <td>32GB Flash Storage</td>\n",
       "      <td>ARM Mali T860 MP4</td>\n",
       "      <td>Chrome OS</td>\n",
       "      <td>1.15kg</td>\n",
       "      <td>35111.52</td>\n",
       "      <td>2400x1600</td>\n",
       "      <td>Full HD</td>\n",
       "      <td>2.0</td>\n",
       "      <td>Samsung</td>\n",
       "    </tr>\n",
       "  </tbody>\n",
       "</table>\n",
       "</div>"
      ],
      "text/plain": [
       "      Company            TypeName Inches                 ScreenResolution  \\\n",
       "1163  Samsung  2 in 1 Convertible   12.3  IPS Panel Touchscreen 2400x1600   \n",
       "\n",
       "                                Cpu  Ram              Memory  \\\n",
       "1163  Samsung Cortex A72&A53 2.0GHz  4GB  32GB Flash Storage   \n",
       "\n",
       "                    Gpu      OpSys  Weight     Price screen_resolution  \\\n",
       "1163  ARM Mali T860 MP4  Chrome OS  1.15kg  35111.52         2400x1600   \n",
       "\n",
       "     display_type processor_speed processor_brand  \n",
       "1163      Full HD             2.0         Samsung  "
      ]
     },
     "execution_count": 123,
     "metadata": {},
     "output_type": "execute_result"
    }
   ],
   "source": [
    "tem_df[tem_df['Cpu'].str.contains('Samsung')]"
   ]
  },
  {
   "cell_type": "code",
   "execution_count": 124,
   "metadata": {
    "execution": {
     "iopub.execute_input": "2024-03-03T03:50:06.952154Z",
     "iopub.status.busy": "2024-03-03T03:50:06.95182Z",
     "iopub.status.idle": "2024-03-03T03:50:06.964536Z",
     "shell.execute_reply": "2024-03-03T03:50:06.963546Z",
     "shell.execute_reply.started": "2024-03-03T03:50:06.952125Z"
    },
    "trusted": true
   },
   "outputs": [],
   "source": [
    "pt = tem_df['Cpu'].str.split('Intel').str.get(1)\n",
    "\n",
    "# Function to handle unexpected float values\n",
    "def handle_unexpected_values(val):\n",
    "    if isinstance(val, list):\n",
    "        return val[:-1]  # Extract all elements except the last one from the list\n",
    "    else:\n",
    "        return []  # Convert unexpected float value to an empty list\n",
    "\n",
    "pt_list = pt.str.split(' ')\n",
    "\n",
    "def merge_list_items(lst):\n",
    "    return ' '.join(lst)\n",
    "\n",
    "processor_type_intel = pt_list.apply(handle_unexpected_values).apply(merge_list_items)"
   ]
  },
  {
   "cell_type": "code",
   "execution_count": 125,
   "metadata": {
    "execution": {
     "iopub.execute_input": "2024-03-03T03:50:06.965862Z",
     "iopub.status.busy": "2024-03-03T03:50:06.965528Z",
     "iopub.status.idle": "2024-03-03T03:50:06.97947Z",
     "shell.execute_reply": "2024-03-03T03:50:06.978508Z",
     "shell.execute_reply.started": "2024-03-03T03:50:06.965832Z"
    },
    "trusted": true
   },
   "outputs": [],
   "source": [
    "pa = tem_df['Cpu'].str.split('AMD').str.get(1)\n",
    "\n",
    "# Function to handle unexpected float values\n",
    "def handle_unexpected_values(val):\n",
    "    if isinstance(val, list):\n",
    "        return val[:-1]  # Extract all elements except the last one from the list\n",
    "    else:\n",
    "        return []  # Convert unexpected float value to an empty list\n",
    "\n",
    "pt_list_amd = pa.str.split(' ')\n",
    "\n",
    "def merge_list_items(lst):\n",
    "    return ' '.join(lst)\n",
    "\n",
    "processor_type_amd = pt_list_amd.apply(handle_unexpected_values).apply(merge_list_items)"
   ]
  },
  {
   "cell_type": "code",
   "execution_count": 126,
   "metadata": {
    "execution": {
     "iopub.execute_input": "2024-03-03T03:50:06.981129Z",
     "iopub.status.busy": "2024-03-03T03:50:06.980841Z",
     "iopub.status.idle": "2024-03-03T03:50:06.992621Z",
     "shell.execute_reply": "2024-03-03T03:50:06.991487Z",
     "shell.execute_reply.started": "2024-03-03T03:50:06.981107Z"
    },
    "trusted": true
   },
   "outputs": [],
   "source": [
    "sa = tem_df['Cpu'].str.split('Samsung').str.get(1)\n",
    "\n",
    "# Function to handle unexpected float values\n",
    "def handle_unexpected_values(val):\n",
    "    if isinstance(val, list):\n",
    "        return val[:-1]  # Extract all elements except the last one from the list\n",
    "    else:\n",
    "        return []  # Convert unexpected float value to an empty list\n",
    "\n",
    "pt_list_sa = sa.str.split(' ')\n",
    "\n",
    "def merge_list_items(lst):\n",
    "    return ' '.join(lst)\n",
    "\n",
    "processor_type_sa = pt_list_sa.apply(handle_unexpected_values).apply(merge_list_items)"
   ]
  },
  {
   "cell_type": "code",
   "execution_count": 127,
   "metadata": {
    "execution": {
     "iopub.execute_input": "2024-03-03T03:50:06.995339Z",
     "iopub.status.busy": "2024-03-03T03:50:06.994228Z",
     "iopub.status.idle": "2024-03-03T03:50:07.003392Z",
     "shell.execute_reply": "2024-03-03T03:50:07.0026Z",
     "shell.execute_reply.started": "2024-03-03T03:50:06.995309Z"
    },
    "trusted": true
   },
   "outputs": [],
   "source": [
    "# create one more column that is processor_type\n",
    "tem_df['processor_type'] = (processor_type_intel + processor_type_amd + processor_type_sa)"
   ]
  },
  {
   "cell_type": "markdown",
   "metadata": {},
   "source": [
    "### **Solve Memory Structural Problem**\n"
   ]
  },
  {
   "cell_type": "code",
   "execution_count": 128,
   "metadata": {
    "execution": {
     "iopub.execute_input": "2024-03-03T03:50:07.005759Z",
     "iopub.status.busy": "2024-03-03T03:50:07.005317Z",
     "iopub.status.idle": "2024-03-03T03:50:07.024641Z",
     "shell.execute_reply": "2024-03-03T03:50:07.022926Z",
     "shell.execute_reply.started": "2024-03-03T03:50:07.005726Z"
    },
    "trusted": true
   },
   "outputs": [
    {
     "data": {
      "text/plain": [
       "array(['128GB ', '128GB Flash Storage', '256GB ', '512GB ', '500GB HDD',\n",
       "       '256GB Flash Storage', '1TB HDD', '64GB Flash Storage',\n",
       "       '32GB Flash Storage', '32GB ', '2TB HDD', '64GB ', '1.0TB Hybrid',\n",
       "       '1TB ', '16GB ', '16GB Flash Storage',\n",
       "       '64GB Flash Storage +  1TB HDD', '180GB ', '1TB HDD +  1TB HDD',\n",
       "       '32GB HDD', '512GB Flash Storage', '128GB HDD', '240GB ', '8GB ',\n",
       "       '508GB Hybrid', '1.0TB HDD'], dtype=object)"
      ]
     },
     "execution_count": 128,
     "metadata": {},
     "output_type": "execute_result"
    }
   ],
   "source": [
    "tem_df['Memory'].str.split('SSD').str.get(0).unique()"
   ]
  },
  {
   "cell_type": "code",
   "execution_count": 129,
   "metadata": {
    "execution": {
     "iopub.execute_input": "2024-03-03T03:50:07.026834Z",
     "iopub.status.busy": "2024-03-03T03:50:07.025821Z",
     "iopub.status.idle": "2024-03-03T03:50:07.0517Z",
     "shell.execute_reply": "2024-03-03T03:50:07.050884Z",
     "shell.execute_reply.started": "2024-03-03T03:50:07.026782Z"
    },
    "jupyter": {
     "source_hidden": true
    },
    "trusted": true
   },
   "outputs": [
    {
     "data": {
      "text/html": [
       "<div>\n",
       "<style scoped>\n",
       "    .dataframe tbody tr th:only-of-type {\n",
       "        vertical-align: middle;\n",
       "    }\n",
       "\n",
       "    .dataframe tbody tr th {\n",
       "        vertical-align: top;\n",
       "    }\n",
       "\n",
       "    .dataframe thead th {\n",
       "        text-align: right;\n",
       "    }\n",
       "</style>\n",
       "<table border=\"1\" class=\"dataframe\">\n",
       "  <thead>\n",
       "    <tr style=\"text-align: right;\">\n",
       "      <th></th>\n",
       "      <th>Company</th>\n",
       "      <th>TypeName</th>\n",
       "      <th>Inches</th>\n",
       "      <th>ScreenResolution</th>\n",
       "      <th>Cpu</th>\n",
       "      <th>Ram</th>\n",
       "      <th>Memory</th>\n",
       "      <th>Gpu</th>\n",
       "      <th>OpSys</th>\n",
       "      <th>Weight</th>\n",
       "      <th>Price</th>\n",
       "      <th>screen_resolution</th>\n",
       "      <th>display_type</th>\n",
       "      <th>processor_speed</th>\n",
       "      <th>processor_brand</th>\n",
       "      <th>processor_type</th>\n",
       "    </tr>\n",
       "  </thead>\n",
       "  <tbody>\n",
       "    <tr>\n",
       "      <th>685</th>\n",
       "      <td>Lenovo</td>\n",
       "      <td>Notebook</td>\n",
       "      <td>15.6</td>\n",
       "      <td>Full HD 1920x1080</td>\n",
       "      <td>Intel Core i5 7200U 2.5GHz</td>\n",
       "      <td>4GB</td>\n",
       "      <td>1TB HDD +  1TB HDD</td>\n",
       "      <td>Intel HD Graphics 620</td>\n",
       "      <td>Windows 10</td>\n",
       "      <td>2.1kg</td>\n",
       "      <td>33110.856</td>\n",
       "      <td>1920x1080</td>\n",
       "      <td>Full HD</td>\n",
       "      <td>2.5</td>\n",
       "      <td>Intel</td>\n",
       "      <td>Core i5 7200U</td>\n",
       "    </tr>\n",
       "  </tbody>\n",
       "</table>\n",
       "</div>"
      ],
      "text/plain": [
       "    Company  TypeName Inches   ScreenResolution                         Cpu  \\\n",
       "685  Lenovo  Notebook   15.6  Full HD 1920x1080  Intel Core i5 7200U 2.5GHz   \n",
       "\n",
       "     Ram              Memory                    Gpu       OpSys Weight  \\\n",
       "685  4GB  1TB HDD +  1TB HDD  Intel HD Graphics 620  Windows 10  2.1kg   \n",
       "\n",
       "         Price screen_resolution display_type processor_speed processor_brand  \\\n",
       "685  33110.856         1920x1080      Full HD             2.5           Intel   \n",
       "\n",
       "     processor_type  \n",
       "685   Core i5 7200U  "
      ]
     },
     "execution_count": 129,
     "metadata": {},
     "output_type": "execute_result"
    }
   ],
   "source": [
    "tem_df[tem_df['Memory'] == '1TB HDD +  1TB HDD']"
   ]
  },
  {
   "cell_type": "code",
   "execution_count": 130,
   "metadata": {
    "execution": {
     "iopub.execute_input": "2024-03-03T03:50:07.053087Z",
     "iopub.status.busy": "2024-03-03T03:50:07.052817Z",
     "iopub.status.idle": "2024-03-03T03:50:07.071542Z",
     "shell.execute_reply": "2024-03-03T03:50:07.070299Z",
     "shell.execute_reply.started": "2024-03-03T03:50:07.053065Z"
    },
    "trusted": true
   },
   "outputs": [
    {
     "data": {
      "text/plain": [
       "array(['128GB SSD', '128GB Flash Storage', '256GB SSD', '512GB SSD',\n",
       "       '500GB HDD', '256GB Flash Storage', '1TB HDD',\n",
       "       '128GB SSD +  1TB HDD', '256GB SSD +  256GB SSD',\n",
       "       '64GB Flash Storage', '32GB Flash Storage', '256GB SSD +  1TB HDD',\n",
       "       '256GB SSD +  2TB HDD', '32GB SSD', '2TB HDD', '64GB SSD',\n",
       "       '1.0TB Hybrid', '512GB SSD +  1TB HDD', '1TB SSD',\n",
       "       '256GB SSD +  500GB HDD', '128GB SSD +  2TB HDD',\n",
       "       '512GB SSD +  512GB SSD', '16GB SSD', '16GB Flash Storage',\n",
       "       '512GB SSD +  256GB SSD', '512GB SSD +  2TB HDD',\n",
       "       '64GB Flash Storage +  1TB HDD', '180GB SSD', '1TB HDD +  1TB HDD',\n",
       "       '32GB HDD', '1TB SSD +  1TB HDD', '512GB Flash Storage',\n",
       "       '128GB HDD', '240GB SSD', '8GB SSD', '508GB Hybrid', '1.0TB HDD',\n",
       "       '512GB SSD +  1.0TB Hybrid', '256GB SSD +  1.0TB Hybrid'],\n",
       "      dtype=object)"
      ]
     },
     "execution_count": 130,
     "metadata": {},
     "output_type": "execute_result"
    }
   ],
   "source": [
    "tem_df['Memory'].unique()"
   ]
  },
  {
   "cell_type": "code",
   "execution_count": 131,
   "metadata": {
    "execution": {
     "iopub.execute_input": "2024-03-03T03:50:07.072953Z",
     "iopub.status.busy": "2024-03-03T03:50:07.072679Z",
     "iopub.status.idle": "2024-03-03T03:50:07.083868Z",
     "shell.execute_reply": "2024-03-03T03:50:07.083098Z",
     "shell.execute_reply.started": "2024-03-03T03:50:07.072929Z"
    },
    "trusted": true
   },
   "outputs": [],
   "source": [
    "pd.set_option('display.max_rows', None)"
   ]
  },
  {
   "cell_type": "code",
   "execution_count": 132,
   "metadata": {
    "execution": {
     "iopub.execute_input": "2024-03-03T03:50:07.084927Z",
     "iopub.status.busy": "2024-03-03T03:50:07.084685Z",
     "iopub.status.idle": "2024-03-03T03:50:07.107439Z",
     "shell.execute_reply": "2024-03-03T03:50:07.106077Z",
     "shell.execute_reply.started": "2024-03-03T03:50:07.084905Z"
    },
    "jupyter": {
     "source_hidden": true
    },
    "trusted": true
   },
   "outputs": [],
   "source": [
    "import re\n",
    "\n",
    "#create another kf dataframe for create three column from Memory column\n",
    "\n",
    "data = tem_df['Memory']\n",
    "kf = pd.DataFrame({'storage':data})\n",
    "\n",
    "# Function to extract SSD storage size\n",
    "def extract_ssd_storage(storage):\n",
    "    ssd_sizes = re.findall(r'(\\d+GB) SSD', storage)\n",
    "    return ' '.join(ssd_sizes)\n",
    "\n",
    "# Function to extract HDD storage size\n",
    "def extract_hdd_storage(storage):\n",
    "    hdd_sizes = re.findall(r'(\\d+GB|\\d+TB) HDD', storage)\n",
    "    return ' '.join(hdd_sizes)\n",
    "\n",
    "# Function to extract flash storage size\n",
    "def extract_flash_storage(storage):\n",
    "    flash_sizes = re.findall(r'(\\d+GB) Flash Storage', storage)\n",
    "    return ' '.join(flash_sizes)\n",
    "\n",
    "# Apply the functions to the 'storage' column\n",
    "kf['SSD Storage'] = kf['storage'].apply(extract_ssd_storage)\n",
    "kf['HDD Storage'] = kf['storage'].apply(extract_hdd_storage)\n",
    "kf['Flash Storage'] = kf['storage'].apply(extract_flash_storage)\n",
    "\n",
    "# Display the DataFrame with the extracted storage sizes\n",
    "# kf[['storage', 'SSD Storage', 'HDD Storage', 'Flash Storage']]"
   ]
  },
  {
   "cell_type": "code",
   "execution_count": 133,
   "metadata": {
    "execution": {
     "iopub.execute_input": "2024-03-03T03:50:07.109381Z",
     "iopub.status.busy": "2024-03-03T03:50:07.10895Z",
     "iopub.status.idle": "2024-03-03T03:50:07.119626Z",
     "shell.execute_reply": "2024-03-03T03:50:07.118329Z",
     "shell.execute_reply.started": "2024-03-03T03:50:07.109352Z"
    },
    "trusted": true
   },
   "outputs": [],
   "source": [
    "# create new(ssd_storage) column from Memory column\n",
    "tem_df['ssd_storage'] = kf['SSD Storage'].str.split('GB').str.get(0)\n",
    "\n",
    "# where nan value exists in ssd_storage; i want to assign nan values with '0'\n",
    "tem_df.loc[tem_df['ssd_storage'] == '', 'ssd_storage'] = '0'"
   ]
  },
  {
   "cell_type": "code",
   "execution_count": 134,
   "metadata": {
    "execution": {
     "iopub.execute_input": "2024-03-03T03:50:07.122542Z",
     "iopub.status.busy": "2024-03-03T03:50:07.121776Z",
     "iopub.status.idle": "2024-03-03T03:50:07.133594Z",
     "shell.execute_reply": "2024-03-03T03:50:07.13192Z",
     "shell.execute_reply.started": "2024-03-03T03:50:07.12251Z"
    },
    "trusted": true
   },
   "outputs": [],
   "source": [
    "# create another new(hdd_storage) column from Memory column\n",
    "tem_df['hdd_storage'] = kf['HDD Storage'].str.split('GB').str.get(0)\n",
    "\n",
    "# where nan value exists in hdd_storage; i want to assign nan values with '0'\n",
    "tem_df.loc[tem_df['hdd_storage'] == '', 'hdd_storage'] = '0'"
   ]
  },
  {
   "cell_type": "code",
   "execution_count": 135,
   "metadata": {
    "execution": {
     "iopub.execute_input": "2024-03-03T03:50:07.13544Z",
     "iopub.status.busy": "2024-03-03T03:50:07.135116Z",
     "iopub.status.idle": "2024-03-03T03:50:07.14928Z",
     "shell.execute_reply": "2024-03-03T03:50:07.148301Z",
     "shell.execute_reply.started": "2024-03-03T03:50:07.135414Z"
    },
    "trusted": true
   },
   "outputs": [],
   "source": [
    "# create another new(flash_storage) column from Memory column\n",
    "tem_df['flash_storage'] = kf['Flash Storage'].str.split('GB').str.get(0)\n",
    "\n",
    "# where nan value exists in flash_storage; i want to assign nan values with '0'\n",
    "tem_df.loc[tem_df['flash_storage'] == '', 'flash_storage'] = '0'"
   ]
  },
  {
   "cell_type": "code",
   "execution_count": 136,
   "metadata": {
    "execution": {
     "iopub.execute_input": "2024-03-03T03:50:07.151536Z",
     "iopub.status.busy": "2024-03-03T03:50:07.150431Z",
     "iopub.status.idle": "2024-03-03T03:50:07.175894Z",
     "shell.execute_reply": "2024-03-03T03:50:07.174895Z",
     "shell.execute_reply.started": "2024-03-03T03:50:07.151486Z"
    },
    "trusted": true
   },
   "outputs": [
    {
     "data": {
      "text/html": [
       "<div>\n",
       "<style scoped>\n",
       "    .dataframe tbody tr th:only-of-type {\n",
       "        vertical-align: middle;\n",
       "    }\n",
       "\n",
       "    .dataframe tbody tr th {\n",
       "        vertical-align: top;\n",
       "    }\n",
       "\n",
       "    .dataframe thead th {\n",
       "        text-align: right;\n",
       "    }\n",
       "</style>\n",
       "<table border=\"1\" class=\"dataframe\">\n",
       "  <thead>\n",
       "    <tr style=\"text-align: right;\">\n",
       "      <th></th>\n",
       "      <th>Company</th>\n",
       "      <th>TypeName</th>\n",
       "      <th>Inches</th>\n",
       "      <th>ScreenResolution</th>\n",
       "      <th>Cpu</th>\n",
       "      <th>Ram</th>\n",
       "      <th>Memory</th>\n",
       "      <th>Gpu</th>\n",
       "      <th>OpSys</th>\n",
       "      <th>Weight</th>\n",
       "      <th>Price</th>\n",
       "      <th>screen_resolution</th>\n",
       "      <th>display_type</th>\n",
       "      <th>processor_speed</th>\n",
       "      <th>processor_brand</th>\n",
       "      <th>processor_type</th>\n",
       "      <th>ssd_storage</th>\n",
       "      <th>hdd_storage</th>\n",
       "      <th>flash_storage</th>\n",
       "    </tr>\n",
       "  </thead>\n",
       "  <tbody>\n",
       "    <tr>\n",
       "      <th>0</th>\n",
       "      <td>Apple</td>\n",
       "      <td>Ultrabook</td>\n",
       "      <td>13.3</td>\n",
       "      <td>IPS Panel Retina Display 2560x1600</td>\n",
       "      <td>Intel Core i5 2.3GHz</td>\n",
       "      <td>8GB</td>\n",
       "      <td>128GB SSD</td>\n",
       "      <td>Intel Iris Plus Graphics 640</td>\n",
       "      <td>macOS</td>\n",
       "      <td>1.37kg</td>\n",
       "      <td>71378.6832</td>\n",
       "      <td>2560x1600</td>\n",
       "      <td>Quad HD</td>\n",
       "      <td>2.3</td>\n",
       "      <td>Intel</td>\n",
       "      <td>Core i5</td>\n",
       "      <td>128</td>\n",
       "      <td>0</td>\n",
       "      <td>0</td>\n",
       "    </tr>\n",
       "    <tr>\n",
       "      <th>1</th>\n",
       "      <td>Apple</td>\n",
       "      <td>Ultrabook</td>\n",
       "      <td>13.3</td>\n",
       "      <td>1440x900</td>\n",
       "      <td>Intel Core i5 1.8GHz</td>\n",
       "      <td>8GB</td>\n",
       "      <td>128GB Flash Storage</td>\n",
       "      <td>Intel HD Graphics 6000</td>\n",
       "      <td>macOS</td>\n",
       "      <td>1.34kg</td>\n",
       "      <td>47895.5232</td>\n",
       "      <td>1440x900</td>\n",
       "      <td>HD</td>\n",
       "      <td>1.8</td>\n",
       "      <td>Intel</td>\n",
       "      <td>Core i5</td>\n",
       "      <td>0</td>\n",
       "      <td>0</td>\n",
       "      <td>128</td>\n",
       "    </tr>\n",
       "    <tr>\n",
       "      <th>2</th>\n",
       "      <td>HP</td>\n",
       "      <td>Notebook</td>\n",
       "      <td>15.6</td>\n",
       "      <td>Full HD 1920x1080</td>\n",
       "      <td>Intel Core i5 7200U 2.5GHz</td>\n",
       "      <td>8GB</td>\n",
       "      <td>256GB SSD</td>\n",
       "      <td>Intel HD Graphics 620</td>\n",
       "      <td>No OS</td>\n",
       "      <td>1.86kg</td>\n",
       "      <td>30636.0000</td>\n",
       "      <td>1920x1080</td>\n",
       "      <td>Full HD</td>\n",
       "      <td>2.5</td>\n",
       "      <td>Intel</td>\n",
       "      <td>Core i5 7200U</td>\n",
       "      <td>256</td>\n",
       "      <td>0</td>\n",
       "      <td>0</td>\n",
       "    </tr>\n",
       "    <tr>\n",
       "      <th>3</th>\n",
       "      <td>Apple</td>\n",
       "      <td>Ultrabook</td>\n",
       "      <td>15.4</td>\n",
       "      <td>IPS Panel Retina Display 2880x1800</td>\n",
       "      <td>Intel Core i7 2.7GHz</td>\n",
       "      <td>16GB</td>\n",
       "      <td>512GB SSD</td>\n",
       "      <td>AMD Radeon Pro 455</td>\n",
       "      <td>macOS</td>\n",
       "      <td>1.83kg</td>\n",
       "      <td>135195.3360</td>\n",
       "      <td>2880x1800</td>\n",
       "      <td>Quad HD</td>\n",
       "      <td>2.7</td>\n",
       "      <td>Intel</td>\n",
       "      <td>Core i7</td>\n",
       "      <td>512</td>\n",
       "      <td>0</td>\n",
       "      <td>0</td>\n",
       "    </tr>\n",
       "    <tr>\n",
       "      <th>4</th>\n",
       "      <td>Apple</td>\n",
       "      <td>Ultrabook</td>\n",
       "      <td>13.3</td>\n",
       "      <td>IPS Panel Retina Display 2560x1600</td>\n",
       "      <td>Intel Core i5 3.1GHz</td>\n",
       "      <td>8GB</td>\n",
       "      <td>256GB SSD</td>\n",
       "      <td>Intel Iris Plus Graphics 650</td>\n",
       "      <td>macOS</td>\n",
       "      <td>1.37kg</td>\n",
       "      <td>96095.8080</td>\n",
       "      <td>2560x1600</td>\n",
       "      <td>Quad HD</td>\n",
       "      <td>3.1</td>\n",
       "      <td>Intel</td>\n",
       "      <td>Core i5</td>\n",
       "      <td>256</td>\n",
       "      <td>0</td>\n",
       "      <td>0</td>\n",
       "    </tr>\n",
       "  </tbody>\n",
       "</table>\n",
       "</div>"
      ],
      "text/plain": [
       "  Company   TypeName Inches                    ScreenResolution  \\\n",
       "0   Apple  Ultrabook   13.3  IPS Panel Retina Display 2560x1600   \n",
       "1   Apple  Ultrabook   13.3                            1440x900   \n",
       "2      HP   Notebook   15.6                   Full HD 1920x1080   \n",
       "3   Apple  Ultrabook   15.4  IPS Panel Retina Display 2880x1800   \n",
       "4   Apple  Ultrabook   13.3  IPS Panel Retina Display 2560x1600   \n",
       "\n",
       "                          Cpu   Ram               Memory  \\\n",
       "0        Intel Core i5 2.3GHz   8GB            128GB SSD   \n",
       "1        Intel Core i5 1.8GHz   8GB  128GB Flash Storage   \n",
       "2  Intel Core i5 7200U 2.5GHz   8GB            256GB SSD   \n",
       "3        Intel Core i7 2.7GHz  16GB            512GB SSD   \n",
       "4        Intel Core i5 3.1GHz   8GB            256GB SSD   \n",
       "\n",
       "                            Gpu  OpSys  Weight        Price screen_resolution  \\\n",
       "0  Intel Iris Plus Graphics 640  macOS  1.37kg   71378.6832         2560x1600   \n",
       "1        Intel HD Graphics 6000  macOS  1.34kg   47895.5232          1440x900   \n",
       "2         Intel HD Graphics 620  No OS  1.86kg   30636.0000         1920x1080   \n",
       "3            AMD Radeon Pro 455  macOS  1.83kg  135195.3360         2880x1800   \n",
       "4  Intel Iris Plus Graphics 650  macOS  1.37kg   96095.8080         2560x1600   \n",
       "\n",
       "  display_type processor_speed processor_brand  processor_type ssd_storage  \\\n",
       "0      Quad HD             2.3           Intel         Core i5         128   \n",
       "1           HD             1.8           Intel         Core i5           0   \n",
       "2      Full HD             2.5           Intel   Core i5 7200U         256   \n",
       "3      Quad HD             2.7           Intel         Core i7         512   \n",
       "4      Quad HD             3.1           Intel         Core i5         256   \n",
       "\n",
       "  hdd_storage flash_storage  \n",
       "0           0             0  \n",
       "1           0           128  \n",
       "2           0             0  \n",
       "3           0             0  \n",
       "4           0             0  "
      ]
     },
     "execution_count": 136,
     "metadata": {},
     "output_type": "execute_result"
    }
   ],
   "source": [
    "tem_df.head()"
   ]
  },
  {
   "cell_type": "markdown",
   "metadata": {},
   "source": [
    "# Solve Validity Issues"
   ]
  },
  {
   "cell_type": "code",
   "execution_count": 137,
   "metadata": {
    "execution": {
     "iopub.execute_input": "2024-03-03T03:50:07.17788Z",
     "iopub.status.busy": "2024-03-03T03:50:07.177366Z",
     "iopub.status.idle": "2024-03-03T03:50:07.204152Z",
     "shell.execute_reply": "2024-03-03T03:50:07.20288Z",
     "shell.execute_reply.started": "2024-03-03T03:50:07.177848Z"
    },
    "trusted": true
   },
   "outputs": [
    {
     "data": {
      "text/html": [
       "<div>\n",
       "<style scoped>\n",
       "    .dataframe tbody tr th:only-of-type {\n",
       "        vertical-align: middle;\n",
       "    }\n",
       "\n",
       "    .dataframe tbody tr th {\n",
       "        vertical-align: top;\n",
       "    }\n",
       "\n",
       "    .dataframe thead th {\n",
       "        text-align: right;\n",
       "    }\n",
       "</style>\n",
       "<table border=\"1\" class=\"dataframe\">\n",
       "  <thead>\n",
       "    <tr style=\"text-align: right;\">\n",
       "      <th></th>\n",
       "      <th>Company</th>\n",
       "      <th>TypeName</th>\n",
       "      <th>Inches</th>\n",
       "      <th>ScreenResolution</th>\n",
       "      <th>Cpu</th>\n",
       "      <th>Ram</th>\n",
       "      <th>Memory</th>\n",
       "      <th>Gpu</th>\n",
       "      <th>OpSys</th>\n",
       "      <th>Weight</th>\n",
       "      <th>Price</th>\n",
       "      <th>screen_resolution</th>\n",
       "      <th>display_type</th>\n",
       "      <th>processor_speed</th>\n",
       "      <th>processor_brand</th>\n",
       "      <th>processor_type</th>\n",
       "      <th>ssd_storage</th>\n",
       "      <th>hdd_storage</th>\n",
       "      <th>flash_storage</th>\n",
       "    </tr>\n",
       "  </thead>\n",
       "  <tbody>\n",
       "    <tr>\n",
       "      <th>465</th>\n",
       "      <td>Dell</td>\n",
       "      <td>Workstation</td>\n",
       "      <td>?</td>\n",
       "      <td>Full HD 1920x1080</td>\n",
       "      <td>Intel Core i7 7700HQ 2.8GHz</td>\n",
       "      <td>8GB</td>\n",
       "      <td>256GB SSD</td>\n",
       "      <td>Nvidia Quadro M1200</td>\n",
       "      <td>Windows 10</td>\n",
       "      <td>1.78kg</td>\n",
       "      <td>128298.24</td>\n",
       "      <td>1920x1080</td>\n",
       "      <td>Full HD</td>\n",
       "      <td>2.8</td>\n",
       "      <td>Intel</td>\n",
       "      <td>Core i7 7700HQ</td>\n",
       "      <td>256</td>\n",
       "      <td>0</td>\n",
       "      <td>0</td>\n",
       "    </tr>\n",
       "  </tbody>\n",
       "</table>\n",
       "</div>"
      ],
      "text/plain": [
       "    Company     TypeName Inches   ScreenResolution  \\\n",
       "465    Dell  Workstation      ?  Full HD 1920x1080   \n",
       "\n",
       "                             Cpu  Ram     Memory                  Gpu  \\\n",
       "465  Intel Core i7 7700HQ 2.8GHz  8GB  256GB SSD  Nvidia Quadro M1200   \n",
       "\n",
       "          OpSys  Weight      Price screen_resolution display_type  \\\n",
       "465  Windows 10  1.78kg  128298.24         1920x1080      Full HD   \n",
       "\n",
       "    processor_speed processor_brand   processor_type ssd_storage hdd_storage  \\\n",
       "465             2.8           Intel   Core i7 7700HQ         256           0   \n",
       "\n",
       "    flash_storage  \n",
       "465             0  "
      ]
     },
     "execution_count": 137,
     "metadata": {},
     "output_type": "execute_result"
    }
   ],
   "source": [
    "# Upon manually searching using this laptop's specifications, \n",
    "# I discovered that the screen size is 15.6 inches.\n",
    "tem_df[tem_df['Inches'] == '?']"
   ]
  },
  {
   "cell_type": "code",
   "execution_count": 138,
   "metadata": {
    "execution": {
     "iopub.execute_input": "2024-03-03T03:50:07.206274Z",
     "iopub.status.busy": "2024-03-03T03:50:07.205678Z",
     "iopub.status.idle": "2024-03-03T03:50:07.222962Z",
     "shell.execute_reply": "2024-03-03T03:50:07.221464Z",
     "shell.execute_reply.started": "2024-03-03T03:50:07.206235Z"
    },
    "trusted": true
   },
   "outputs": [],
   "source": [
    "# so replace this ? with 15.6\n",
    "tem_df.loc[tem_df['Inches'] == '?', 'Inches'] = '15.6'"
   ]
  },
  {
   "cell_type": "code",
   "execution_count": 139,
   "metadata": {
    "execution": {
     "iopub.execute_input": "2024-03-03T03:50:07.225452Z",
     "iopub.status.busy": "2024-03-03T03:50:07.224648Z",
     "iopub.status.idle": "2024-03-03T03:50:07.247741Z",
     "shell.execute_reply": "2024-03-03T03:50:07.246651Z",
     "shell.execute_reply.started": "2024-03-03T03:50:07.22542Z"
    },
    "trusted": true
   },
   "outputs": [
    {
     "data": {
      "text/html": [
       "<div>\n",
       "<style scoped>\n",
       "    .dataframe tbody tr th:only-of-type {\n",
       "        vertical-align: middle;\n",
       "    }\n",
       "\n",
       "    .dataframe tbody tr th {\n",
       "        vertical-align: top;\n",
       "    }\n",
       "\n",
       "    .dataframe thead th {\n",
       "        text-align: right;\n",
       "    }\n",
       "</style>\n",
       "<table border=\"1\" class=\"dataframe\">\n",
       "  <thead>\n",
       "    <tr style=\"text-align: right;\">\n",
       "      <th></th>\n",
       "      <th>Company</th>\n",
       "      <th>TypeName</th>\n",
       "      <th>Inches</th>\n",
       "      <th>ScreenResolution</th>\n",
       "      <th>Cpu</th>\n",
       "      <th>Ram</th>\n",
       "      <th>Memory</th>\n",
       "      <th>Gpu</th>\n",
       "      <th>OpSys</th>\n",
       "      <th>Weight</th>\n",
       "      <th>Price</th>\n",
       "      <th>screen_resolution</th>\n",
       "      <th>display_type</th>\n",
       "      <th>processor_speed</th>\n",
       "      <th>processor_brand</th>\n",
       "      <th>processor_type</th>\n",
       "      <th>ssd_storage</th>\n",
       "      <th>hdd_storage</th>\n",
       "      <th>flash_storage</th>\n",
       "    </tr>\n",
       "  </thead>\n",
       "  <tbody>\n",
       "    <tr>\n",
       "      <th>339</th>\n",
       "      <td>Dell</td>\n",
       "      <td>Ultrabook</td>\n",
       "      <td>15.6</td>\n",
       "      <td>Full HD 1920x1080</td>\n",
       "      <td>Intel Core i5 8250U 1.6GHz</td>\n",
       "      <td>8GB</td>\n",
       "      <td>1TB HDD</td>\n",
       "      <td>AMD Radeon 530</td>\n",
       "      <td>Windows 10</td>\n",
       "      <td>0.0002kg</td>\n",
       "      <td>35324.64</td>\n",
       "      <td>1920x1080</td>\n",
       "      <td>Full HD</td>\n",
       "      <td>1.6</td>\n",
       "      <td>Intel</td>\n",
       "      <td>Core i5 8250U</td>\n",
       "      <td>0</td>\n",
       "      <td>1TB</td>\n",
       "      <td>0</td>\n",
       "    </tr>\n",
       "  </tbody>\n",
       "</table>\n",
       "</div>"
      ],
      "text/plain": [
       "    Company   TypeName Inches   ScreenResolution                         Cpu  \\\n",
       "339    Dell  Ultrabook   15.6  Full HD 1920x1080  Intel Core i5 8250U 1.6GHz   \n",
       "\n",
       "     Ram   Memory             Gpu       OpSys    Weight     Price  \\\n",
       "339  8GB  1TB HDD  AMD Radeon 530  Windows 10  0.0002kg  35324.64   \n",
       "\n",
       "    screen_resolution display_type processor_speed processor_brand  \\\n",
       "339         1920x1080      Full HD             1.6           Intel   \n",
       "\n",
       "     processor_type ssd_storage hdd_storage flash_storage  \n",
       "339   Core i5 8250U           0         1TB             0  "
      ]
     },
     "execution_count": 139,
     "metadata": {},
     "output_type": "execute_result"
    }
   ],
   "source": [
    "# I found a laptop that supposedly weighs 0.0002 kg, which seems improbable.\n",
    "tem_df[tem_df['Weight'] ==  '0.0002kg']"
   ]
  },
  {
   "cell_type": "code",
   "execution_count": 140,
   "metadata": {
    "execution": {
     "iopub.execute_input": "2024-03-03T03:50:07.249489Z",
     "iopub.status.busy": "2024-03-03T03:50:07.249045Z",
     "iopub.status.idle": "2024-03-03T03:50:07.255231Z",
     "shell.execute_reply": "2024-03-03T03:50:07.253845Z",
     "shell.execute_reply.started": "2024-03-03T03:50:07.249461Z"
    },
    "trusted": true
   },
   "outputs": [],
   "source": [
    "# this values might be 2kg\n",
    "tem_df.loc[tem_df['Weight'] ==  '0.0002kg', 'Weight'] = '2.0kg'"
   ]
  },
  {
   "cell_type": "code",
   "execution_count": 141,
   "metadata": {
    "execution": {
     "iopub.execute_input": "2024-03-03T03:50:07.256721Z",
     "iopub.status.busy": "2024-03-03T03:50:07.256392Z",
     "iopub.status.idle": "2024-03-03T03:50:07.281927Z",
     "shell.execute_reply": "2024-03-03T03:50:07.280879Z",
     "shell.execute_reply.started": "2024-03-03T03:50:07.256686Z"
    },
    "trusted": true
   },
   "outputs": [
    {
     "data": {
      "text/html": [
       "<div>\n",
       "<style scoped>\n",
       "    .dataframe tbody tr th:only-of-type {\n",
       "        vertical-align: middle;\n",
       "    }\n",
       "\n",
       "    .dataframe tbody tr th {\n",
       "        vertical-align: top;\n",
       "    }\n",
       "\n",
       "    .dataframe thead th {\n",
       "        text-align: right;\n",
       "    }\n",
       "</style>\n",
       "<table border=\"1\" class=\"dataframe\">\n",
       "  <thead>\n",
       "    <tr style=\"text-align: right;\">\n",
       "      <th></th>\n",
       "      <th>Company</th>\n",
       "      <th>TypeName</th>\n",
       "      <th>Inches</th>\n",
       "      <th>ScreenResolution</th>\n",
       "      <th>Cpu</th>\n",
       "      <th>Ram</th>\n",
       "      <th>Memory</th>\n",
       "      <th>Gpu</th>\n",
       "      <th>OpSys</th>\n",
       "      <th>Weight</th>\n",
       "      <th>Price</th>\n",
       "      <th>screen_resolution</th>\n",
       "      <th>display_type</th>\n",
       "      <th>processor_speed</th>\n",
       "      <th>processor_brand</th>\n",
       "      <th>processor_type</th>\n",
       "      <th>ssd_storage</th>\n",
       "      <th>hdd_storage</th>\n",
       "      <th>flash_storage</th>\n",
       "    </tr>\n",
       "  </thead>\n",
       "  <tbody>\n",
       "    <tr>\n",
       "      <th>128</th>\n",
       "      <td>Acer</td>\n",
       "      <td>Notebook</td>\n",
       "      <td>15.6</td>\n",
       "      <td>Full HD 1920x1080</td>\n",
       "      <td>Intel Core i3 7130U 2.7GHz</td>\n",
       "      <td>4GB</td>\n",
       "      <td>256GB SSD</td>\n",
       "      <td>Nvidia GeForce MX130</td>\n",
       "      <td>Windows 10</td>\n",
       "      <td>7.2kg</td>\n",
       "      <td>30476.16</td>\n",
       "      <td>1920x1080</td>\n",
       "      <td>Full HD</td>\n",
       "      <td>2.7</td>\n",
       "      <td>Intel</td>\n",
       "      <td>Core i3 7130U</td>\n",
       "      <td>256</td>\n",
       "      <td>0</td>\n",
       "      <td>0</td>\n",
       "    </tr>\n",
       "    <tr>\n",
       "      <th>232</th>\n",
       "      <td>Lenovo</td>\n",
       "      <td>Notebook</td>\n",
       "      <td>15.6</td>\n",
       "      <td>1366x768</td>\n",
       "      <td>Intel Core i3 6006U 2GHz</td>\n",
       "      <td>8GB</td>\n",
       "      <td>128GB SSD</td>\n",
       "      <td>Intel HD Graphics 520</td>\n",
       "      <td>Windows 10</td>\n",
       "      <td>7.2kg</td>\n",
       "      <td>31381.92</td>\n",
       "      <td>1366x768</td>\n",
       "      <td>HD</td>\n",
       "      <td>2</td>\n",
       "      <td>Intel</td>\n",
       "      <td>Core i3 6006U</td>\n",
       "      <td>128</td>\n",
       "      <td>0</td>\n",
       "      <td>0</td>\n",
       "    </tr>\n",
       "  </tbody>\n",
       "</table>\n",
       "</div>"
      ],
      "text/plain": [
       "    Company  TypeName Inches   ScreenResolution                         Cpu  \\\n",
       "128    Acer  Notebook   15.6  Full HD 1920x1080  Intel Core i3 7130U 2.7GHz   \n",
       "232  Lenovo  Notebook   15.6           1366x768    Intel Core i3 6006U 2GHz   \n",
       "\n",
       "     Ram     Memory                    Gpu       OpSys Weight     Price  \\\n",
       "128  4GB  256GB SSD   Nvidia GeForce MX130  Windows 10  7.2kg  30476.16   \n",
       "232  8GB  128GB SSD  Intel HD Graphics 520  Windows 10  7.2kg  31381.92   \n",
       "\n",
       "    screen_resolution display_type processor_speed processor_brand  \\\n",
       "128         1920x1080      Full HD             2.7           Intel   \n",
       "232          1366x768           HD               2           Intel   \n",
       "\n",
       "     processor_type ssd_storage hdd_storage flash_storage  \n",
       "128   Core i3 7130U         256           0             0  \n",
       "232   Core i3 6006U         128           0             0  "
      ]
     },
     "execution_count": 141,
     "metadata": {},
     "output_type": "execute_result"
    }
   ],
   "source": [
    "# wrong value ------->> correct value\n",
    "# 7.2kg   ----------------> 2.1kg(Acer)\n",
    "# 8.23kg ----------------> 2.2kg(Acer)\n",
    "# 5.4kg -----------------> 1.39(toshiba)\n",
    "# 7.22kg ---------------> 2.2kg(lenovo)\n",
    "# 8.4kg  ---------------->  1.27kg(lenovo)\n",
    "# Upon manually searching using this laptop's specifications, \n",
    "# and where laptops weights values are validity issues replace those values with accurate weight\n",
    "\n",
    "tem_df[tem_df['Weight'] == '7.2kg']"
   ]
  },
  {
   "cell_type": "code",
   "execution_count": 142,
   "metadata": {
    "execution": {
     "iopub.execute_input": "2024-03-03T03:50:07.284108Z",
     "iopub.status.busy": "2024-03-03T03:50:07.283294Z",
     "iopub.status.idle": "2024-03-03T03:50:07.292325Z",
     "shell.execute_reply": "2024-03-03T03:50:07.291407Z",
     "shell.execute_reply.started": "2024-03-03T03:50:07.28408Z"
    },
    "trusted": true
   },
   "outputs": [],
   "source": [
    "# assign correct value in 128 row\n",
    "tem_df.loc[128, 'Weight'] = '2.1kg'"
   ]
  },
  {
   "cell_type": "code",
   "execution_count": 143,
   "metadata": {
    "execution": {
     "iopub.execute_input": "2024-03-03T03:50:07.293744Z",
     "iopub.status.busy": "2024-03-03T03:50:07.29345Z",
     "iopub.status.idle": "2024-03-03T03:50:07.306104Z",
     "shell.execute_reply": "2024-03-03T03:50:07.305077Z",
     "shell.execute_reply.started": "2024-03-03T03:50:07.293719Z"
    },
    "trusted": true
   },
   "outputs": [],
   "source": [
    "# assign correct value in row 232 \n",
    "tem_df.loc[232, 'Weight'] = '2.2kg'"
   ]
  },
  {
   "cell_type": "code",
   "execution_count": 144,
   "metadata": {
    "execution": {
     "iopub.execute_input": "2024-03-03T03:50:07.307611Z",
     "iopub.status.busy": "2024-03-03T03:50:07.307348Z",
     "iopub.status.idle": "2024-03-03T03:50:07.320101Z",
     "shell.execute_reply": "2024-03-03T03:50:07.318928Z",
     "shell.execute_reply.started": "2024-03-03T03:50:07.307588Z"
    },
    "trusted": true
   },
   "outputs": [],
   "source": [
    "tem_df.loc[tem_df['Weight'] == '5.4kg', 'Weight'] = '1.39kg'"
   ]
  },
  {
   "cell_type": "code",
   "execution_count": 145,
   "metadata": {
    "execution": {
     "iopub.execute_input": "2024-03-03T03:50:07.321516Z",
     "iopub.status.busy": "2024-03-03T03:50:07.321236Z",
     "iopub.status.idle": "2024-03-03T03:50:07.332578Z",
     "shell.execute_reply": "2024-03-03T03:50:07.331447Z",
     "shell.execute_reply.started": "2024-03-03T03:50:07.32149Z"
    },
    "trusted": true
   },
   "outputs": [],
   "source": [
    "tem_df.loc[tem_df['Weight'] == '8.23kg', 'Weight'] = '2.2kg'"
   ]
  },
  {
   "cell_type": "code",
   "execution_count": 146,
   "metadata": {
    "execution": {
     "iopub.execute_input": "2024-03-03T03:50:07.334247Z",
     "iopub.status.busy": "2024-03-03T03:50:07.333929Z",
     "iopub.status.idle": "2024-03-03T03:50:07.347741Z",
     "shell.execute_reply": "2024-03-03T03:50:07.346457Z",
     "shell.execute_reply.started": "2024-03-03T03:50:07.334221Z"
    },
    "trusted": true
   },
   "outputs": [],
   "source": [
    "tem_df.loc[tem_df['Weight'] == '8.4kg', 'Weight'] = '1.27kg'"
   ]
  },
  {
   "cell_type": "markdown",
   "metadata": {},
   "source": [
    "# Solve Accuracy Issues\n"
   ]
  },
  {
   "cell_type": "code",
   "execution_count": 147,
   "metadata": {
    "execution": {
     "iopub.execute_input": "2024-03-03T03:50:07.349315Z",
     "iopub.status.busy": "2024-03-03T03:50:07.348997Z",
     "iopub.status.idle": "2024-03-03T03:50:07.361174Z",
     "shell.execute_reply": "2024-03-03T03:50:07.359996Z",
     "shell.execute_reply.started": "2024-03-03T03:50:07.349288Z"
    },
    "trusted": true
   },
   "outputs": [],
   "source": [
    "tem_df.loc[88, 'Ram'] = '4GB'"
   ]
  },
  {
   "cell_type": "code",
   "execution_count": 148,
   "metadata": {
    "execution": {
     "iopub.execute_input": "2024-03-03T03:50:07.36279Z",
     "iopub.status.busy": "2024-03-03T03:50:07.362505Z",
     "iopub.status.idle": "2024-03-03T03:50:07.374861Z",
     "shell.execute_reply": "2024-03-03T03:50:07.373929Z",
     "shell.execute_reply.started": "2024-03-03T03:50:07.362767Z"
    },
    "trusted": true
   },
   "outputs": [],
   "source": [
    "tem_df.loc[611, 'Ram'] = '4GB'"
   ]
  },
  {
   "cell_type": "code",
   "execution_count": 149,
   "metadata": {
    "execution": {
     "iopub.execute_input": "2024-03-03T03:50:07.376657Z",
     "iopub.status.busy": "2024-03-03T03:50:07.37633Z",
     "iopub.status.idle": "2024-03-03T03:50:07.387534Z",
     "shell.execute_reply": "2024-03-03T03:50:07.386639Z",
     "shell.execute_reply.started": "2024-03-03T03:50:07.376626Z"
    },
    "trusted": true
   },
   "outputs": [],
   "source": [
    "tem_df.loc[tem_df['Ram'] == '1GB', 'Ram'] = '8GB'"
   ]
  },
  {
   "cell_type": "code",
   "execution_count": 150,
   "metadata": {
    "execution": {
     "iopub.execute_input": "2024-03-03T03:50:07.389452Z",
     "iopub.status.busy": "2024-03-03T03:50:07.388865Z",
     "iopub.status.idle": "2024-03-03T03:50:07.399965Z",
     "shell.execute_reply": "2024-03-03T03:50:07.399244Z",
     "shell.execute_reply.started": "2024-03-03T03:50:07.389421Z"
    },
    "trusted": true
   },
   "outputs": [],
   "source": [
    "## 64GB to 8GB\n",
    "tem_df.loc[[68, 702], 'Ram'] = '8GB'"
   ]
  },
  {
   "cell_type": "markdown",
   "metadata": {},
   "source": [
    "# Solve Consistency Issues"
   ]
  },
  {
   "cell_type": "code",
   "execution_count": 151,
   "metadata": {
    "execution": {
     "iopub.execute_input": "2024-03-03T03:50:07.401831Z",
     "iopub.status.busy": "2024-03-03T03:50:07.401257Z",
     "iopub.status.idle": "2024-03-03T03:50:07.415601Z",
     "shell.execute_reply": "2024-03-03T03:50:07.414499Z",
     "shell.execute_reply.started": "2024-03-03T03:50:07.4018Z"
    },
    "trusted": true
   },
   "outputs": [],
   "source": [
    "# replace all Vero with Acer\n",
    "tem_df.loc[tem_df['Company'] == 'Vero', 'Company'] = 'Acer'"
   ]
  },
  {
   "cell_type": "code",
   "execution_count": 152,
   "metadata": {
    "execution": {
     "iopub.execute_input": "2024-03-03T03:50:07.417669Z",
     "iopub.status.busy": "2024-03-03T03:50:07.417308Z",
     "iopub.status.idle": "2024-03-03T03:50:07.429048Z",
     "shell.execute_reply": "2024-03-03T03:50:07.428297Z",
     "shell.execute_reply.started": "2024-03-03T03:50:07.417646Z"
    },
    "trusted": true
   },
   "outputs": [],
   "source": [
    "# Netbook replace with Notebook\n",
    "tem_df.loc[tem_df['TypeName'] == 'Netbook', 'TypeName'] = 'Notebook'"
   ]
  },
  {
   "cell_type": "code",
   "execution_count": 153,
   "metadata": {
    "execution": {
     "iopub.execute_input": "2024-03-03T03:50:07.431726Z",
     "iopub.status.busy": "2024-03-03T03:50:07.430155Z",
     "iopub.status.idle": "2024-03-03T03:50:07.442454Z",
     "shell.execute_reply": "2024-03-03T03:50:07.44086Z",
     "shell.execute_reply.started": "2024-03-03T03:50:07.431675Z"
    },
    "trusted": true
   },
   "outputs": [],
   "source": [
    "# change dtype\n",
    "tem_df['TypeName'] = tem_df['TypeName'].astype('category')"
   ]
  },
  {
   "cell_type": "code",
   "execution_count": 154,
   "metadata": {
    "execution": {
     "iopub.execute_input": "2024-03-03T03:50:07.444652Z",
     "iopub.status.busy": "2024-03-03T03:50:07.443996Z",
     "iopub.status.idle": "2024-03-03T03:50:07.454226Z",
     "shell.execute_reply": "2024-03-03T03:50:07.453279Z",
     "shell.execute_reply.started": "2024-03-03T03:50:07.444611Z"
    },
    "trusted": true
   },
   "outputs": [
    {
     "data": {
      "text/plain": [
       "array(['25.6', '35.6', '35.6', '27.3', '24', '33.5', '24', '31.6', '35.6'],\n",
       "      dtype=object)"
      ]
     },
     "execution_count": 154,
     "metadata": {},
     "output_type": "execute_result"
    }
   ],
   "source": [
    "tem_df[tem_df['Inches'] > '19.00']['Inches'].values"
   ]
  },
  {
   "cell_type": "code",
   "execution_count": 155,
   "metadata": {
    "execution": {
     "iopub.execute_input": "2024-03-03T03:50:07.45647Z",
     "iopub.status.busy": "2024-03-03T03:50:07.455406Z",
     "iopub.status.idle": "2024-03-03T03:50:07.466605Z",
     "shell.execute_reply": "2024-03-03T03:50:07.465562Z",
     "shell.execute_reply.started": "2024-03-03T03:50:07.456432Z"
    },
    "trusted": true
   },
   "outputs": [],
   "source": [
    "# some centemeter values have in inches column that's why need to use this func\n",
    "def cm_to_inches(cm):\n",
    "    inches = cm / 2.54\n",
    "    return inches\n",
    "tem_df.loc[tem_df['Inches'] >= '19.00', 'Inches'] = tem_df[tem_df['Inches'] >= '19.00']['Inches'].astype(float).apply(cm_to_inches)"
   ]
  },
  {
   "cell_type": "code",
   "execution_count": 156,
   "metadata": {
    "execution": {
     "iopub.execute_input": "2024-03-03T03:50:07.468651Z",
     "iopub.status.busy": "2024-03-03T03:50:07.467594Z",
     "iopub.status.idle": "2024-03-03T03:50:07.492104Z",
     "shell.execute_reply": "2024-03-03T03:50:07.490954Z",
     "shell.execute_reply.started": "2024-03-03T03:50:07.46862Z"
    },
    "trusted": true
   },
   "outputs": [
    {
     "data": {
      "text/plain": [
       "count    1244.000000\n",
       "mean       15.006271\n",
       "std         1.455059\n",
       "min         9.448819\n",
       "25%        14.000000\n",
       "50%        15.600000\n",
       "75%        15.600000\n",
       "max        18.400000\n",
       "Name: Inches, dtype: float64"
      ]
     },
     "execution_count": 156,
     "metadata": {},
     "output_type": "execute_result"
    }
   ],
   "source": [
    "tem_df['Inches'].astype(float).describe()"
   ]
  },
  {
   "cell_type": "code",
   "execution_count": 157,
   "metadata": {
    "execution": {
     "iopub.execute_input": "2024-03-03T03:50:07.493897Z",
     "iopub.status.busy": "2024-03-03T03:50:07.493281Z",
     "iopub.status.idle": "2024-03-03T03:50:07.503939Z",
     "shell.execute_reply": "2024-03-03T03:50:07.502568Z",
     "shell.execute_reply.started": "2024-03-03T03:50:07.493869Z"
    },
    "trusted": true
   },
   "outputs": [],
   "source": [
    "# extract only ram without GB\n",
    "tem_df['ram'] = tem_df['Ram'].str.split('GB').str.get(0).astype(int)"
   ]
  },
  {
   "cell_type": "code",
   "execution_count": 158,
   "metadata": {
    "execution": {
     "iopub.execute_input": "2024-03-03T03:50:07.506581Z",
     "iopub.status.busy": "2024-03-03T03:50:07.506194Z",
     "iopub.status.idle": "2024-03-03T03:50:07.51924Z",
     "shell.execute_reply": "2024-03-03T03:50:07.518226Z",
     "shell.execute_reply.started": "2024-03-03T03:50:07.506549Z"
    },
    "trusted": true
   },
   "outputs": [],
   "source": [
    "#In the laptop dataset, the 'android OpSys' column exhibits significant inconsistency, \n",
    "#prompting its removal from the DataFrame.\n",
    "tem_df.drop(1086, inplace=True)"
   ]
  },
  {
   "cell_type": "code",
   "execution_count": 159,
   "metadata": {
    "execution": {
     "iopub.execute_input": "2024-03-03T03:50:07.522393Z",
     "iopub.status.busy": "2024-03-03T03:50:07.522056Z",
     "iopub.status.idle": "2024-03-03T03:50:07.535932Z",
     "shell.execute_reply": "2024-03-03T03:50:07.534752Z",
     "shell.execute_reply.started": "2024-03-03T03:50:07.522365Z"
    },
    "trusted": true
   },
   "outputs": [],
   "source": [
    "tem_df['os'] = tem_df['OpSys'].str.split(' ').str.get(0).str.lower()"
   ]
  },
  {
   "cell_type": "code",
   "execution_count": 160,
   "metadata": {
    "execution": {
     "iopub.execute_input": "2024-03-03T03:50:07.537443Z",
     "iopub.status.busy": "2024-03-03T03:50:07.536917Z",
     "iopub.status.idle": "2024-03-03T03:50:07.550983Z",
     "shell.execute_reply": "2024-03-03T03:50:07.550257Z",
     "shell.execute_reply.started": "2024-03-03T03:50:07.53742Z"
    },
    "trusted": true
   },
   "outputs": [],
   "source": [
    "tem_df['Weight'] = tem_df['Weight'].str.split('kg').str.get(0)"
   ]
  },
  {
   "cell_type": "code",
   "execution_count": 161,
   "metadata": {
    "execution": {
     "iopub.execute_input": "2024-03-03T03:50:07.552261Z",
     "iopub.status.busy": "2024-03-03T03:50:07.551879Z",
     "iopub.status.idle": "2024-03-03T03:50:07.563655Z",
     "shell.execute_reply": "2024-03-03T03:50:07.562645Z",
     "shell.execute_reply.started": "2024-03-03T03:50:07.552235Z"
    },
    "trusted": true
   },
   "outputs": [],
   "source": [
    "pd.set_option('display.max_columns', None)"
   ]
  },
  {
   "cell_type": "code",
   "execution_count": 162,
   "metadata": {
    "execution": {
     "iopub.execute_input": "2024-03-03T03:50:59.959689Z",
     "iopub.status.busy": "2024-03-03T03:50:59.958807Z",
     "iopub.status.idle": "2024-03-03T03:50:59.969135Z",
     "shell.execute_reply": "2024-03-03T03:50:59.967807Z",
     "shell.execute_reply.started": "2024-03-03T03:50:59.959641Z"
    },
    "trusted": true
   },
   "outputs": [
    {
     "data": {
      "text/plain": [
       "Index(['Company', 'TypeName', 'Inches', 'ScreenResolution', 'Cpu', 'Ram',\n",
       "       'Memory', 'Gpu', 'OpSys', 'Weight', 'Price', 'screen_resolution',\n",
       "       'display_type', 'processor_speed', 'processor_brand', 'processor_type',\n",
       "       'ssd_storage', 'hdd_storage', 'flash_storage', 'ram', 'os'],\n",
       "      dtype='object')"
      ]
     },
     "execution_count": 162,
     "metadata": {},
     "output_type": "execute_result"
    }
   ],
   "source": [
    "tem_df.columns"
   ]
  },
  {
   "cell_type": "code",
   "execution_count": 163,
   "metadata": {
    "execution": {
     "iopub.execute_input": "2024-03-03T03:51:01.359112Z",
     "iopub.status.busy": "2024-03-03T03:51:01.358313Z",
     "iopub.status.idle": "2024-03-03T03:51:01.369772Z",
     "shell.execute_reply": "2024-03-03T03:51:01.367057Z",
     "shell.execute_reply.started": "2024-03-03T03:51:01.359069Z"
    },
    "trusted": true
   },
   "outputs": [],
   "source": [
    "clean_df = tem_df[['Company', 'TypeName', 'Inches','Weight','screen_resolution',\n",
    "                     'display_type', 'processor_speed', 'processor_brand', 'processor_type',\n",
    "                     'ssd_storage', 'hdd_storage', 'flash_storage', 'ram', 'os','Price']]"
   ]
  },
  {
   "cell_type": "code",
   "execution_count": 164,
   "metadata": {
    "execution": {
     "iopub.execute_input": "2024-03-03T03:51:02.727973Z",
     "iopub.status.busy": "2024-03-03T03:51:02.727639Z",
     "iopub.status.idle": "2024-03-03T03:51:02.746563Z",
     "shell.execute_reply": "2024-03-03T03:51:02.745121Z",
     "shell.execute_reply.started": "2024-03-03T03:51:02.727943Z"
    },
    "trusted": true
   },
   "outputs": [
    {
     "data": {
      "text/html": [
       "<div>\n",
       "<style scoped>\n",
       "    .dataframe tbody tr th:only-of-type {\n",
       "        vertical-align: middle;\n",
       "    }\n",
       "\n",
       "    .dataframe tbody tr th {\n",
       "        vertical-align: top;\n",
       "    }\n",
       "\n",
       "    .dataframe thead th {\n",
       "        text-align: right;\n",
       "    }\n",
       "</style>\n",
       "<table border=\"1\" class=\"dataframe\">\n",
       "  <thead>\n",
       "    <tr style=\"text-align: right;\">\n",
       "      <th></th>\n",
       "      <th>Company</th>\n",
       "      <th>TypeName</th>\n",
       "      <th>Inches</th>\n",
       "      <th>Weight</th>\n",
       "      <th>screen_resolution</th>\n",
       "      <th>display_type</th>\n",
       "      <th>processor_speed</th>\n",
       "      <th>processor_brand</th>\n",
       "      <th>processor_type</th>\n",
       "      <th>ssd_storage</th>\n",
       "      <th>hdd_storage</th>\n",
       "      <th>flash_storage</th>\n",
       "      <th>ram</th>\n",
       "      <th>os</th>\n",
       "      <th>Price</th>\n",
       "    </tr>\n",
       "  </thead>\n",
       "  <tbody>\n",
       "    <tr>\n",
       "      <th>0</th>\n",
       "      <td>Apple</td>\n",
       "      <td>Ultrabook</td>\n",
       "      <td>13.3</td>\n",
       "      <td>1.37</td>\n",
       "      <td>2560x1600</td>\n",
       "      <td>Quad HD</td>\n",
       "      <td>2.3</td>\n",
       "      <td>Intel</td>\n",
       "      <td>Core i5</td>\n",
       "      <td>128</td>\n",
       "      <td>0</td>\n",
       "      <td>0</td>\n",
       "      <td>8</td>\n",
       "      <td>macos</td>\n",
       "      <td>71378.6832</td>\n",
       "    </tr>\n",
       "    <tr>\n",
       "      <th>1</th>\n",
       "      <td>Apple</td>\n",
       "      <td>Ultrabook</td>\n",
       "      <td>13.3</td>\n",
       "      <td>1.34</td>\n",
       "      <td>1440x900</td>\n",
       "      <td>HD</td>\n",
       "      <td>1.8</td>\n",
       "      <td>Intel</td>\n",
       "      <td>Core i5</td>\n",
       "      <td>0</td>\n",
       "      <td>0</td>\n",
       "      <td>128</td>\n",
       "      <td>8</td>\n",
       "      <td>macos</td>\n",
       "      <td>47895.5232</td>\n",
       "    </tr>\n",
       "    <tr>\n",
       "      <th>2</th>\n",
       "      <td>HP</td>\n",
       "      <td>Notebook</td>\n",
       "      <td>15.6</td>\n",
       "      <td>1.86</td>\n",
       "      <td>1920x1080</td>\n",
       "      <td>Full HD</td>\n",
       "      <td>2.5</td>\n",
       "      <td>Intel</td>\n",
       "      <td>Core i5 7200U</td>\n",
       "      <td>256</td>\n",
       "      <td>0</td>\n",
       "      <td>0</td>\n",
       "      <td>8</td>\n",
       "      <td>no</td>\n",
       "      <td>30636.0000</td>\n",
       "    </tr>\n",
       "    <tr>\n",
       "      <th>3</th>\n",
       "      <td>Apple</td>\n",
       "      <td>Ultrabook</td>\n",
       "      <td>15.4</td>\n",
       "      <td>1.83</td>\n",
       "      <td>2880x1800</td>\n",
       "      <td>Quad HD</td>\n",
       "      <td>2.7</td>\n",
       "      <td>Intel</td>\n",
       "      <td>Core i7</td>\n",
       "      <td>512</td>\n",
       "      <td>0</td>\n",
       "      <td>0</td>\n",
       "      <td>16</td>\n",
       "      <td>macos</td>\n",
       "      <td>135195.3360</td>\n",
       "    </tr>\n",
       "    <tr>\n",
       "      <th>4</th>\n",
       "      <td>Apple</td>\n",
       "      <td>Ultrabook</td>\n",
       "      <td>13.3</td>\n",
       "      <td>1.37</td>\n",
       "      <td>2560x1600</td>\n",
       "      <td>Quad HD</td>\n",
       "      <td>3.1</td>\n",
       "      <td>Intel</td>\n",
       "      <td>Core i5</td>\n",
       "      <td>256</td>\n",
       "      <td>0</td>\n",
       "      <td>0</td>\n",
       "      <td>8</td>\n",
       "      <td>macos</td>\n",
       "      <td>96095.8080</td>\n",
       "    </tr>\n",
       "    <tr>\n",
       "      <th>5</th>\n",
       "      <td>Acer</td>\n",
       "      <td>Notebook</td>\n",
       "      <td>15.6</td>\n",
       "      <td>2.1</td>\n",
       "      <td>1366x768</td>\n",
       "      <td>HD</td>\n",
       "      <td>3</td>\n",
       "      <td>AMD</td>\n",
       "      <td>A9-Series 9420</td>\n",
       "      <td>0</td>\n",
       "      <td>500</td>\n",
       "      <td>0</td>\n",
       "      <td>4</td>\n",
       "      <td>windows</td>\n",
       "      <td>21312.0000</td>\n",
       "    </tr>\n",
       "    <tr>\n",
       "      <th>6</th>\n",
       "      <td>Apple</td>\n",
       "      <td>Ultrabook</td>\n",
       "      <td>15.4</td>\n",
       "      <td>2.04</td>\n",
       "      <td>2880x1800</td>\n",
       "      <td>Quad HD</td>\n",
       "      <td>2.2</td>\n",
       "      <td>Intel</td>\n",
       "      <td>Core i7</td>\n",
       "      <td>0</td>\n",
       "      <td>0</td>\n",
       "      <td>256</td>\n",
       "      <td>16</td>\n",
       "      <td>mac</td>\n",
       "      <td>114017.6016</td>\n",
       "    </tr>\n",
       "    <tr>\n",
       "      <th>7</th>\n",
       "      <td>Apple</td>\n",
       "      <td>Ultrabook</td>\n",
       "      <td>13.3</td>\n",
       "      <td>1.34</td>\n",
       "      <td>1440x900</td>\n",
       "      <td>HD</td>\n",
       "      <td>1.8</td>\n",
       "      <td>Intel</td>\n",
       "      <td>Core i5</td>\n",
       "      <td>0</td>\n",
       "      <td>0</td>\n",
       "      <td>256</td>\n",
       "      <td>8</td>\n",
       "      <td>macos</td>\n",
       "      <td>61735.5360</td>\n",
       "    </tr>\n",
       "    <tr>\n",
       "      <th>8</th>\n",
       "      <td>Asus</td>\n",
       "      <td>Ultrabook</td>\n",
       "      <td>14</td>\n",
       "      <td>1.3</td>\n",
       "      <td>1920x1080</td>\n",
       "      <td>Full HD</td>\n",
       "      <td>1.8</td>\n",
       "      <td>Intel</td>\n",
       "      <td>Core i7 8550U</td>\n",
       "      <td>512</td>\n",
       "      <td>0</td>\n",
       "      <td>0</td>\n",
       "      <td>16</td>\n",
       "      <td>windows</td>\n",
       "      <td>79653.6000</td>\n",
       "    </tr>\n",
       "    <tr>\n",
       "      <th>9</th>\n",
       "      <td>Acer</td>\n",
       "      <td>Ultrabook</td>\n",
       "      <td>14</td>\n",
       "      <td>1.6</td>\n",
       "      <td>1920x1080</td>\n",
       "      <td>Full HD</td>\n",
       "      <td>1.6</td>\n",
       "      <td>Intel</td>\n",
       "      <td>Core i5 8250U</td>\n",
       "      <td>256</td>\n",
       "      <td>0</td>\n",
       "      <td>0</td>\n",
       "      <td>8</td>\n",
       "      <td>windows</td>\n",
       "      <td>41025.6000</td>\n",
       "    </tr>\n",
       "  </tbody>\n",
       "</table>\n",
       "</div>"
      ],
      "text/plain": [
       "  Company   TypeName Inches Weight screen_resolution display_type  \\\n",
       "0   Apple  Ultrabook   13.3   1.37         2560x1600      Quad HD   \n",
       "1   Apple  Ultrabook   13.3   1.34          1440x900           HD   \n",
       "2      HP   Notebook   15.6   1.86         1920x1080      Full HD   \n",
       "3   Apple  Ultrabook   15.4   1.83         2880x1800      Quad HD   \n",
       "4   Apple  Ultrabook   13.3   1.37         2560x1600      Quad HD   \n",
       "5    Acer   Notebook   15.6    2.1          1366x768           HD   \n",
       "6   Apple  Ultrabook   15.4   2.04         2880x1800      Quad HD   \n",
       "7   Apple  Ultrabook   13.3   1.34          1440x900           HD   \n",
       "8    Asus  Ultrabook     14    1.3         1920x1080      Full HD   \n",
       "9    Acer  Ultrabook     14    1.6         1920x1080      Full HD   \n",
       "\n",
       "  processor_speed processor_brand   processor_type ssd_storage hdd_storage  \\\n",
       "0             2.3           Intel          Core i5         128           0   \n",
       "1             1.8           Intel          Core i5           0           0   \n",
       "2             2.5           Intel    Core i5 7200U         256           0   \n",
       "3             2.7           Intel          Core i7         512           0   \n",
       "4             3.1           Intel          Core i5         256           0   \n",
       "5               3             AMD   A9-Series 9420           0         500   \n",
       "6             2.2           Intel          Core i7           0           0   \n",
       "7             1.8           Intel          Core i5           0           0   \n",
       "8             1.8           Intel    Core i7 8550U         512           0   \n",
       "9             1.6           Intel    Core i5 8250U         256           0   \n",
       "\n",
       "  flash_storage  ram       os        Price  \n",
       "0             0    8    macos   71378.6832  \n",
       "1           128    8    macos   47895.5232  \n",
       "2             0    8       no   30636.0000  \n",
       "3             0   16    macos  135195.3360  \n",
       "4             0    8    macos   96095.8080  \n",
       "5             0    4  windows   21312.0000  \n",
       "6           256   16      mac  114017.6016  \n",
       "7           256    8    macos   61735.5360  \n",
       "8             0   16  windows   79653.6000  \n",
       "9             0    8  windows   41025.6000  "
      ]
     },
     "execution_count": 164,
     "metadata": {},
     "output_type": "execute_result"
    }
   ],
   "source": [
    "clean_df.head(10)"
   ]
  },
  {
   "cell_type": "code",
   "execution_count": 165,
   "metadata": {
    "execution": {
     "iopub.execute_input": "2024-03-03T03:51:03.782694Z",
     "iopub.status.busy": "2024-03-03T03:51:03.781404Z",
     "iopub.status.idle": "2024-03-03T03:51:03.798117Z",
     "shell.execute_reply": "2024-03-03T03:51:03.796152Z",
     "shell.execute_reply.started": "2024-03-03T03:51:03.782648Z"
    },
    "trusted": true
   },
   "outputs": [],
   "source": [
    "clean_df.to_csv('laptop_clean_dataset.csv', index=False)"
   ]
  },
  {
   "cell_type": "markdown",
   "metadata": {},
   "source": [
    "### ***I've completed data cleaning for an uncleaned laptop price dataset. If you found my notebook helpful, I'd greatly appreciate an upvote. Feel free to leave any suggestions or feedback in the comment section. Thank you!***"
   ]
  }
 ],
 "metadata": {
  "kaggle": {
   "accelerator": "none",
   "dataSources": [
    {
     "datasetId": 2904981,
     "sourceId": 5006761,
     "sourceType": "datasetVersion"
    }
   ],
   "dockerImageVersionId": 30646,
   "isGpuEnabled": false,
   "isInternetEnabled": true,
   "language": "python",
   "sourceType": "notebook"
  },
  "kernelspec": {
   "display_name": "Python 3",
   "language": "python",
   "name": "python3"
  },
  "language_info": {
   "codemirror_mode": {
    "name": "ipython",
    "version": 3
   },
   "file_extension": ".py",
   "mimetype": "text/x-python",
   "name": "python",
   "nbconvert_exporter": "python",
   "pygments_lexer": "ipython3",
   "version": "3.12.7"
  }
 },
 "nbformat": 4,
 "nbformat_minor": 4
}
