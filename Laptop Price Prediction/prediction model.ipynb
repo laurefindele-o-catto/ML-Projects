{
 "cells": [
  {
   "cell_type": "code",
   "execution_count": 99,
   "id": "6b3b40ca",
   "metadata": {},
   "outputs": [],
   "source": [
    "import pandas as pd \n",
    "from sklearn.model_selection import train_test_split, KFold\n",
    "from sklearn.preprocessing import OneHotEncoder\n",
    "from sklearn.compose import ColumnTransformer\n",
    "import numpy as np\n",
    "from sklearn.linear_model import LinearRegression\n",
    "from sklearn.preprocessing import PolynomialFeatures\n",
    "import torch\n",
    "from torch.utils.data import Dataset, DataLoader, Subset"
   ]
  },
  {
   "cell_type": "code",
   "execution_count": 100,
   "id": "2537eaa2",
   "metadata": {},
   "outputs": [
    {
     "name": "stdout",
     "output_type": "stream",
     "text": [
      "Index(['Company', 'TypeName', 'Inches', 'Weight', 'screen_resolution',\n",
      "       'display_type', 'processor_speed', 'processor_brand', 'processor_type',\n",
      "       'ssd_storage', 'hdd_storage', 'flash_storage', 'ram', 'os', 'Price'],\n",
      "      dtype='object')\n",
      "Company               object\n",
      "TypeName              object\n",
      "Inches               float64\n",
      "Weight                object\n",
      "screen_resolution     object\n",
      "display_type          object\n",
      "processor_speed      float64\n",
      "processor_brand       object\n",
      "processor_type        object\n",
      "ssd_storage            int64\n",
      "hdd_storage           object\n",
      "flash_storage          int64\n",
      "ram                    int64\n",
      "os                    object\n",
      "Price                float64\n",
      "dtype: object\n"
     ]
    }
   ],
   "source": [
    "df = pd.read_csv('laptop_clean_dataset.csv')\n",
    "print(df.columns)\n",
    "print(df.dtypes)"
   ]
  },
  {
   "cell_type": "code",
   "execution_count": 101,
   "id": "f5c05601",
   "metadata": {},
   "outputs": [
    {
     "name": "stdout",
     "output_type": "stream",
     "text": [
      "  Company   TypeName  Inches Weight screen_resolution display_type  \\\n",
      "0   Apple  Ultrabook    13.3   1.37         2560x1600      Quad HD   \n",
      "1   Apple  Ultrabook    13.3   1.34          1440x900           HD   \n",
      "2      HP   Notebook    15.6   1.86         1920x1080      Full HD   \n",
      "3   Apple  Ultrabook    15.4   1.83         2880x1800      Quad HD   \n",
      "4   Apple  Ultrabook    13.3   1.37         2560x1600      Quad HD   \n",
      "\n",
      "   processor_speed processor_brand  processor_type  ssd_storage hdd_storage  \\\n",
      "0              2.3           Intel         Core i5          128           0   \n",
      "1              1.8           Intel         Core i5            0           0   \n",
      "2              2.5           Intel   Core i5 7200U          256           0   \n",
      "3              2.7           Intel         Core i7          512           0   \n",
      "4              3.1           Intel         Core i5          256           0   \n",
      "\n",
      "   flash_storage  ram     os        Price  \n",
      "0              0    8  macos   71378.6832  \n",
      "1            128    8  macos   47895.5232  \n",
      "2              0    8     no   30636.0000  \n",
      "3              0   16  macos  135195.3360  \n",
      "4              0    8  macos   96095.8080  \n"
     ]
    }
   ],
   "source": [
    "print(df.head())"
   ]
  },
  {
   "cell_type": "markdown",
   "id": "88a1c8ec",
   "metadata": {},
   "source": [
    "Weight and hdd storage have to converted to float data type. And one hot encoding has to performed on processor_type, typename, display_type, processor_brand, ram etc."
   ]
  },
  {
   "cell_type": "code",
   "execution_count": 102,
   "id": "e9abcf81",
   "metadata": {},
   "outputs": [],
   "source": [
    "df['Weight']= pd.to_numeric(df['Weight'], errors='coerce').astype('float64')\n",
    "df['Weight']=df['Weight'].fillna(1.18)"
   ]
  },
  {
   "cell_type": "code",
   "execution_count": 103,
   "id": "ab6c865b",
   "metadata": {},
   "outputs": [
    {
     "data": {
      "text/plain": [
       "array(['0', '500', '1TB', '2TB', '1TB 1TB', '32', '128', '0TB'],\n",
       "      dtype=object)"
      ]
     },
     "execution_count": 103,
     "metadata": {},
     "output_type": "execute_result"
    }
   ],
   "source": [
    "df['hdd_storage'].unique()"
   ]
  },
  {
   "cell_type": "code",
   "execution_count": 104,
   "id": "e05d88f6",
   "metadata": {},
   "outputs": [],
   "source": [
    "import re\n",
    "\n",
    "def convert_hdd_to_gb(val):\n",
    "    if pd.isna(val):  # handle NaN\n",
    "        return 0\n",
    "    # convert TB to GB\n",
    "    if 'TB' in val:\n",
    "        nums = re.findall(r'(\\d+)TB', val)\n",
    "        return sum(int(n)*1024 for n in nums)  # multiple TBs\n",
    "    # Handle GB\n",
    "    elif 'GB' in val:\n",
    "        nums = re.findall(r'(\\d+)GB', val)\n",
    "        return sum(int(n) for n in nums)\n",
    "    elif val.isdigit():\n",
    "        return int(val)\n",
    "    return 0\n",
    "\n",
    "df['hdd_storage'] = df['hdd_storage'].astype(str).apply(convert_hdd_to_gb)\n"
   ]
  },
  {
   "cell_type": "code",
   "execution_count": 105,
   "id": "24243fbe",
   "metadata": {},
   "outputs": [
    {
     "name": "stdout",
     "output_type": "stream",
     "text": [
      "int64\n"
     ]
    }
   ],
   "source": [
    "print(df['hdd_storage'].dtype)"
   ]
  },
  {
   "cell_type": "code",
   "execution_count": 106,
   "id": "2998676a",
   "metadata": {},
   "outputs": [
    {
     "data": {
      "text/plain": [
       "array(['Quad HD', 'HD', 'Full HD', '4K'], dtype=object)"
      ]
     },
     "execution_count": 106,
     "metadata": {},
     "output_type": "execute_result"
    }
   ],
   "source": [
    "\n",
    "df['display_type'].unique()"
   ]
  },
  {
   "cell_type": "code",
   "execution_count": 107,
   "id": "3028cf26",
   "metadata": {},
   "outputs": [
    {
     "data": {
      "text/plain": [
       "array(['Intel', 'AMD', 'Samsung'], dtype=object)"
      ]
     },
     "execution_count": 107,
     "metadata": {},
     "output_type": "execute_result"
    }
   ],
   "source": [
    "\n",
    "df['processor_brand'].unique()\n",
    "#df['screen_resolution'].unique()"
   ]
  },
  {
   "cell_type": "code",
   "execution_count": 108,
   "id": "6343bf52",
   "metadata": {},
   "outputs": [
    {
     "data": {
      "text/plain": [
       "array([' Core i5', ' Core i5 7200U', ' Core i7', ' A9-Series 9420',\n",
       "       ' Core i7 8550U', ' Core i5 8250U', ' Core i3 6006U', ' Core M m3',\n",
       "       ' Core i7 7500U', ' Core i3 7100U', ' Core i5 7300HQ',\n",
       "       ' E-Series E2-9000e', ' Core i7 8650U', ' Atom x5-Z8300',\n",
       "       ' E-Series E2-6110', ' A6-Series 9220', ' Celeron Dual Core N3350',\n",
       "       ' Core i3 7130U', ' Core i7 7700HQ', ' Ryzen 1700',\n",
       "       ' Pentium Quad Core N4200', ' Celeron Dual Core N3060',\n",
       "       ' FX 9830P', ' Core i7 7560U', ' E-Series 6110', ' Core i5 6200U',\n",
       "       ' Core M 6Y75', ' Core i5 7500U', ' Core i7 6920HQ',\n",
       "       ' Core i5 7Y54', ' Core i7 7820HK', ' Xeon E3-1505M V6',\n",
       "       ' Core i7 6500U', ' E-Series 9000e', ' A10-Series A10-9620P',\n",
       "       ' A6-Series A6-9220', ' Core i7 6600U', ' Celeron Dual Core 3205U',\n",
       "       ' Core i7 7820HQ', ' A10-Series 9600P', ' Core i7 7600U',\n",
       "       ' A8-Series 7410', ' Celeron Dual Core 3855U',\n",
       "       ' Pentium Quad Core N3710', ' A12-Series 9720P', ' Core i5 7300U',\n",
       "       ' Celeron Quad Core N3450', ' Core i5 6440HQ', ' Core i7 6820HQ',\n",
       "       ' Ryzen 1600', ' Core i7 7Y75', ' Core i5 7440HQ',\n",
       "       ' Core i7 7660U', ' Core M m3-7Y30', ' Core i5 7Y57',\n",
       "       ' Core i7 6700HQ', ' Core i3 6100U', ' Atom x5-Z8350',\n",
       "       ' A10-Series 9620P', ' E-Series 7110', ' A9-Series A9-9420',\n",
       "       ' Core i7 6820HK', ' Core M 7Y30', ' Xeon E3-1535M v6',\n",
       "       ' Celeron Quad Core N3160', ' Core i5 6300U', ' E-Series E2-9000',\n",
       "       ' Celeron Dual Core N3050', ' Core M M3-6Y30', ' Core i5 6300HQ',\n",
       "       ' A6-Series 7310', ' Atom Z8350', ' Xeon E3-1535M v5',\n",
       "       ' Core i5 6260U', ' Pentium Dual Core N4200',\n",
       "       ' Celeron Quad Core N3710', ' Core M', ' A12-Series 9700P',\n",
       "       ' Pentium Dual Core 4405U', ' A4-Series 7210', ' Core i7 6560U',\n",
       "       ' Core M m7-6Y75', ' FX 8800P', ' Core M M7-6Y75',\n",
       "       ' Atom X5-Z8350', ' Atom x5-Z8550', ' Pentium Dual Core 4405Y',\n",
       "       ' Pentium Quad Core N3700', ' Core M 6Y54', ' Cortex A72&A53',\n",
       "       ' E-Series 9000', ' Core M 6Y30', ' A9-Series 9410'], dtype=object)"
      ]
     },
     "execution_count": 108,
     "metadata": {},
     "output_type": "execute_result"
    }
   ],
   "source": [
    "df['processor_type'].unique()"
   ]
  },
  {
   "cell_type": "code",
   "execution_count": 109,
   "id": "c8af3d07",
   "metadata": {},
   "outputs": [
    {
     "data": {
      "text/plain": [
       "array(['Apple', 'HP', 'Acer', 'Asus', 'Dell', 'Lenovo', 'Chuwi', 'MSI',\n",
       "       'Microsoft', 'Toshiba', 'Huawei', 'Xiaomi', 'Razer', 'Mediacom',\n",
       "       'Samsung', 'Google', 'Fujitsu', 'LG'], dtype=object)"
      ]
     },
     "execution_count": 109,
     "metadata": {},
     "output_type": "execute_result"
    }
   ],
   "source": [
    "df['Company'].unique()"
   ]
  },
  {
   "cell_type": "code",
   "execution_count": 110,
   "id": "c59f7b04",
   "metadata": {},
   "outputs": [
    {
     "data": {
      "text/plain": [
       "array(['Ultrabook', 'Notebook', 'Gaming', '2 in 1 Convertible',\n",
       "       'Workstation'], dtype=object)"
      ]
     },
     "execution_count": 110,
     "metadata": {},
     "output_type": "execute_result"
    }
   ],
   "source": [
    "df['TypeName'].unique()"
   ]
  },
  {
   "cell_type": "code",
   "execution_count": 111,
   "id": "9dc96cf3",
   "metadata": {},
   "outputs": [
    {
     "name": "stdout",
     "output_type": "stream",
     "text": [
      "(1243, 45)\n",
      "      Inches  Weight screen_resolution  processor_speed  \\\n",
      "0       13.3    1.37         2560x1600              2.3   \n",
      "1       13.3    1.34          1440x900              1.8   \n",
      "2       15.6    1.86         1920x1080              2.5   \n",
      "3       15.4    1.83         2880x1800              2.7   \n",
      "4       13.3    1.37         2560x1600              3.1   \n",
      "...      ...     ...               ...              ...   \n",
      "1238    15.6    2.20          1366x768              2.5   \n",
      "1239    14.0    1.80         1920x1080              2.5   \n",
      "1240    13.3    1.30         3200x1800              2.5   \n",
      "1241    14.0    1.50          1366x768              1.6   \n",
      "1242    15.6    2.19          1366x768              2.5   \n",
      "\n",
      "                processor_type  ssd_storage  hdd_storage  flash_storage  ram  \\\n",
      "0                      Core i5          128            0              0    8   \n",
      "1                      Core i5            0            0            128    8   \n",
      "2                Core i5 7200U          256            0              0    8   \n",
      "3                      Core i7          512            0              0   16   \n",
      "4                      Core i5          256            0              0    8   \n",
      "...                        ...          ...          ...            ...  ...   \n",
      "1238             Core i7 6500U            0          500              0    4   \n",
      "1239             Core i7 6500U          128            0              0    4   \n",
      "1240             Core i7 6500U          512            0              0   16   \n",
      "1241   Celeron Dual Core N3050            0            0             64    2   \n",
      "1242             Core i7 6500U            0         1024              0    6   \n",
      "\n",
      "      Company_Acer  ...  display_type_Quad HD  processor_brand_AMD  \\\n",
      "0                0  ...                     1                    0   \n",
      "1                0  ...                     0                    0   \n",
      "2                0  ...                     0                    0   \n",
      "3                0  ...                     1                    0   \n",
      "4                0  ...                     1                    0   \n",
      "...            ...  ...                   ...                  ...   \n",
      "1238             0  ...                     0                    0   \n",
      "1239             0  ...                     0                    0   \n",
      "1240             0  ...                     1                    0   \n",
      "1241             0  ...                     0                    0   \n",
      "1242             0  ...                     0                    0   \n",
      "\n",
      "      processor_brand_Intel  processor_brand_Samsung  os_chrome  os_linux  \\\n",
      "0                         1                        0          0         0   \n",
      "1                         1                        0          0         0   \n",
      "2                         1                        0          0         0   \n",
      "3                         1                        0          0         0   \n",
      "4                         1                        0          0         0   \n",
      "...                     ...                      ...        ...       ...   \n",
      "1238                      1                        0          0         0   \n",
      "1239                      1                        0          0         0   \n",
      "1240                      1                        0          0         0   \n",
      "1241                      1                        0          0         0   \n",
      "1242                      1                        0          0         0   \n",
      "\n",
      "      os_mac  os_macos  os_no  os_windows  \n",
      "0          0         1      0           0  \n",
      "1          0         1      0           0  \n",
      "2          0         0      1           0  \n",
      "3          0         1      0           0  \n",
      "4          0         1      0           0  \n",
      "...      ...       ...    ...         ...  \n",
      "1238       0         0      0           1  \n",
      "1239       0         0      0           1  \n",
      "1240       0         0      0           1  \n",
      "1241       0         0      0           1  \n",
      "1242       0         0      0           1  \n",
      "\n",
      "[1243 rows x 45 columns]\n",
      "(1243, 45)   (1243,)\n"
     ]
    }
   ],
   "source": [
    "categorical_cols = ['Company','TypeName','display_type','processor_brand','os']\n",
    "numeric_cols = ['Inches','Weight','processor_speed','ssd_storage','hdd_storage','flash_storage','ram','Price']\n",
    "\n",
    "\n",
    "Y = df['Price']\n",
    "X = pd.get_dummies(df, columns=categorical_cols, dtype=int)\n",
    "X.drop(columns=['Price'], inplace=True)\n",
    "print(X.shape)\n",
    "print(X)\n",
    "print(X.shape, ' ', Y.shape)"
   ]
  },
  {
   "cell_type": "code",
   "execution_count": 112,
   "id": "6516e551",
   "metadata": {},
   "outputs": [
    {
     "data": {
      "text/plain": [
       "array([4096000, 1296000, 2073600, 5184000, 1049088, 3317760, 5760000,\n",
       "       3393024, 8294400, 3110400, 1440000, 3686400, 4990464, 3840000,\n",
       "       2304000])"
      ]
     },
     "execution_count": 112,
     "metadata": {},
     "output_type": "execute_result"
    }
   ],
   "source": [
    "def resolution_to_pixels(res):\n",
    "    if pd.isna(res): return 0\n",
    "    try:\n",
    "        w, h = res.split('x')\n",
    "        return int(w) * int(h)\n",
    "    except:\n",
    "        return 0\n",
    "\n",
    "df['total_pixels'] = df['screen_resolution'].apply(resolution_to_pixels)\n",
    "df['total_pixels'].unique()"
   ]
  },
  {
   "cell_type": "code",
   "execution_count": 113,
   "id": "81ca7b7c",
   "metadata": {},
   "outputs": [],
   "source": [
    "sr = df['screen_resolution']\n",
    "X.drop(columns=['screen_resolution'], inplace=True)\n",
    "X = pd.concat([X, df['total_pixels']], axis=1)"
   ]
  },
  {
   "cell_type": "code",
   "execution_count": 114,
   "id": "38dfc8ef",
   "metadata": {},
   "outputs": [
    {
     "name": "stdout",
     "output_type": "stream",
     "text": [
      "Index(['Inches', 'Weight', 'processor_speed', 'processor_type', 'ssd_storage',\n",
      "       'hdd_storage', 'flash_storage', 'ram', 'Company_Acer', 'Company_Apple',\n",
      "       'Company_Asus', 'Company_Chuwi', 'Company_Dell', 'Company_Fujitsu',\n",
      "       'Company_Google', 'Company_HP', 'Company_Huawei', 'Company_LG',\n",
      "       'Company_Lenovo', 'Company_MSI', 'Company_Mediacom',\n",
      "       'Company_Microsoft', 'Company_Razer', 'Company_Samsung',\n",
      "       'Company_Toshiba', 'Company_Xiaomi', 'TypeName_2 in 1 Convertible',\n",
      "       'TypeName_Gaming', 'TypeName_Notebook', 'TypeName_Ultrabook',\n",
      "       'TypeName_Workstation', 'display_type_4K', 'display_type_Full HD',\n",
      "       'display_type_HD', 'display_type_Quad HD', 'processor_brand_AMD',\n",
      "       'processor_brand_Intel', 'processor_brand_Samsung', 'os_chrome',\n",
      "       'os_linux', 'os_mac', 'os_macos', 'os_no', 'os_windows',\n",
      "       'total_pixels'],\n",
      "      dtype='object')\n",
      "0    4096000\n",
      "1    1296000\n",
      "2    2073600\n",
      "3    5184000\n",
      "4    4096000\n",
      "Name: total_pixels, dtype: int64\n"
     ]
    }
   ],
   "source": [
    "print(X.columns)\n",
    "print(X['total_pixels'].head())"
   ]
  },
  {
   "cell_type": "code",
   "execution_count": 115,
   "id": "0af2f72a",
   "metadata": {},
   "outputs": [],
   "source": [
    "import torch.nn as nn\n",
    "from torch.utils.data import Dataset, DataLoader\n",
    "from sklearn.preprocessing import StandardScaler\n",
    "\n",
    "#processor_type -> integer indices (reserve 0 for unknown)\n",
    "\n",
    "proc_series = df['processor_type'].fillna('Unknown').astype(str)\n",
    "unique_procs = proc_series.unique().tolist()  \n",
    "#get a list of all unique processor types\n",
    "\n",
    "proc2idx = {p: i+1 for i, p in enumerate(unique_procs)}   # index 0 = unknown\n",
    "#Build a dictionary that maps each unique processor type to an integer ID starting from 1\n",
    "\n",
    "df['proc_idx'] = proc_series.map(lambda x: proc2idx.get(x, 0)).astype(int)\n",
    "\n",
    "num_proc_categories = len(proc2idx) + 1  # +1 for index 0"
   ]
  },
  {
   "cell_type": "code",
   "execution_count": 116,
   "id": "62e119e4",
   "metadata": {},
   "outputs": [],
   "source": [
    "X.drop(columns=['processor_type'], inplace=True)"
   ]
  },
  {
   "cell_type": "code",
   "execution_count": 117,
   "id": "d6aed4ee",
   "metadata": {},
   "outputs": [],
   "source": [
    "scaler = StandardScaler()\n",
    "X_train_scaled = scaler.fit_transform(X_train)\n",
    "X_test_scaled = scaler.transform(X_test)"
   ]
  },
  {
   "cell_type": "code",
   "execution_count": 118,
   "id": "334b982e",
   "metadata": {},
   "outputs": [],
   "source": [
    "class LaptopDataset(Dataset):\n",
    "    def __init__(self, numeric_array, proc_idx_array, y_array):\n",
    "        self.numeric = torch.from_numpy(numeric_array).float()\n",
    "        self.proc_idx = torch.from_numpy(proc_idx_array).long()\n",
    "        self.y = torch.from_numpy(y_array).float()\n",
    "    def __len__(self):\n",
    "        return len(self.y)\n",
    "    def __getitem__(self, idx):\n",
    "        return self.numeric[idx], self.proc_idx[idx], self.y[idx]\n",
    "\n",
    "\n",
    "#dataset is a protocol (like an interface). I have to implement _len_ and _getitem_\n",
    "#self.numeric converts numpy array into a pytorch FloatTensor "
   ]
  },
  {
   "cell_type": "code",
   "execution_count": 119,
   "id": "ad0a89eb",
   "metadata": {},
   "outputs": [],
   "source": [
    "class TabularEmbeddingModel(nn.Module):\n",
    "    def __init__(self, num_proc_categories, emb_dim, num_numeric, hidden_layers=[128,64], dropout=0.2):\n",
    "        super().__init__()\n",
    "        self.embedding = nn.Embedding(num_proc_categories, emb_dim, padding_idx=0)\n",
    "        input_dim = emb_dim + num_numeric\n",
    "        layers = []\n",
    "        in_dim = input_dim\n",
    "        for h in hidden_layers:\n",
    "            layers.append(nn.Linear(in_dim, h))\n",
    "            layers.append(nn.ReLU())\n",
    "            layers.append(nn.Dropout(dropout))\n",
    "            in_dim = h\n",
    "        layers.append(nn.Linear(in_dim, 1))\n",
    "        self.net = nn.Sequential(*layers)\n",
    "    def forward(self, numeric, proc_idx):\n",
    "        emb = self.embedding(proc_idx)\n",
    "        x = torch.cat([numeric, emb], dim=1)\n",
    "        return self.net(x)\n"
   ]
  },
  {
   "cell_type": "code",
   "execution_count": 120,
   "id": "a9b82779",
   "metadata": {},
   "outputs": [],
   "source": [
    "# K-Fold parameters\n",
    "k = 8\n",
    "kf = KFold(n_splits=k, shuffle=True, random_state=2)\n",
    "\n",
    "device = torch.device(\"cuda\" if torch.cuda.is_available() else \"cpu\")"
   ]
  },
  {
   "cell_type": "code",
   "execution_count": 121,
   "id": "f04b8948",
   "metadata": {},
   "outputs": [],
   "source": [
    "# Convert DataFrame and columns to numpy arrays (safe copies)\n",
    "X_values = X.values.astype(np.float32)           # shape (N, num_features)\n",
    "proc_idx_array = df['proc_idx'].values.astype(np.int64)  # (N,)\n",
    "y_array = df['Price'].values.astype(np.float32).reshape(-1, 1)  # (N,1)"
   ]
  },
  {
   "cell_type": "code",
   "execution_count": 122,
   "id": "af70f835",
   "metadata": {},
   "outputs": [],
   "source": [
    "def train_one_epoch(model, loader, optimizer, criterion, device):\n",
    "    model.train()\n",
    "    total_loss = 0.0\n",
    "    for X_num, proc_idx_batch, y_batch in loader:\n",
    "        X_num, proc_idx_batch, y_batch = X_num.to(device), proc_idx_batch.to(device), y_batch.to(device)\n",
    "        optimizer.zero_grad()\n",
    "        preds = model(X_num, proc_idx_batch)\n",
    "        loss = criterion(preds, y_batch)\n",
    "        loss.backward()\n",
    "        optimizer.step()\n",
    "        total_loss += loss.item() * X_num.size(0)\n",
    "    return total_loss / len(loader.dataset)\n"
   ]
  },
  {
   "cell_type": "code",
   "execution_count": 123,
   "id": "f81151f1",
   "metadata": {},
   "outputs": [],
   "source": [
    "def evaluate_model(model, val_dl, loss_fn, device):\n",
    "    model.eval()\n",
    "    total_loss = 0\n",
    "    preds_all, y_all = [], []\n",
    "    with torch.no_grad():\n",
    "        for numeric, proc_idx, y in val_dl:\n",
    "            numeric, proc_idx, y = numeric.to(device), proc_idx.to(device), y.to(device)\n",
    "            preds = model(numeric, proc_idx).squeeze(1)\n",
    "            loss = loss_fn(preds, y)\n",
    "            total_loss += loss.item() * len(y)\n",
    "\n",
    "            preds_all.extend(preds.cpu().numpy())\n",
    "            y_all.extend(y.cpu().numpy())\n",
    "\n",
    "    avg_loss = total_loss / len(val_dl.dataset)\n",
    "    rmse = np.sqrt(avg_loss)\n",
    "    return rmse, np.array(preds_all), np.array(y_all)"
   ]
  },
  {
   "cell_type": "code",
   "execution_count": 124,
   "id": "0f6487e7",
   "metadata": {},
   "outputs": [
    {
     "name": "stdout",
     "output_type": "stream",
     "text": [
      "\n",
      "===== Fold 1/8 =====\n"
     ]
    },
    {
     "name": "stderr",
     "output_type": "stream",
     "text": [
      "c:\\Users\\jahan\\AppData\\Local\\Programs\\Python\\Python312\\Lib\\site-packages\\torch\\nn\\modules\\loss.py:616: UserWarning: Using a target size (torch.Size([32, 1])) that is different to the input size (torch.Size([32])). This will likely lead to incorrect results due to broadcasting. Please ensure they have the same size.\n",
      "  return F.mse_loss(input, target, reduction=self.reduction)\n",
      "c:\\Users\\jahan\\AppData\\Local\\Programs\\Python\\Python312\\Lib\\site-packages\\torch\\nn\\modules\\loss.py:616: UserWarning: Using a target size (torch.Size([4, 1])) that is different to the input size (torch.Size([4])). This will likely lead to incorrect results due to broadcasting. Please ensure they have the same size.\n",
      "  return F.mse_loss(input, target, reduction=self.reduction)\n"
     ]
    },
    {
     "name": "stdout",
     "output_type": "stream",
     "text": [
      "Fold 1 RMSE: 53033.8941\n",
      "\n",
      "===== Fold 2/8 =====\n",
      "Fold 2 RMSE: 47121.8141\n",
      "\n",
      "===== Fold 3/8 =====\n",
      "Fold 3 RMSE: 48899.9691\n",
      "\n",
      "===== Fold 4/8 =====\n",
      "Fold 4 RMSE: 52523.3511\n",
      "\n",
      "===== Fold 5/8 =====\n",
      "Fold 5 RMSE: 51561.5905\n",
      "\n",
      "===== Fold 6/8 =====\n",
      "Fold 6 RMSE: 42753.4144\n",
      "\n",
      "===== Fold 7/8 =====\n",
      "Fold 7 RMSE: 46591.1017\n",
      "\n",
      "===== Fold 8/8 =====\n",
      "Fold 8 RMSE: 42732.5182\n",
      "\n",
      "==== Final Cross-Validation Results ====\n",
      "Fold 1: 53033.8941\n",
      "Fold 2: 47121.8141\n",
      "Fold 3: 48899.9691\n",
      "Fold 4: 52523.3511\n",
      "Fold 5: 51561.5905\n",
      "Fold 6: 42753.4144\n",
      "Fold 7: 46591.1017\n",
      "Fold 8: 42732.5182\n",
      "Average RMSE: 48152.2067\n"
     ]
    }
   ],
   "source": [
    "from torch.utils.data import Subset\n",
    "\n",
    "\n",
    "fold_rmse_scores = []\n",
    "\n",
    "for fold, (train_idx, val_idx) in enumerate(kf.split(X_train)):\n",
    "    print(f\"\\n===== Fold {fold+1}/{k} =====\")\n",
    "\n",
    "    train_subset = LaptopDataset(X_train.iloc[train_idx].to_numpy(),\n",
    "                                 proc_train[train_idx],\n",
    "                                 Y_train[train_idx])\n",
    "    val_subset = LaptopDataset(X_train.iloc[val_idx].to_numpy(),\n",
    "                               proc_train[val_idx],\n",
    "                               Y_train[val_idx])\n",
    "\n",
    "    train_dl = DataLoader(train_subset, batch_size=32, shuffle=True)\n",
    "    val_dl = DataLoader(val_subset, batch_size=32, shuffle=False)\n",
    "\n",
    "    # Fresh model per fold\n",
    "    model = TabularEmbeddingModel(num_proc_categories=num_proc_categories,\n",
    "                                  emb_dim=8,   # embedding dimension choice\n",
    "                                  num_numeric=X_train.shape[1],\n",
    "                                  hidden_layers=[128, 64],\n",
    "                                  dropout=0.2).to(device)\n",
    "\n",
    "    optimizer = torch.optim.Adam(model.parameters(), lr=1e-3)\n",
    "    loss_fn = nn.MSELoss()\n",
    "\n",
    "    best_val = float(\"inf\")\n",
    "    patience, no_improve = 20, 0\n",
    "    best_state = None\n",
    "\n",
    "    for epoch in range(500):\n",
    "        train_loss = train_one_epoch(model, train_dl, optimizer, loss_fn, device)\n",
    "        val_rmse, _, _ = evaluate_model(model, val_dl, loss_fn, device)\n",
    "\n",
    "        if val_rmse < best_val - 1e-4:\n",
    "            best_val = val_rmse\n",
    "            best_state = {k: v.cpu().clone() for k, v in model.state_dict().items()}\n",
    "            no_improve = 0\n",
    "        else:\n",
    "            no_improve += 1\n",
    "            if no_improve >= patience:\n",
    "                break\n",
    "\n",
    "    # Load best weights\n",
    "    if best_state is not None:\n",
    "        model.load_state_dict(best_state)\n",
    "\n",
    "    print(f\"Fold {fold+1} RMSE: {best_val:.4f}\")\n",
    "    fold_rmse_scores.append(best_val)\n",
    "\n",
    "print(\"\\n==== Final Cross-Validation Results ====\")\n",
    "for i, score in enumerate(fold_rmse_scores, 1):\n",
    "    print(f\"Fold {i}: {score:.4f}\")\n",
    "print(f\"Average RMSE: {np.mean(fold_rmse_scores):.4f}\")\n"
   ]
  }
 ],
 "metadata": {
  "kernelspec": {
   "display_name": "Python 3",
   "language": "python",
   "name": "python3"
  },
  "language_info": {
   "codemirror_mode": {
    "name": "ipython",
    "version": 3
   },
   "file_extension": ".py",
   "mimetype": "text/x-python",
   "name": "python",
   "nbconvert_exporter": "python",
   "pygments_lexer": "ipython3",
   "version": "3.12.7"
  }
 },
 "nbformat": 4,
 "nbformat_minor": 5
}
